{
 "cells": [
  {
   "cell_type": "code",
   "execution_count": 1,
   "id": "202b1a8c-9503-492e-819c-1f564d40ca03",
   "metadata": {
    "tags": []
   },
   "outputs": [],
   "source": [
    "import numpy as np\n",
    "import pandas as pd\n",
    "import matplotlib.pyplot as plt\n",
    "import seaborn as sns"
   ]
  },
  {
   "cell_type": "code",
   "execution_count": 2,
   "id": "f5c3c1ba-8f19-4d20-b01e-2e3c3487edf6",
   "metadata": {
    "tags": []
   },
   "outputs": [],
   "source": [
    "import warnings\n",
    "warnings.filterwarnings('ignore')"
   ]
  },
  {
   "cell_type": "code",
   "execution_count": 3,
   "id": "a0ede7ab-51f6-434b-853d-738faec0717a",
   "metadata": {
    "tags": []
   },
   "outputs": [],
   "source": [
    "df = pd.read_csv('Citations_2000-2010 part 2.csv')"
   ]
  },
  {
   "cell_type": "code",
   "execution_count": 4,
   "id": "aa6848f7-0843-49ad-8c5a-3fe3a07d7fe0",
   "metadata": {
    "tags": []
   },
   "outputs": [
    {
     "data": {
      "text/html": [
       "<div>\n",
       "<style scoped>\n",
       "    .dataframe tbody tr th:only-of-type {\n",
       "        vertical-align: middle;\n",
       "    }\n",
       "\n",
       "    .dataframe tbody tr th {\n",
       "        vertical-align: top;\n",
       "    }\n",
       "\n",
       "    .dataframe thead th {\n",
       "        text-align: right;\n",
       "    }\n",
       "</style>\n",
       "<table border=\"1\" class=\"dataframe\">\n",
       "  <thead>\n",
       "    <tr style=\"text-align: right;\">\n",
       "      <th></th>\n",
       "      <th>Unnamed: 0</th>\n",
       "      <th>patent</th>\n",
       "      <th>citation</th>\n",
       "      <th>cit_date</th>\n",
       "      <th>cit_name</th>\n",
       "      <th>cit_kind</th>\n",
       "      <th>cit_country</th>\n",
       "      <th>category</th>\n",
       "      <th>citseq</th>\n",
       "    </tr>\n",
       "  </thead>\n",
       "  <tbody>\n",
       "    <tr>\n",
       "      <th>0</th>\n",
       "      <td>0</td>\n",
       "      <td>7134641</td>\n",
       "      <td>2796148.0</td>\n",
       "      <td>1957-06-00</td>\n",
       "      <td>St. Clair</td>\n",
       "      <td>A</td>\n",
       "      <td>US</td>\n",
       "      <td>cited by examiner</td>\n",
       "      <td>2.0</td>\n",
       "    </tr>\n",
       "    <tr>\n",
       "      <th>1</th>\n",
       "      <td>1</td>\n",
       "      <td>7134641</td>\n",
       "      <td>3387621.0</td>\n",
       "      <td>1968-06-00</td>\n",
       "      <td>Schaff</td>\n",
       "      <td>A</td>\n",
       "      <td>US</td>\n",
       "      <td>cited by examiner</td>\n",
       "      <td>3.0</td>\n",
       "    </tr>\n",
       "    <tr>\n",
       "      <th>2</th>\n",
       "      <td>2</td>\n",
       "      <td>7134641</td>\n",
       "      <td>4025048.0</td>\n",
       "      <td>1977-05-00</td>\n",
       "      <td>Tibbitts</td>\n",
       "      <td>A</td>\n",
       "      <td>US</td>\n",
       "      <td>cited by examiner</td>\n",
       "      <td>4.0</td>\n",
       "    </tr>\n",
       "    <tr>\n",
       "      <th>3</th>\n",
       "      <td>3</td>\n",
       "      <td>7134641</td>\n",
       "      <td>4078763.0</td>\n",
       "      <td>1978-03-00</td>\n",
       "      <td>Yamamoto</td>\n",
       "      <td>A</td>\n",
       "      <td>US</td>\n",
       "      <td>cited by other</td>\n",
       "      <td>5.0</td>\n",
       "    </tr>\n",
       "    <tr>\n",
       "      <th>4</th>\n",
       "      <td>4</td>\n",
       "      <td>7134641</td>\n",
       "      <td>4470577.0</td>\n",
       "      <td>1984-09-00</td>\n",
       "      <td>Warwick</td>\n",
       "      <td>A</td>\n",
       "      <td>US</td>\n",
       "      <td>cited by examiner</td>\n",
       "      <td>6.0</td>\n",
       "    </tr>\n",
       "  </tbody>\n",
       "</table>\n",
       "</div>"
      ],
      "text/plain": [
       "   Unnamed: 0   patent   citation    cit_date   cit_name cit_kind cit_country   \n",
       "0           0  7134641  2796148.0  1957-06-00  St. Clair        A          US  \\\n",
       "1           1  7134641  3387621.0  1968-06-00     Schaff        A          US   \n",
       "2           2  7134641  4025048.0  1977-05-00   Tibbitts        A          US   \n",
       "3           3  7134641  4078763.0  1978-03-00   Yamamoto        A          US   \n",
       "4           4  7134641  4470577.0  1984-09-00    Warwick        A          US   \n",
       "\n",
       "            category  citseq  \n",
       "0  cited by examiner     2.0  \n",
       "1  cited by examiner     3.0  \n",
       "2  cited by examiner     4.0  \n",
       "3     cited by other     5.0  \n",
       "4  cited by examiner     6.0  "
      ]
     },
     "execution_count": 4,
     "metadata": {},
     "output_type": "execute_result"
    }
   ],
   "source": [
    "df.head()"
   ]
  },
  {
   "cell_type": "code",
   "execution_count": 5,
   "id": "1e17c757-02af-4cce-89bb-4025b57d618c",
   "metadata": {
    "tags": []
   },
   "outputs": [
    {
     "name": "stdout",
     "output_type": "stream",
     "text": [
      "<class 'pandas.core.frame.DataFrame'>\n",
      "RangeIndex: 13569764 entries, 0 to 13569763\n",
      "Data columns (total 9 columns):\n",
      " #   Column       Dtype  \n",
      "---  ------       -----  \n",
      " 0   Unnamed: 0   int64  \n",
      " 1   patent       int64  \n",
      " 2   citation     float64\n",
      " 3   cit_date     object \n",
      " 4   cit_name     object \n",
      " 5   cit_kind     object \n",
      " 6   cit_country  object \n",
      " 7   category     object \n",
      " 8   citseq       float64\n",
      "dtypes: float64(2), int64(2), object(5)\n",
      "memory usage: 931.8+ MB\n"
     ]
    }
   ],
   "source": [
    "df.info()"
   ]
  },
  {
   "cell_type": "code",
   "execution_count": 6,
   "id": "57651b2b-bc12-43f3-8393-3db7a2b6562f",
   "metadata": {
    "tags": []
   },
   "outputs": [
    {
     "data": {
      "text/plain": [
       "Unnamed: 0          0\n",
       "patent              0\n",
       "citation            0\n",
       "cit_date            0\n",
       "cit_name       821392\n",
       "cit_kind       478295\n",
       "cit_country         4\n",
       "category            4\n",
       "citseq              4\n",
       "dtype: int64"
      ]
     },
     "execution_count": 6,
     "metadata": {},
     "output_type": "execute_result"
    }
   ],
   "source": [
    "df.isnull().sum()"
   ]
  },
  {
   "cell_type": "code",
   "execution_count": 7,
   "id": "8b8f1a35-634b-4c93-aecb-985829c4d15b",
   "metadata": {
    "tags": []
   },
   "outputs": [],
   "source": [
    "df.drop('Unnamed: 0', axis=1, inplace=True)"
   ]
  },
  {
   "cell_type": "code",
   "execution_count": 8,
   "id": "b1bee550-7788-44be-a9d7-30744826ec6b",
   "metadata": {
    "tags": []
   },
   "outputs": [],
   "source": [
    "# sns.heatmap(df.isnull(), cbar=False)"
   ]
  },
  {
   "cell_type": "code",
   "execution_count": 9,
   "id": "4b395614-9dcc-4d11-af7e-7f02de670452",
   "metadata": {
    "tags": []
   },
   "outputs": [],
   "source": [
    "a = df['patent'].isnull().values.any()"
   ]
  },
  {
   "cell_type": "code",
   "execution_count": 10,
   "id": "e6fb7f4e-5a8c-4cab-8213-f154e2f45c8f",
   "metadata": {
    "tags": []
   },
   "outputs": [
    {
     "data": {
      "text/plain": [
       "False"
      ]
     },
     "execution_count": 10,
     "metadata": {},
     "output_type": "execute_result"
    }
   ],
   "source": [
    "a"
   ]
  },
  {
   "cell_type": "code",
   "execution_count": 11,
   "id": "b2dc4530-0aca-4d03-a67f-f44b10212568",
   "metadata": {
    "tags": []
   },
   "outputs": [],
   "source": [
    "b = df['citation'].isnull().values.any()"
   ]
  },
  {
   "cell_type": "code",
   "execution_count": 12,
   "id": "0e8dd04e-5364-4af6-8dad-21800d13abff",
   "metadata": {
    "tags": []
   },
   "outputs": [
    {
     "data": {
      "text/plain": [
       "False"
      ]
     },
     "execution_count": 12,
     "metadata": {},
     "output_type": "execute_result"
    }
   ],
   "source": [
    "b"
   ]
  },
  {
   "cell_type": "code",
   "execution_count": 13,
   "id": "f5486195-5d00-46ff-ad9e-fe6985d1de37",
   "metadata": {
    "tags": []
   },
   "outputs": [],
   "source": [
    "df['cit_date'] = pd.to_datetime(df['cit_date'], errors='coerce')"
   ]
  },
  {
   "cell_type": "code",
   "execution_count": 14,
   "id": "2182ed2e-2434-4ebf-b9bb-da3da5f382d1",
   "metadata": {
    "tags": []
   },
   "outputs": [],
   "source": [
    "c = df['cit_date'].isnull().values.any()"
   ]
  },
  {
   "cell_type": "code",
   "execution_count": 15,
   "id": "846048e9-80e1-4a72-a2a4-de850b823c55",
   "metadata": {
    "tags": []
   },
   "outputs": [
    {
     "data": {
      "text/plain": [
       "True"
      ]
     },
     "execution_count": 15,
     "metadata": {},
     "output_type": "execute_result"
    }
   ],
   "source": [
    "c"
   ]
  },
  {
   "cell_type": "code",
   "execution_count": 16,
   "id": "46fd540c-26c1-44b4-bbee-09af51d1bb40",
   "metadata": {
    "tags": []
   },
   "outputs": [],
   "source": [
    "mean_value=df['cit_date'].mean()\n",
    "\n",
    "df['cit_date'].fillna(value=mean_value, inplace=True)"
   ]
  },
  {
   "cell_type": "code",
   "execution_count": 17,
   "id": "2fe2446e-dec5-458a-87ce-878cbd5af4b7",
   "metadata": {
    "tags": []
   },
   "outputs": [],
   "source": [
    "d = df['cit_name'].isnull().values.any()"
   ]
  },
  {
   "cell_type": "code",
   "execution_count": 18,
   "id": "c021ebd4-cb0b-4a9b-8964-6141513157d1",
   "metadata": {
    "tags": []
   },
   "outputs": [
    {
     "data": {
      "text/plain": [
       "True"
      ]
     },
     "execution_count": 18,
     "metadata": {},
     "output_type": "execute_result"
    }
   ],
   "source": [
    "d"
   ]
  },
  {
   "cell_type": "code",
   "execution_count": 19,
   "id": "23c74d42-dbb2-45b1-947d-c4141999d08d",
   "metadata": {
    "tags": []
   },
   "outputs": [],
   "source": [
    "df['cit_name'].fillna(value= \"Unspecified\", inplace=True)"
   ]
  },
  {
   "cell_type": "code",
   "execution_count": 20,
   "id": "011d0470-be4f-438e-8b31-d6c586f84846",
   "metadata": {
    "tags": []
   },
   "outputs": [],
   "source": [
    "e = df['cit_kind'].isnull().values.any()"
   ]
  },
  {
   "cell_type": "code",
   "execution_count": 21,
   "id": "5805dfc6-aa9b-48a3-8597-3870b9b5b7de",
   "metadata": {
    "tags": []
   },
   "outputs": [
    {
     "data": {
      "text/plain": [
       "True"
      ]
     },
     "execution_count": 21,
     "metadata": {},
     "output_type": "execute_result"
    }
   ],
   "source": [
    "e"
   ]
  },
  {
   "cell_type": "code",
   "execution_count": 22,
   "id": "708f8941-672b-4b6f-82f8-a7fb5ece664f",
   "metadata": {
    "tags": []
   },
   "outputs": [
    {
     "data": {
      "text/plain": [
       "cit_kind\n",
       "A     8263331\n",
       "B1    2774139\n",
       "B2    1883691\n",
       "A1      92361\n",
       "A2      51888\n",
       "B        6500\n",
       "C1       4074\n",
       "U1       3062\n",
       "Y        2252\n",
       "A3       2179\n",
       "U        1693\n",
       "C        1623\n",
       "C2       1546\n",
       "A5        597\n",
       "T2        549\n",
       "T         487\n",
       "B3        243\n",
       "B4        208\n",
       "S         133\n",
       "A0        117\n",
       "Y2         98\n",
       "A4         91\n",
       "A6         73\n",
       "Y1         52\n",
       "A7         50\n",
       "M          49\n",
       "T5         43\n",
       "E          43\n",
       "C3         43\n",
       "B6         37\n",
       "T1         36\n",
       "P          26\n",
       "T3         20\n",
       "W          16\n",
       "B9         16\n",
       "A9         14\n",
       "G          13\n",
       "F          12\n",
       "C6          9\n",
       "A8          9\n",
       "Z           7\n",
       "U0          7\n",
       "I           5\n",
       "C5          4\n",
       "B8          3\n",
       "U2          3\n",
       "S2          2\n",
       "L           2\n",
       "H           2\n",
       "Z2          2\n",
       "P3          1\n",
       "S1          1\n",
       "Z1          1\n",
       "B5          1\n",
       "T9          1\n",
       "R           1\n",
       "I2          1\n",
       "T0          1\n",
       "I3          1\n",
       "Name: count, dtype: int64"
      ]
     },
     "execution_count": 22,
     "metadata": {},
     "output_type": "execute_result"
    }
   ],
   "source": [
    "df['cit_kind'].value_counts()"
   ]
  },
  {
   "cell_type": "code",
   "execution_count": 23,
   "id": "b491eb59-223d-412c-8aa0-cbcfbdeed97a",
   "metadata": {
    "tags": []
   },
   "outputs": [],
   "source": [
    "df['cit_kind'].fillna(value= \"UN\", inplace=True)"
   ]
  },
  {
   "cell_type": "code",
   "execution_count": 24,
   "id": "1103dbcf-b0be-410c-996f-1dc593c1c81c",
   "metadata": {
    "tags": []
   },
   "outputs": [],
   "source": [
    "f = df['cit_country'].isnull().values.any()"
   ]
  },
  {
   "cell_type": "code",
   "execution_count": 25,
   "id": "28da29d7-b99e-420e-8b63-f78935f2f1d8",
   "metadata": {
    "tags": []
   },
   "outputs": [
    {
     "data": {
      "text/plain": [
       "True"
      ]
     },
     "execution_count": 25,
     "metadata": {},
     "output_type": "execute_result"
    }
   ],
   "source": [
    "f"
   ]
  },
  {
   "cell_type": "code",
   "execution_count": 26,
   "id": "e1bdf984-259f-40e2-a227-792aa09ff801",
   "metadata": {
    "tags": []
   },
   "outputs": [],
   "source": [
    "df['cit_country'].fillna(value= \"UN\", inplace=True)"
   ]
  },
  {
   "cell_type": "code",
   "execution_count": 27,
   "id": "4245bc8d-37cb-4040-b7bc-25103ca34101",
   "metadata": {
    "tags": []
   },
   "outputs": [],
   "source": [
    "f = df['category'].isnull().values.any()"
   ]
  },
  {
   "cell_type": "code",
   "execution_count": 28,
   "id": "063c15f0-9ecb-45c4-bc67-24112f139c25",
   "metadata": {
    "tags": []
   },
   "outputs": [
    {
     "data": {
      "text/plain": [
       "True"
      ]
     },
     "execution_count": 28,
     "metadata": {},
     "output_type": "execute_result"
    }
   ],
   "source": [
    "f"
   ]
  },
  {
   "cell_type": "code",
   "execution_count": 29,
   "id": "9e5cae81-c420-4984-a117-ba341024a3dd",
   "metadata": {
    "tags": []
   },
   "outputs": [],
   "source": [
    "df['category'].fillna(value= \"UN Specified\", inplace=True)"
   ]
  },
  {
   "cell_type": "code",
   "execution_count": 30,
   "id": "23df1d0e-99e2-4b42-8c6a-7c9958be2cbd",
   "metadata": {
    "tags": []
   },
   "outputs": [],
   "source": [
    "g = df['citseq'].isnull().values.any()"
   ]
  },
  {
   "cell_type": "code",
   "execution_count": 31,
   "id": "6f8b5ead-7de7-4134-b679-833c48702820",
   "metadata": {
    "tags": []
   },
   "outputs": [
    {
     "data": {
      "text/plain": [
       "True"
      ]
     },
     "execution_count": 31,
     "metadata": {},
     "output_type": "execute_result"
    }
   ],
   "source": [
    "g"
   ]
  },
  {
   "cell_type": "code",
   "execution_count": 32,
   "id": "31ec9a44-e2f3-43ba-99f4-a23c888dcdc8",
   "metadata": {
    "tags": []
   },
   "outputs": [],
   "source": [
    "mean_value=df['citseq'].mean()\n",
    "\n",
    "df['citseq'].fillna(value=mean_value, inplace=True)"
   ]
  },
  {
   "cell_type": "code",
   "execution_count": 33,
   "id": "c77741b8-4b49-4f59-bf5a-a177e7532ddc",
   "metadata": {
    "tags": []
   },
   "outputs": [
    {
     "data": {
      "text/plain": [
       "patent         0\n",
       "citation       0\n",
       "cit_date       0\n",
       "cit_name       0\n",
       "cit_kind       0\n",
       "cit_country    0\n",
       "category       0\n",
       "citseq         0\n",
       "dtype: int64"
      ]
     },
     "execution_count": 33,
     "metadata": {},
     "output_type": "execute_result"
    }
   ],
   "source": [
    "df.isnull().sum()"
   ]
  },
  {
   "cell_type": "code",
   "execution_count": 34,
   "id": "fe480367-8712-4435-88e1-db799eb8b9cb",
   "metadata": {
    "tags": []
   },
   "outputs": [],
   "source": [
    "# sns.heatmap(df.isnull(), cbar=False)"
   ]
  },
  {
   "cell_type": "code",
   "execution_count": null,
   "id": "1b475c30-9ac5-4724-a326-b2c34a11674b",
   "metadata": {
    "tags": []
   },
   "outputs": [],
   "source": [
    "df.to_csv('Citations_3.csv')"
   ]
  },
  {
   "cell_type": "code",
   "execution_count": null,
   "id": "d7eb40e2-7879-4acc-b2c4-e7d70beea50b",
   "metadata": {},
   "outputs": [],
   "source": []
  }
 ],
 "metadata": {
  "kernelspec": {
   "display_name": "Python 3 (ipykernel)",
   "language": "python",
   "name": "python3"
  },
  "language_info": {
   "codemirror_mode": {
    "name": "ipython",
    "version": 3
   },
   "file_extension": ".py",
   "mimetype": "text/x-python",
   "name": "python",
   "nbconvert_exporter": "python",
   "pygments_lexer": "ipython3",
   "version": "3.9.8"
  }
 },
 "nbformat": 4,
 "nbformat_minor": 5
}
