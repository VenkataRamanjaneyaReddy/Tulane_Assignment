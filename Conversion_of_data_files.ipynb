{
 "cells": [
  {
   "cell_type": "code",
   "execution_count": 1,
   "id": "aea4ab03-caab-4020-a69a-4951fc438d20",
   "metadata": {
    "tags": []
   },
   "outputs": [],
   "source": [
    "import os\n",
    "import pandas as pd\n",
    "\n",
    "for dirpath, subdirs, files in os.walk(\"C:/Users/raman/Downloads/Data_Set\"):\n",
    "    for f in files:        \n",
    "        if f.endswith(\".dta\"):\n",
    "            df = pd.read_stata(os.path.join(dirpath, f))\n",
    "            df.to_csv(os.path.join(dirpath, f.replace(\".dta\", \".csv\")))"
   ]
  },
  {
   "cell_type": "code",
   "execution_count": null,
   "id": "1f5f677d-647f-4d43-b19b-b69b1896d23f",
   "metadata": {},
   "outputs": [],
   "source": []
  }
 ],
 "metadata": {
  "kernelspec": {
   "display_name": "Python 3 (ipykernel)",
   "language": "python",
   "name": "python3"
  },
  "language_info": {
   "codemirror_mode": {
    "name": "ipython",
    "version": 3
   },
   "file_extension": ".py",
   "mimetype": "text/x-python",
   "name": "python",
   "nbconvert_exporter": "python",
   "pygments_lexer": "ipython3",
   "version": "3.9.8"
  }
 },
 "nbformat": 4,
 "nbformat_minor": 5
}
