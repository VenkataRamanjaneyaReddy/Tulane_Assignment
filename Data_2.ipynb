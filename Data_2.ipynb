{
 "cells": [
  {
   "cell_type": "code",
   "execution_count": 1,
   "id": "871b2f40-fb31-4184-85fb-fbd40eb85dcb",
   "metadata": {
    "tags": []
   },
   "outputs": [],
   "source": [
    "import numpy as np\n",
    "import pandas as pd\n",
    "import matplotlib.pyplot as plt\n",
    "import seaborn as sns"
   ]
  },
  {
   "cell_type": "code",
   "execution_count": 2,
   "id": "bf1190ed-d185-4c56-8114-53cc27a012b0",
   "metadata": {
    "tags": []
   },
   "outputs": [],
   "source": [
    "import warnings\n",
    "warnings.filterwarnings('ignore')"
   ]
  },
  {
   "cell_type": "code",
   "execution_count": 3,
   "id": "c45c89bb-e84e-4b79-8c70-a6d192193ab3",
   "metadata": {
    "tags": []
   },
   "outputs": [],
   "source": [
    "df = pd.read_csv('Citations_1975-1999.csv')"
   ]
  },
  {
   "cell_type": "code",
   "execution_count": 4,
   "id": "1f0ee6f6-fa3e-467b-925d-c16f6fdc566f",
   "metadata": {
    "tags": []
   },
   "outputs": [
    {
     "data": {
      "text/html": [
       "<div>\n",
       "<style scoped>\n",
       "    .dataframe tbody tr th:only-of-type {\n",
       "        vertical-align: middle;\n",
       "    }\n",
       "\n",
       "    .dataframe tbody tr th {\n",
       "        vertical-align: top;\n",
       "    }\n",
       "\n",
       "    .dataframe thead th {\n",
       "        text-align: right;\n",
       "    }\n",
       "</style>\n",
       "<table border=\"1\" class=\"dataframe\">\n",
       "  <thead>\n",
       "    <tr style=\"text-align: right;\">\n",
       "      <th></th>\n",
       "      <th>Unnamed: 0</th>\n",
       "      <th>citation</th>\n",
       "      <th>patent</th>\n",
       "      <th>cit_date</th>\n",
       "      <th>cit_name</th>\n",
       "      <th>cit_kind</th>\n",
       "      <th>cit_country</th>\n",
       "      <th>category</th>\n",
       "      <th>citseq</th>\n",
       "      <th>cites</th>\n",
       "    </tr>\n",
       "  </thead>\n",
       "  <tbody>\n",
       "    <tr>\n",
       "      <th>0</th>\n",
       "      <td>0</td>\n",
       "      <td>956203</td>\n",
       "      <td>3858241</td>\n",
       "      <td>NaN</td>\n",
       "      <td>NaN</td>\n",
       "      <td>NaN</td>\n",
       "      <td>NaN</td>\n",
       "      <td>NaN</td>\n",
       "      <td>0.0</td>\n",
       "      <td>1.0</td>\n",
       "    </tr>\n",
       "    <tr>\n",
       "      <th>1</th>\n",
       "      <td>1</td>\n",
       "      <td>1324234</td>\n",
       "      <td>3858241</td>\n",
       "      <td>NaN</td>\n",
       "      <td>NaN</td>\n",
       "      <td>NaN</td>\n",
       "      <td>NaN</td>\n",
       "      <td>NaN</td>\n",
       "      <td>1.0</td>\n",
       "      <td>2.0</td>\n",
       "    </tr>\n",
       "    <tr>\n",
       "      <th>2</th>\n",
       "      <td>2</td>\n",
       "      <td>1515701</td>\n",
       "      <td>3858242</td>\n",
       "      <td>NaN</td>\n",
       "      <td>NaN</td>\n",
       "      <td>NaN</td>\n",
       "      <td>NaN</td>\n",
       "      <td>NaN</td>\n",
       "      <td>0.0</td>\n",
       "      <td>1.0</td>\n",
       "    </tr>\n",
       "    <tr>\n",
       "      <th>3</th>\n",
       "      <td>3</td>\n",
       "      <td>3319261</td>\n",
       "      <td>3858242</td>\n",
       "      <td>NaN</td>\n",
       "      <td>NaN</td>\n",
       "      <td>NaN</td>\n",
       "      <td>NaN</td>\n",
       "      <td>NaN</td>\n",
       "      <td>1.0</td>\n",
       "      <td>3.0</td>\n",
       "    </tr>\n",
       "    <tr>\n",
       "      <th>4</th>\n",
       "      <td>4</td>\n",
       "      <td>3681785</td>\n",
       "      <td>3858243</td>\n",
       "      <td>NaN</td>\n",
       "      <td>NaN</td>\n",
       "      <td>NaN</td>\n",
       "      <td>NaN</td>\n",
       "      <td>NaN</td>\n",
       "      <td>5.0</td>\n",
       "      <td>8.0</td>\n",
       "    </tr>\n",
       "  </tbody>\n",
       "</table>\n",
       "</div>"
      ],
      "text/plain": [
       "   Unnamed: 0  citation   patent cit_date cit_name  cit_kind  cit_country   \n",
       "0           0    956203  3858241      NaN      NaN       NaN          NaN  \\\n",
       "1           1   1324234  3858241      NaN      NaN       NaN          NaN   \n",
       "2           2   1515701  3858242      NaN      NaN       NaN          NaN   \n",
       "3           3   3319261  3858242      NaN      NaN       NaN          NaN   \n",
       "4           4   3681785  3858243      NaN      NaN       NaN          NaN   \n",
       "\n",
       "   category  citseq  cites  \n",
       "0       NaN     0.0    1.0  \n",
       "1       NaN     1.0    2.0  \n",
       "2       NaN     0.0    1.0  \n",
       "3       NaN     1.0    3.0  \n",
       "4       NaN     5.0    8.0  "
      ]
     },
     "execution_count": 4,
     "metadata": {},
     "output_type": "execute_result"
    }
   ],
   "source": [
    "df.head()"
   ]
  },
  {
   "cell_type": "code",
   "execution_count": 5,
   "id": "0d1d7027-7d0d-4b87-9f40-23f484f56231",
   "metadata": {
    "tags": []
   },
   "outputs": [
    {
     "data": {
      "text/plain": [
       "(3207647, 10)"
      ]
     },
     "execution_count": 5,
     "metadata": {},
     "output_type": "execute_result"
    }
   ],
   "source": [
    "df.shape"
   ]
  },
  {
   "cell_type": "code",
   "execution_count": 6,
   "id": "a35ae949-9201-41c4-b551-e3f69125e423",
   "metadata": {
    "tags": []
   },
   "outputs": [
    {
     "name": "stdout",
     "output_type": "stream",
     "text": [
      "<class 'pandas.core.frame.DataFrame'>\n",
      "RangeIndex: 3207647 entries, 0 to 3207646\n",
      "Data columns (total 10 columns):\n",
      " #   Column       Dtype  \n",
      "---  ------       -----  \n",
      " 0   Unnamed: 0   int64  \n",
      " 1   citation     int64  \n",
      " 2   patent       int64  \n",
      " 3   cit_date     object \n",
      " 4   cit_name     object \n",
      " 5   cit_kind     float64\n",
      " 6   cit_country  float64\n",
      " 7   category     float64\n",
      " 8   citseq       float64\n",
      " 9   cites        float64\n",
      "dtypes: float64(5), int64(3), object(2)\n",
      "memory usage: 244.7+ MB\n"
     ]
    }
   ],
   "source": [
    "df.info()"
   ]
  },
  {
   "cell_type": "code",
   "execution_count": 7,
   "id": "7e642ecb-49fa-4ae7-acea-afde1e231e3e",
   "metadata": {
    "tags": []
   },
   "outputs": [
    {
     "data": {
      "text/plain": [
       "Unnamed: 0           0\n",
       "citation             0\n",
       "patent               0\n",
       "cit_date       2708833\n",
       "cit_name       2708850\n",
       "cit_kind       3207647\n",
       "cit_country    3207647\n",
       "category       3207647\n",
       "citseq          498814\n",
       "cites                0\n",
       "dtype: int64"
      ]
     },
     "execution_count": 7,
     "metadata": {},
     "output_type": "execute_result"
    }
   ],
   "source": [
    "df.isna().sum()"
   ]
  },
  {
   "cell_type": "code",
   "execution_count": 8,
   "id": "029a1b75-e482-4cc4-b662-0a762498ccbc",
   "metadata": {
    "tags": []
   },
   "outputs": [],
   "source": [
    "# sns.heatmap(df.isnull(), cbar=False)"
   ]
  },
  {
   "cell_type": "code",
   "execution_count": 9,
   "id": "ad5588ab-16ab-4c84-a9be-95e8b459878c",
   "metadata": {
    "tags": []
   },
   "outputs": [],
   "source": [
    "df.drop(columns=['Unnamed: 0', 'cit_kind','cit_country','category'], axis=1, inplace=True)"
   ]
  },
  {
   "cell_type": "code",
   "execution_count": 10,
   "id": "0c78d4eb-beb6-4bf8-a6c6-1aa1234c80ef",
   "metadata": {
    "tags": []
   },
   "outputs": [
    {
     "data": {
      "text/html": [
       "<div>\n",
       "<style scoped>\n",
       "    .dataframe tbody tr th:only-of-type {\n",
       "        vertical-align: middle;\n",
       "    }\n",
       "\n",
       "    .dataframe tbody tr th {\n",
       "        vertical-align: top;\n",
       "    }\n",
       "\n",
       "    .dataframe thead th {\n",
       "        text-align: right;\n",
       "    }\n",
       "</style>\n",
       "<table border=\"1\" class=\"dataframe\">\n",
       "  <thead>\n",
       "    <tr style=\"text-align: right;\">\n",
       "      <th></th>\n",
       "      <th>citation</th>\n",
       "      <th>patent</th>\n",
       "      <th>cit_date</th>\n",
       "      <th>cit_name</th>\n",
       "      <th>citseq</th>\n",
       "      <th>cites</th>\n",
       "    </tr>\n",
       "  </thead>\n",
       "  <tbody>\n",
       "    <tr>\n",
       "      <th>0</th>\n",
       "      <td>956203</td>\n",
       "      <td>3858241</td>\n",
       "      <td>NaN</td>\n",
       "      <td>NaN</td>\n",
       "      <td>0.0</td>\n",
       "      <td>1.0</td>\n",
       "    </tr>\n",
       "    <tr>\n",
       "      <th>1</th>\n",
       "      <td>1324234</td>\n",
       "      <td>3858241</td>\n",
       "      <td>NaN</td>\n",
       "      <td>NaN</td>\n",
       "      <td>1.0</td>\n",
       "      <td>2.0</td>\n",
       "    </tr>\n",
       "    <tr>\n",
       "      <th>2</th>\n",
       "      <td>1515701</td>\n",
       "      <td>3858242</td>\n",
       "      <td>NaN</td>\n",
       "      <td>NaN</td>\n",
       "      <td>0.0</td>\n",
       "      <td>1.0</td>\n",
       "    </tr>\n",
       "    <tr>\n",
       "      <th>3</th>\n",
       "      <td>3319261</td>\n",
       "      <td>3858242</td>\n",
       "      <td>NaN</td>\n",
       "      <td>NaN</td>\n",
       "      <td>1.0</td>\n",
       "      <td>3.0</td>\n",
       "    </tr>\n",
       "    <tr>\n",
       "      <th>4</th>\n",
       "      <td>3681785</td>\n",
       "      <td>3858243</td>\n",
       "      <td>NaN</td>\n",
       "      <td>NaN</td>\n",
       "      <td>5.0</td>\n",
       "      <td>8.0</td>\n",
       "    </tr>\n",
       "  </tbody>\n",
       "</table>\n",
       "</div>"
      ],
      "text/plain": [
       "   citation   patent cit_date cit_name  citseq  cites\n",
       "0    956203  3858241      NaN      NaN     0.0    1.0\n",
       "1   1324234  3858241      NaN      NaN     1.0    2.0\n",
       "2   1515701  3858242      NaN      NaN     0.0    1.0\n",
       "3   3319261  3858242      NaN      NaN     1.0    3.0\n",
       "4   3681785  3858243      NaN      NaN     5.0    8.0"
      ]
     },
     "execution_count": 10,
     "metadata": {},
     "output_type": "execute_result"
    }
   ],
   "source": [
    "df.head()"
   ]
  },
  {
   "cell_type": "code",
   "execution_count": 11,
   "id": "f1bb5bf4-8395-4aef-93c2-f0d0ab1b3237",
   "metadata": {
    "tags": []
   },
   "outputs": [
    {
     "data": {
      "text/plain": [
       "citation\n",
       "956203     1\n",
       "4396856    1\n",
       "3921199    1\n",
       "4538166    1\n",
       "5111264    1\n",
       "          ..\n",
       "2399255    1\n",
       "2349450    1\n",
       "4457175    1\n",
       "3508436    1\n",
       "5048064    1\n",
       "Name: count, Length: 3207647, dtype: int64"
      ]
     },
     "execution_count": 11,
     "metadata": {},
     "output_type": "execute_result"
    }
   ],
   "source": [
    "df['citation'].value_counts()"
   ]
  },
  {
   "cell_type": "code",
   "execution_count": 12,
   "id": "01b365f7-8d5f-4902-803c-46baa6cc143b",
   "metadata": {
    "tags": []
   },
   "outputs": [
    {
     "data": {
      "text/plain": [
       "3207647"
      ]
     },
     "execution_count": 12,
     "metadata": {},
     "output_type": "execute_result"
    }
   ],
   "source": [
    "df['citation'].nunique()"
   ]
  },
  {
   "cell_type": "code",
   "execution_count": 13,
   "id": "ba637d27-9eda-45a0-9062-a9d15b09cd6f",
   "metadata": {
    "tags": []
   },
   "outputs": [
    {
     "data": {
      "text/plain": [
       "array([ 956203, 1324234, 1515701, ..., 5598422, 4486882, 5048064],\n",
       "      dtype=int64)"
      ]
     },
     "execution_count": 13,
     "metadata": {},
     "output_type": "execute_result"
    }
   ],
   "source": [
    "df['citation'].unique()"
   ]
  },
  {
   "cell_type": "code",
   "execution_count": 14,
   "id": "bc92d38f-2211-485a-8cef-b42b393eec8a",
   "metadata": {
    "tags": []
   },
   "outputs": [
    {
     "data": {
      "text/plain": [
       "patent\n",
       "5981719    118\n",
       "5876995    101\n",
       "5666776     96\n",
       "5611186     79\n",
       "5462324     75\n",
       "          ... \n",
       "4472487      1\n",
       "5289393      1\n",
       "5289394      1\n",
       "4472482      1\n",
       "6009554      1\n",
       "Name: count, Length: 1392766, dtype: int64"
      ]
     },
     "execution_count": 14,
     "metadata": {},
     "output_type": "execute_result"
    }
   ],
   "source": [
    "df['patent'].value_counts()"
   ]
  },
  {
   "cell_type": "code",
   "execution_count": 15,
   "id": "ce9d5013-21da-4f46-82ad-b542c9a3f620",
   "metadata": {
    "tags": []
   },
   "outputs": [
    {
     "data": {
      "text/plain": [
       "1392766"
      ]
     },
     "execution_count": 15,
     "metadata": {},
     "output_type": "execute_result"
    }
   ],
   "source": [
    "df['patent'].nunique()"
   ]
  },
  {
   "cell_type": "code",
   "execution_count": 16,
   "id": "a2a9b847-339c-4566-bbf8-e3967c3aca1a",
   "metadata": {
    "tags": []
   },
   "outputs": [
    {
     "data": {
      "text/plain": [
       "array([3858241, 3858242, 3858243, ..., 6009551, 6009552, 6009554],\n",
       "      dtype=int64)"
      ]
     },
     "execution_count": 16,
     "metadata": {},
     "output_type": "execute_result"
    }
   ],
   "source": [
    "df['patent'].unique()"
   ]
  },
  {
   "cell_type": "code",
   "execution_count": 17,
   "id": "63f391fa-df04-4610-9f02-aead8aaa0b3e",
   "metadata": {
    "tags": []
   },
   "outputs": [
    {
     "data": {
      "text/plain": [
       "cit_date\n",
       "1996-07-01    6553\n",
       "1996-12-01    6412\n",
       "1996-10-01    6151\n",
       "1996-04-01    5966\n",
       "1997-04-01    5808\n",
       "              ... \n",
       "1999-06-01     256\n",
       "1979-06-01     224\n",
       "1999-07-01     151\n",
       "1999-08-01      75\n",
       "1999-09-01      16\n",
       "Name: count, Length: 297, dtype: int64"
      ]
     },
     "execution_count": 17,
     "metadata": {},
     "output_type": "execute_result"
    }
   ],
   "source": [
    "df['cit_date'].value_counts()"
   ]
  },
  {
   "cell_type": "code",
   "execution_count": 18,
   "id": "137630f5-29b1-4899-9c9c-6e80519052da",
   "metadata": {
    "tags": []
   },
   "outputs": [
    {
     "data": {
      "text/plain": [
       "297"
      ]
     },
     "execution_count": 18,
     "metadata": {},
     "output_type": "execute_result"
    }
   ],
   "source": [
    "df['cit_date'].nunique()"
   ]
  },
  {
   "cell_type": "code",
   "execution_count": 19,
   "id": "53b9d59e-b7ff-4c43-a5e6-77d186c97fcd",
   "metadata": {
    "tags": []
   },
   "outputs": [
    {
     "data": {
      "text/plain": [
       "array([nan, '1994-09-01', '1991-07-01', '1989-05-01', '1987-03-01',\n",
       "       '1995-06-01', '1996-02-01', '1992-06-01', '1993-08-01',\n",
       "       '1992-03-01', '1986-10-01', '1995-02-01', '1995-10-01',\n",
       "       '1995-03-01', '1997-05-01', '1987-02-01', '1975-12-01',\n",
       "       '1991-02-01', '1997-04-01', '1995-01-01', '1990-03-01',\n",
       "       '1993-01-01', '1990-10-01', '1990-05-01', '1994-01-01',\n",
       "       '1996-01-01', '1988-12-01', '1987-10-01', '1995-12-01',\n",
       "       '1991-04-01', '1991-10-01', '1990-09-01', '1996-12-01',\n",
       "       '1983-06-01', '1994-10-01', '1996-06-01', '1996-05-01',\n",
       "       '1990-06-01', '1991-09-01', '1993-10-01', '1989-07-01',\n",
       "       '1992-07-01', '1994-08-01', '1992-12-01', '1988-01-01',\n",
       "       '1988-07-01', '1995-05-01', '1990-08-01', '1992-02-01',\n",
       "       '1994-12-01', '1989-09-01', '1996-07-01', '1996-03-01',\n",
       "       '1992-01-01', '1994-04-01', '1997-03-01', '1995-07-01',\n",
       "       '1994-06-01', '1993-06-01', '1988-09-01', '1988-10-01',\n",
       "       '1992-10-01', '1990-11-01', '1993-07-01', '1987-08-01',\n",
       "       '1994-11-01', '1993-12-01', '1986-03-01', '1992-09-01',\n",
       "       '1977-12-01', '1982-09-01', '1981-10-01', '1989-08-01',\n",
       "       '1995-04-01', '1989-03-01', '1995-09-01', '1977-09-01',\n",
       "       '1994-05-01', '1976-06-01', '1993-04-01', '1977-02-01',\n",
       "       '1991-03-01', '1979-04-01', '1989-12-01', '1986-12-01',\n",
       "       '1992-11-01', '1982-06-01', '1993-03-01', '1979-01-01',\n",
       "       '1984-07-01', '1996-11-01', '1992-04-01', '1990-01-01',\n",
       "       '1991-11-01', '1975-01-01', '1982-01-01', '1986-08-01',\n",
       "       '1989-11-01', '1985-08-01', '1988-05-01', '1989-02-01',\n",
       "       '1987-12-01', '1988-06-01', '1987-05-01', '1975-10-01',\n",
       "       '1987-11-01', '1993-09-01', '1985-04-01', '1986-05-01',\n",
       "       '1994-03-01', '1995-08-01', '1975-05-01', '1976-07-01',\n",
       "       '1976-03-01', '1980-01-01', '1990-07-01', '1977-05-01',\n",
       "       '1987-04-01', '1992-05-01', '1995-11-01', '1983-12-01',\n",
       "       '1976-09-01', '1987-01-01', '1985-10-01', '1996-04-01',\n",
       "       '1987-09-01', '1979-11-01', '1991-12-01', '1996-10-01',\n",
       "       '1996-08-01', '1981-03-01', '1981-12-01', '1983-10-01',\n",
       "       '1981-02-01', '1983-03-01', '1994-02-01', '1993-05-01',\n",
       "       '1978-08-01', '1978-06-01', '1991-05-01', '1978-09-01',\n",
       "       '1981-09-01', '1982-03-01', '1986-02-01', '1988-02-01',\n",
       "       '1976-05-01', '1977-11-01', '1975-06-01', '1988-04-01',\n",
       "       '1985-06-01', '1985-12-01', '1975-04-01', '1990-04-01',\n",
       "       '1979-10-01', '1981-05-01', '1991-06-01', '1989-04-01',\n",
       "       '1979-02-01', '1980-11-01', '1977-06-01', '1986-09-01',\n",
       "       '1984-08-01', '1982-04-01', '1982-11-01', '1982-05-01',\n",
       "       '1997-02-01', '1984-01-01', '1975-09-01', '1975-08-01',\n",
       "       '1989-10-01', '1977-04-01', '1985-05-01', '1993-02-01',\n",
       "       '1983-11-01', '1994-07-01', '1977-08-01', '1982-10-01',\n",
       "       '1986-06-01', '1984-03-01', '1979-07-01', '1992-08-01',\n",
       "       '1984-12-01', '1996-09-01', '1997-01-01', '1988-08-01',\n",
       "       '1976-04-01', '1987-06-01', '1985-02-01', '1981-07-01',\n",
       "       '1976-08-01', '1982-07-01', '1978-01-01', '1984-06-01',\n",
       "       '1978-04-01', '1977-07-01', '1979-06-01', '1983-04-01',\n",
       "       '1977-10-01', '1986-01-01', '1985-07-01', '1984-10-01',\n",
       "       '1986-04-01', '1979-09-01', '1985-01-01', '1988-11-01',\n",
       "       '1982-08-01', '1989-06-01', '1990-02-01', '1986-11-01',\n",
       "       '1979-05-01', '1980-03-01', '1993-11-01', '1979-08-01',\n",
       "       '1986-07-01', '1977-01-01', '1989-01-01', '1990-12-01',\n",
       "       '1979-03-01', '1983-02-01', '1991-08-01', '1988-03-01',\n",
       "       '1978-10-01', '1980-12-01', '1978-02-01', '1982-12-01',\n",
       "       '1984-09-01', '1975-03-01', '1980-02-01', '1984-05-01',\n",
       "       '1991-01-01', '1976-01-01', '1976-12-01', '1976-10-01',\n",
       "       '1975-11-01', '1980-08-01', '1978-05-01', '1981-06-01',\n",
       "       '1981-08-01', '1982-02-01', '1975-02-01', '1977-03-01',\n",
       "       '1983-09-01', '1980-06-01', '1985-11-01', '1983-08-01',\n",
       "       '1981-01-01', '1987-07-01', '1983-07-01', '1983-01-01',\n",
       "       '1985-09-01', '1975-07-01', '1978-11-01', '1981-11-01',\n",
       "       '1981-04-01', '1983-05-01', '1976-11-01', '1985-03-01',\n",
       "       '1984-02-01', '1997-06-01', '1980-10-01', '1980-05-01',\n",
       "       '1978-07-01', '1980-09-01', '1979-12-01', '1984-11-01',\n",
       "       '1978-12-01', '1980-04-01', '1997-08-01', '1980-07-01',\n",
       "       '1984-04-01', '1997-07-01', '1997-09-01', '1978-03-01',\n",
       "       '1976-02-01', '1997-10-01', '1997-11-01', '1997-12-01',\n",
       "       '1998-01-01', '1998-02-01', '1998-03-01', '1998-04-01',\n",
       "       '1998-05-01', '1998-06-01', '1998-07-01', '1998-08-01',\n",
       "       '1998-10-01', '1998-11-01', '1998-09-01', '1998-12-01',\n",
       "       '1999-01-01', '1999-02-01', '1999-03-01', '1999-04-01',\n",
       "       '1999-05-01', '1999-07-01', '1999-06-01', '1999-08-01',\n",
       "       '1999-09-01'], dtype=object)"
      ]
     },
     "execution_count": 19,
     "metadata": {},
     "output_type": "execute_result"
    }
   ],
   "source": [
    "df['cit_date'].unique()"
   ]
  },
  {
   "cell_type": "code",
   "execution_count": 20,
   "id": "2a08d5f3-5ef8-470d-891b-db7e7fdfc794",
   "metadata": {
    "tags": []
   },
   "outputs": [],
   "source": [
    "df['cit_date'] =  pd.to_datetime(df['cit_date'])"
   ]
  },
  {
   "cell_type": "code",
   "execution_count": 21,
   "id": "75392259-ae63-4957-aa06-efec3f759567",
   "metadata": {
    "tags": []
   },
   "outputs": [
    {
     "data": {
      "text/plain": [
       "0                NaT\n",
       "1                NaT\n",
       "2                NaT\n",
       "3                NaT\n",
       "4                NaT\n",
       "             ...    \n",
       "3207642   1998-09-01\n",
       "3207643   1998-05-01\n",
       "3207644   1997-01-01\n",
       "3207645   1984-12-01\n",
       "3207646   1991-09-01\n",
       "Name: cit_date, Length: 3207647, dtype: datetime64[ns]"
      ]
     },
     "execution_count": 21,
     "metadata": {},
     "output_type": "execute_result"
    }
   ],
   "source": [
    "df['cit_date']"
   ]
  },
  {
   "cell_type": "code",
   "execution_count": 22,
   "id": "1b2ab0fc-39ce-458c-9c95-f93a964fcc68",
   "metadata": {
    "tags": []
   },
   "outputs": [],
   "source": [
    "mean_value=df['cit_date'].mean()\n",
    "\n",
    "df['cit_date'].fillna(value=mean_value, inplace=True)"
   ]
  },
  {
   "cell_type": "code",
   "execution_count": 23,
   "id": "1af38427-1594-48d9-a645-084d902c497f",
   "metadata": {
    "tags": []
   },
   "outputs": [
    {
     "data": {
      "text/plain": [
       "<DatetimeArray>\n",
       "['1992-07-25 04:59:24.390734592',           '1994-09-01 00:00:00',\n",
       "           '1991-07-01 00:00:00',           '1989-05-01 00:00:00',\n",
       "           '1987-03-01 00:00:00',           '1995-06-01 00:00:00',\n",
       "           '1996-02-01 00:00:00',           '1992-06-01 00:00:00',\n",
       "           '1993-08-01 00:00:00',           '1992-03-01 00:00:00',\n",
       " ...\n",
       "           '1998-12-01 00:00:00',           '1999-01-01 00:00:00',\n",
       "           '1999-02-01 00:00:00',           '1999-03-01 00:00:00',\n",
       "           '1999-04-01 00:00:00',           '1999-05-01 00:00:00',\n",
       "           '1999-07-01 00:00:00',           '1999-06-01 00:00:00',\n",
       "           '1999-08-01 00:00:00',           '1999-09-01 00:00:00']\n",
       "Length: 298, dtype: datetime64[ns]"
      ]
     },
     "execution_count": 23,
     "metadata": {},
     "output_type": "execute_result"
    }
   ],
   "source": [
    "df['cit_date'].unique()"
   ]
  },
  {
   "cell_type": "code",
   "execution_count": 24,
   "id": "3008492e-c277-48b1-98f4-f8c1d96d58ce",
   "metadata": {
    "tags": []
   },
   "outputs": [
    {
     "data": {
      "text/plain": [
       "0         1992-07-25 04:59:24.390734592\n",
       "1         1992-07-25 04:59:24.390734592\n",
       "2         1992-07-25 04:59:24.390734592\n",
       "3         1992-07-25 04:59:24.390734592\n",
       "4         1992-07-25 04:59:24.390734592\n",
       "                       ...             \n",
       "3207642   1998-09-01 00:00:00.000000000\n",
       "3207643   1998-05-01 00:00:00.000000000\n",
       "3207644   1997-01-01 00:00:00.000000000\n",
       "3207645   1984-12-01 00:00:00.000000000\n",
       "3207646   1991-09-01 00:00:00.000000000\n",
       "Name: cit_date, Length: 3207647, dtype: datetime64[ns]"
      ]
     },
     "execution_count": 24,
     "metadata": {},
     "output_type": "execute_result"
    }
   ],
   "source": [
    "df['cit_date']"
   ]
  },
  {
   "cell_type": "code",
   "execution_count": 25,
   "id": "ca969126-0786-4b34-a4da-993e2623b98d",
   "metadata": {
    "tags": []
   },
   "outputs": [
    {
     "data": {
      "text/plain": [
       "cit_name\n",
       "LEE              1174\n",
       "SMITH             982\n",
       "LEE ET AL.        920\n",
       "SUZUKI ET AL.     833\n",
       "SMITH ET AL.      772\n",
       "                 ... \n",
       "HEFTI               1\n",
       "CONANAN             1\n",
       "CASCIO              1\n",
       "HUJINK              1\n",
       "PIRET ET AL.        1\n",
       "Name: count, Length: 147982, dtype: int64"
      ]
     },
     "execution_count": 25,
     "metadata": {},
     "output_type": "execute_result"
    }
   ],
   "source": [
    "df['cit_name'].value_counts()"
   ]
  },
  {
   "cell_type": "code",
   "execution_count": 26,
   "id": "4bc9739e-5c08-47c3-a35a-d7c1553e2a5e",
   "metadata": {
    "tags": []
   },
   "outputs": [
    {
     "data": {
      "text/plain": [
       "147982"
      ]
     },
     "execution_count": 26,
     "metadata": {},
     "output_type": "execute_result"
    }
   ],
   "source": [
    "df['cit_name'].nunique()"
   ]
  },
  {
   "cell_type": "code",
   "execution_count": 27,
   "id": "34876901-9c28-4c1d-acd7-a78307009a30",
   "metadata": {
    "tags": []
   },
   "outputs": [
    {
     "data": {
      "text/plain": [
       "array([nan, 'GARRETT', 'HETZ ET AL.', ..., 'HELBIG, SR. ET AL.',\n",
       "       'FITINGOF ET AL.', 'PIRET ET AL.'], dtype=object)"
      ]
     },
     "execution_count": 27,
     "metadata": {},
     "output_type": "execute_result"
    }
   ],
   "source": [
    "df['cit_name'].unique()"
   ]
  },
  {
   "cell_type": "code",
   "execution_count": 28,
   "id": "d4028a6d-3363-4214-8b4c-052a66baa3be",
   "metadata": {
    "tags": []
   },
   "outputs": [],
   "source": [
    "df['cit_name'].fillna(value=\"Unspecified\", inplace=True)"
   ]
  },
  {
   "cell_type": "code",
   "execution_count": 29,
   "id": "be739c18-c2f8-46d6-ba95-7d7ae4027e1b",
   "metadata": {
    "tags": []
   },
   "outputs": [
    {
     "data": {
      "text/plain": [
       "364"
      ]
     },
     "execution_count": 29,
     "metadata": {},
     "output_type": "execute_result"
    }
   ],
   "source": [
    "df['citseq'].nunique()"
   ]
  },
  {
   "cell_type": "code",
   "execution_count": 30,
   "id": "acc87030-9a0c-4d8b-8ecf-9dcd1a883af5",
   "metadata": {
    "tags": []
   },
   "outputs": [
    {
     "data": {
      "text/plain": [
       "array([  0.,   1.,   5.,   2.,   3.,   4.,   7.,   8.,   9.,  10.,   6.,\n",
       "        13.,  11.,  14.,  15.,  20.,  22.,  12.,  16.,  18.,  17.,  21.,\n",
       "        19.,  28.,  27.,  32.,  34.,  29.,  24.,  23.,  25.,  31.,  26.,\n",
       "        37.,  40.,  36.,  30.,  33.,  43.,  48.,  46.,  52.,  41.,  35.,\n",
       "        39.,  42.,  66.,  58.,  38.,  45.,  69.,  64.,  63.,  51.,  54.,\n",
       "        57.,  47.,  56.,  53.,  50.,  86.,  59.,  60.,  55.,  49.,  44.,\n",
       "        72.,  61.,  70.,  76.,  62.,  71.,  68.,  65.,  67.,  77.,  75.,\n",
       "        89.,  97.,  79.,  78.,  91.,  84.,  83., 101.,  92.,  85.,  82.,\n",
       "        81.,  73., 100.,  99.,  74.,  95.,  93.,  80.,  94.,  98., 107.,\n",
       "       115.,  96., 123.,  87., 114., 116.,  90., 111., 121., 117., 138.,\n",
       "       118., 112., 129.,  88., 136., 109., 102., 108., 104., 120., 133.,\n",
       "       113., 110., 158., 103., 128., 151., 144., 146., 122., 105., 119.,\n",
       "       124., 125., 143., 106., 149., 137., 131., 140., 130., 139., 126.,\n",
       "       195., 186., 148., 142., 153., 156., 135., 169., 179., 165., 127.,\n",
       "       185., 154., 167., 155., 168., 141., 132., 157., 159., 166., 150.,\n",
       "       134., 147., 152., 161., 145., 170., 184., 188., 173., 172., 178.,\n",
       "       164., 176., 180., 171., 198., 207., 162., 189., 190., 246., 177.,\n",
       "       194., 206., 204., 208., 160., 191., 216., 210., 226., 163., 205.,\n",
       "       187., 202., 197., 218., 264., 183., 252., 255., 231., 199., 256.,\n",
       "       227., 200., 175., 174., 182., 193., 201., 192., 203., 181., 214.,\n",
       "       213., 196., 240., 254., 211., 263., 223., 239., 279., 224., 428.,\n",
       "       410., 215., 435., 402., 441., 371., 415., 365., 317., 443., 304.,\n",
       "       366., 328., 265., 272., 276., 262., 275., 319., 330., 237., 311.,\n",
       "       349., 431., 283., 219., 422., 270., 445., 308., 269., 425., 360.,\n",
       "       411., 354., 235., 306., 248., 257., 314., 280., 350., 375., 297.,\n",
       "       287., 442., 420., 390., 378., 268., 427., 217., 241., 244., 220.,\n",
       "       331., 316., 449., 381., 448., 300., 299., 372., 444., 274., 433.,\n",
       "       229., 249., 242., 232., 339., 400., 332., 250., 251., 261., 259.,\n",
       "       266., 243., 290., 296., 233., 335., 291., 347., 341., 407., 363.,\n",
       "       397., 387., 380., 404., 430., 408., 228., 294., 409., 384., 352.,\n",
       "       221., 278., 412., 321., 367., 260., 395., 320., 247., 222., 305.,\n",
       "       302., 238., 301., 277., 288., 286., 209., 447., 590., 309., 535.,\n",
       "       559., 212., 273., 329., 230., 399., 313., 386., 440., 303., 289.,\n",
       "       424.,  nan])"
      ]
     },
     "execution_count": 30,
     "metadata": {},
     "output_type": "execute_result"
    }
   ],
   "source": [
    "df['citseq'].unique()"
   ]
  },
  {
   "cell_type": "code",
   "execution_count": 31,
   "id": "f7018501-8ac2-4739-b9da-cc98841330f0",
   "metadata": {
    "tags": []
   },
   "outputs": [],
   "source": [
    "mean_value=df['citseq'].mean()\n",
    "\n",
    "df['citseq'].fillna(value=mean_value, inplace=True)"
   ]
  },
  {
   "cell_type": "code",
   "execution_count": 32,
   "id": "6b384923-20aa-4ef9-b453-658887706031",
   "metadata": {
    "tags": []
   },
   "outputs": [
    {
     "data": {
      "text/plain": [
       "251"
      ]
     },
     "execution_count": 32,
     "metadata": {},
     "output_type": "execute_result"
    }
   ],
   "source": [
    "df['cites'].nunique()"
   ]
  },
  {
   "cell_type": "code",
   "execution_count": 33,
   "id": "41561a03-af53-4055-be3a-34277485f03f",
   "metadata": {
    "tags": []
   },
   "outputs": [
    {
     "data": {
      "text/plain": [
       "array([  1.,   2.,   3.,   8.,   4.,   7.,  11.,   5.,  12.,   6.,   9.,\n",
       "        15.,  13.,  10.,  17.,  14.,  16.,  30.,  36.,  39.,  29.,  18.,\n",
       "        19.,  35.,  27.,  23.,  33.,  21.,  41.,  28.,  62.,  22.,  26.,\n",
       "        24.,  25.,  20.,  46.,  32.,  31.,  69.,  67.,  73.,  49.,  43.,\n",
       "        40.,  34.,  59.,  38.,  65.,  58.,  48.,  50., 107.,  55., 105.,\n",
       "        42.,  89.,  37.,  47.,  54.,  44.,  91.,  51.,  60., 118.,  45.,\n",
       "        81.,  80.,  66.,  76.,  72.,  61., 119.,  56.,  63.,  53.,  75.,\n",
       "       111.,  90.,  52., 153.,  93., 110.,  57., 125.,  68.,  70.,  99.,\n",
       "       144., 114.,  83., 109.,  74.,  85.,  71.,  77.,  92.,  78.,  87.,\n",
       "       276.,  88., 104.,  64., 100., 112., 115., 160.,  86.,  84., 156.,\n",
       "       177., 138., 103., 132., 121., 117., 124.,  94.,  97., 108., 191.,\n",
       "        95.,  79.,  82., 243., 279., 140., 141.,  98., 193., 152., 116.,\n",
       "       113., 130., 180.,  96., 170., 146., 102., 216., 192., 122., 133.,\n",
       "       139., 158., 129., 150., 106., 261., 128., 233., 173., 143., 188.,\n",
       "       120., 231., 126., 142., 135., 198., 213., 225., 154., 148., 169.,\n",
       "       190., 134., 176., 101., 137., 171., 204., 136., 200., 181., 356.,\n",
       "       273., 145., 202., 155., 189., 165., 175., 127., 157., 163., 149.,\n",
       "       656., 251., 226., 676., 222., 776., 235., 123., 147., 240., 168.,\n",
       "       311., 182., 174., 151., 208., 287., 166., 239., 159., 411., 223.,\n",
       "       262., 162., 237., 194., 201., 714., 234., 232., 207., 131., 205.,\n",
       "       221., 630., 218., 209., 167., 172., 360., 246., 611., 184., 401.,\n",
       "       197., 164., 214., 291., 631., 652., 248., 220., 161., 254., 241.,\n",
       "       305., 289., 267., 605., 206., 196., 199., 242., 219.])"
      ]
     },
     "execution_count": 33,
     "metadata": {},
     "output_type": "execute_result"
    }
   ],
   "source": [
    "df['cites'].unique()"
   ]
  },
  {
   "cell_type": "code",
   "execution_count": 34,
   "id": "24f8a892-0a17-43d9-8a07-bf1c7b7c3556",
   "metadata": {
    "tags": []
   },
   "outputs": [
    {
     "data": {
      "text/plain": [
       "cites\n",
       "1.0      921892\n",
       "2.0      547939\n",
       "3.0      374677\n",
       "4.0      272947\n",
       "5.0      205949\n",
       "          ...  \n",
       "194.0         1\n",
       "714.0         1\n",
       "232.0         1\n",
       "207.0         1\n",
       "219.0         1\n",
       "Name: count, Length: 251, dtype: int64"
      ]
     },
     "execution_count": 34,
     "metadata": {},
     "output_type": "execute_result"
    }
   ],
   "source": [
    "df['cites'].value_counts()"
   ]
  },
  {
   "cell_type": "code",
   "execution_count": 35,
   "id": "e34b7918-9301-4d6d-aa63-037f4d961ee3",
   "metadata": {
    "tags": []
   },
   "outputs": [
    {
     "data": {
      "text/plain": [
       "citation    0\n",
       "patent      0\n",
       "cit_date    0\n",
       "cit_name    0\n",
       "citseq      0\n",
       "cites       0\n",
       "dtype: int64"
      ]
     },
     "execution_count": 35,
     "metadata": {},
     "output_type": "execute_result"
    }
   ],
   "source": [
    "df.isnull().sum()"
   ]
  },
  {
   "cell_type": "code",
   "execution_count": 36,
   "id": "57f196d4-bf29-4fff-9258-fc6fbbe4242e",
   "metadata": {
    "tags": []
   },
   "outputs": [],
   "source": [
    " # sns.heatmap(df.isnull(), cbar=False)"
   ]
  },
  {
   "cell_type": "code",
   "execution_count": 37,
   "id": "638032a8-7e58-4964-9089-e1cef9b52b61",
   "metadata": {},
   "outputs": [],
   "source": [
    "df.to_csv('Citations_1.csv')"
   ]
  }
 ],
 "metadata": {
  "kernelspec": {
   "display_name": "Python 3 (ipykernel)",
   "language": "python",
   "name": "python3"
  },
  "language_info": {
   "codemirror_mode": {
    "name": "ipython",
    "version": 3
   },
   "file_extension": ".py",
   "mimetype": "text/x-python",
   "name": "python",
   "nbconvert_exporter": "python",
   "pygments_lexer": "ipython3",
   "version": "3.9.8"
  }
 },
 "nbformat": 4,
 "nbformat_minor": 5
}
