{
 "cells": [
  {
   "cell_type": "code",
   "execution_count": 1,
   "id": "8e19a088-ed7e-486d-8394-a119a9a20b95",
   "metadata": {
    "tags": []
   },
   "outputs": [],
   "source": [
    "import numpy as np\n",
    "import pandas as pd\n",
    "import matplotlib.pyplot as plt\n",
    "import seaborn as sns"
   ]
  },
  {
   "cell_type": "code",
   "execution_count": 2,
   "id": "c7d56239-5a7a-42ca-95ec-368d00d79f21",
   "metadata": {
    "tags": []
   },
   "outputs": [],
   "source": [
    "import warnings\n",
    "warnings.filterwarnings('ignore')"
   ]
  },
  {
   "cell_type": "code",
   "execution_count": 3,
   "id": "f159dc90-52e4-464d-be09-db7def1e83d1",
   "metadata": {
    "tags": []
   },
   "outputs": [],
   "source": [
    "df = pd.read_csv('Assignees_1975-2010.csv')"
   ]
  },
  {
   "cell_type": "code",
   "execution_count": 4,
   "id": "2e7164a7-c88e-4880-9595-be2eb7ab65ed",
   "metadata": {
    "tags": []
   },
   "outputs": [
    {
     "data": {
      "text/html": [
       "<div>\n",
       "<style scoped>\n",
       "    .dataframe tbody tr th:only-of-type {\n",
       "        vertical-align: middle;\n",
       "    }\n",
       "\n",
       "    .dataframe tbody tr th {\n",
       "        vertical-align: top;\n",
       "    }\n",
       "\n",
       "    .dataframe thead th {\n",
       "        text-align: right;\n",
       "    }\n",
       "</style>\n",
       "<table border=\"1\" class=\"dataframe\">\n",
       "  <thead>\n",
       "    <tr style=\"text-align: right;\">\n",
       "      <th></th>\n",
       "      <th>Unnamed: 0</th>\n",
       "      <th>patent</th>\n",
       "      <th>asgtype</th>\n",
       "      <th>assignee</th>\n",
       "      <th>city</th>\n",
       "      <th>state</th>\n",
       "      <th>country</th>\n",
       "      <th>nationality</th>\n",
       "      <th>residence</th>\n",
       "      <th>asgseq</th>\n",
       "    </tr>\n",
       "  </thead>\n",
       "  <tbody>\n",
       "    <tr>\n",
       "      <th>0</th>\n",
       "      <td>0</td>\n",
       "      <td>3858241</td>\n",
       "      <td>6.0</td>\n",
       "      <td>UNITED STATES OF AMERICA, ARMY</td>\n",
       "      <td>NaN</td>\n",
       "      <td>NaN</td>\n",
       "      <td>NaN</td>\n",
       "      <td>NaN</td>\n",
       "      <td>NaN</td>\n",
       "      <td>0</td>\n",
       "    </tr>\n",
       "    <tr>\n",
       "      <th>1</th>\n",
       "      <td>1</td>\n",
       "      <td>3858242</td>\n",
       "      <td>1.0</td>\n",
       "      <td>NaN</td>\n",
       "      <td>NaN</td>\n",
       "      <td>NaN</td>\n",
       "      <td>NaN</td>\n",
       "      <td>NaN</td>\n",
       "      <td>NaN</td>\n",
       "      <td>0</td>\n",
       "    </tr>\n",
       "    <tr>\n",
       "      <th>2</th>\n",
       "      <td>2</td>\n",
       "      <td>3858243</td>\n",
       "      <td>3.0</td>\n",
       "      <td>PLYMATIC</td>\n",
       "      <td>NaN</td>\n",
       "      <td>NaN</td>\n",
       "      <td>NaN</td>\n",
       "      <td>NaN</td>\n",
       "      <td>NaN</td>\n",
       "      <td>0</td>\n",
       "    </tr>\n",
       "    <tr>\n",
       "      <th>3</th>\n",
       "      <td>3</td>\n",
       "      <td>3858244</td>\n",
       "      <td>1.0</td>\n",
       "      <td>NaN</td>\n",
       "      <td>NaN</td>\n",
       "      <td>NaN</td>\n",
       "      <td>NaN</td>\n",
       "      <td>NaN</td>\n",
       "      <td>NaN</td>\n",
       "      <td>0</td>\n",
       "    </tr>\n",
       "    <tr>\n",
       "      <th>4</th>\n",
       "      <td>4</td>\n",
       "      <td>3858245</td>\n",
       "      <td>2.0</td>\n",
       "      <td>HAIR AGAIN LTD.</td>\n",
       "      <td>NaN</td>\n",
       "      <td>NaN</td>\n",
       "      <td>NaN</td>\n",
       "      <td>NaN</td>\n",
       "      <td>NaN</td>\n",
       "      <td>0</td>\n",
       "    </tr>\n",
       "  </tbody>\n",
       "</table>\n",
       "</div>"
      ],
      "text/plain": [
       "   Unnamed: 0   patent  asgtype                        assignee city state   \n",
       "0           0  3858241      6.0  UNITED STATES OF AMERICA, ARMY  NaN   NaN  \\\n",
       "1           1  3858242      1.0                             NaN  NaN   NaN   \n",
       "2           2  3858243      3.0                        PLYMATIC  NaN   NaN   \n",
       "3           3  3858244      1.0                             NaN  NaN   NaN   \n",
       "4           4  3858245      2.0                 HAIR AGAIN LTD.  NaN   NaN   \n",
       "\n",
       "  country  nationality  residence  asgseq  \n",
       "0     NaN          NaN        NaN       0  \n",
       "1     NaN          NaN        NaN       0  \n",
       "2     NaN          NaN        NaN       0  \n",
       "3     NaN          NaN        NaN       0  \n",
       "4     NaN          NaN        NaN       0  "
      ]
     },
     "execution_count": 4,
     "metadata": {},
     "output_type": "execute_result"
    }
   ],
   "source": [
    "df.head()"
   ]
  },
  {
   "cell_type": "code",
   "execution_count": 5,
   "id": "40362351-96c5-4fe6-86c4-7151e5d4af0d",
   "metadata": {
    "tags": []
   },
   "outputs": [
    {
     "data": {
      "text/plain": [
       "(3755526, 10)"
      ]
     },
     "execution_count": 5,
     "metadata": {},
     "output_type": "execute_result"
    }
   ],
   "source": [
    "df.shape"
   ]
  },
  {
   "cell_type": "code",
   "execution_count": 6,
   "id": "7d7bc128-30e4-4aa2-ba9f-5018021d8349",
   "metadata": {
    "tags": []
   },
   "outputs": [
    {
     "name": "stdout",
     "output_type": "stream",
     "text": [
      "<class 'pandas.core.frame.DataFrame'>\n",
      "RangeIndex: 3755526 entries, 0 to 3755525\n",
      "Data columns (total 10 columns):\n",
      " #   Column       Dtype  \n",
      "---  ------       -----  \n",
      " 0   Unnamed: 0   int64  \n",
      " 1   patent       int64  \n",
      " 2   asgtype      float64\n",
      " 3   assignee     object \n",
      " 4   city         object \n",
      " 5   state        object \n",
      " 6   country      object \n",
      " 7   nationality  float64\n",
      " 8   residence    float64\n",
      " 9   asgseq       int64  \n",
      "dtypes: float64(3), int64(3), object(4)\n",
      "memory usage: 286.5+ MB\n"
     ]
    }
   ],
   "source": [
    "df.info()"
   ]
  },
  {
   "cell_type": "code",
   "execution_count": 7,
   "id": "4ea6bf16-ccc0-40a8-954a-9ea3779e729d",
   "metadata": {
    "tags": []
   },
   "outputs": [],
   "source": [
    "#sns.heatmap(df.isnull(), cbar=True)"
   ]
  },
  {
   "cell_type": "code",
   "execution_count": 8,
   "id": "a247fe2b-5a5c-40be-9c1b-e94fe8a99fab",
   "metadata": {
    "tags": []
   },
   "outputs": [],
   "source": [
    "df.drop(columns=['Unnamed: 0', 'nationality','residence'], axis=1, inplace=True)"
   ]
  },
  {
   "cell_type": "code",
   "execution_count": 9,
   "id": "087fa922-9a98-4eeb-8ce8-b279a97e666c",
   "metadata": {
    "tags": []
   },
   "outputs": [
    {
     "data": {
      "text/html": [
       "<div>\n",
       "<style scoped>\n",
       "    .dataframe tbody tr th:only-of-type {\n",
       "        vertical-align: middle;\n",
       "    }\n",
       "\n",
       "    .dataframe tbody tr th {\n",
       "        vertical-align: top;\n",
       "    }\n",
       "\n",
       "    .dataframe thead th {\n",
       "        text-align: right;\n",
       "    }\n",
       "</style>\n",
       "<table border=\"1\" class=\"dataframe\">\n",
       "  <thead>\n",
       "    <tr style=\"text-align: right;\">\n",
       "      <th></th>\n",
       "      <th>patent</th>\n",
       "      <th>asgtype</th>\n",
       "      <th>assignee</th>\n",
       "      <th>city</th>\n",
       "      <th>state</th>\n",
       "      <th>country</th>\n",
       "      <th>asgseq</th>\n",
       "    </tr>\n",
       "  </thead>\n",
       "  <tbody>\n",
       "    <tr>\n",
       "      <th>0</th>\n",
       "      <td>3858241</td>\n",
       "      <td>6.0</td>\n",
       "      <td>UNITED STATES OF AMERICA, ARMY</td>\n",
       "      <td>NaN</td>\n",
       "      <td>NaN</td>\n",
       "      <td>NaN</td>\n",
       "      <td>0</td>\n",
       "    </tr>\n",
       "    <tr>\n",
       "      <th>1</th>\n",
       "      <td>3858242</td>\n",
       "      <td>1.0</td>\n",
       "      <td>NaN</td>\n",
       "      <td>NaN</td>\n",
       "      <td>NaN</td>\n",
       "      <td>NaN</td>\n",
       "      <td>0</td>\n",
       "    </tr>\n",
       "    <tr>\n",
       "      <th>2</th>\n",
       "      <td>3858243</td>\n",
       "      <td>3.0</td>\n",
       "      <td>PLYMATIC</td>\n",
       "      <td>NaN</td>\n",
       "      <td>NaN</td>\n",
       "      <td>NaN</td>\n",
       "      <td>0</td>\n",
       "    </tr>\n",
       "    <tr>\n",
       "      <th>3</th>\n",
       "      <td>3858244</td>\n",
       "      <td>1.0</td>\n",
       "      <td>NaN</td>\n",
       "      <td>NaN</td>\n",
       "      <td>NaN</td>\n",
       "      <td>NaN</td>\n",
       "      <td>0</td>\n",
       "    </tr>\n",
       "    <tr>\n",
       "      <th>4</th>\n",
       "      <td>3858245</td>\n",
       "      <td>2.0</td>\n",
       "      <td>HAIR AGAIN LTD.</td>\n",
       "      <td>NaN</td>\n",
       "      <td>NaN</td>\n",
       "      <td>NaN</td>\n",
       "      <td>0</td>\n",
       "    </tr>\n",
       "  </tbody>\n",
       "</table>\n",
       "</div>"
      ],
      "text/plain": [
       "    patent  asgtype                        assignee city state country  asgseq\n",
       "0  3858241      6.0  UNITED STATES OF AMERICA, ARMY  NaN   NaN     NaN       0\n",
       "1  3858242      1.0                             NaN  NaN   NaN     NaN       0\n",
       "2  3858243      3.0                        PLYMATIC  NaN   NaN     NaN       0\n",
       "3  3858244      1.0                             NaN  NaN   NaN     NaN       0\n",
       "4  3858245      2.0                 HAIR AGAIN LTD.  NaN   NaN     NaN       0"
      ]
     },
     "execution_count": 9,
     "metadata": {},
     "output_type": "execute_result"
    }
   ],
   "source": [
    "df.head()"
   ]
  },
  {
   "cell_type": "code",
   "execution_count": 10,
   "id": "83ed4a81-efeb-4270-af40-568df0203776",
   "metadata": {
    "tags": []
   },
   "outputs": [
    {
     "data": {
      "text/plain": [
       "patent\n",
       "3858241    1\n",
       "6484597    1\n",
       "6484599    1\n",
       "6484600    1\n",
       "6484602    1\n",
       "          ..\n",
       "5112083    1\n",
       "5112084    1\n",
       "5112085    1\n",
       "5112086    1\n",
       "7861316    1\n",
       "Name: count, Length: 3755526, dtype: int64"
      ]
     },
     "execution_count": 10,
     "metadata": {},
     "output_type": "execute_result"
    }
   ],
   "source": [
    "df['patent'].value_counts()"
   ]
  },
  {
   "cell_type": "code",
   "execution_count": 11,
   "id": "bc97910a-20ec-40cf-afba-278acdab8338",
   "metadata": {
    "tags": []
   },
   "outputs": [
    {
     "data": {
      "text/plain": [
       "3755526"
      ]
     },
     "execution_count": 11,
     "metadata": {},
     "output_type": "execute_result"
    }
   ],
   "source": [
    "df['patent'].nunique()"
   ]
  },
  {
   "cell_type": "code",
   "execution_count": 12,
   "id": "d66c9986-8f70-4412-b7cc-b8ba369ae9a7",
   "metadata": {
    "tags": []
   },
   "outputs": [
    {
     "data": {
      "text/plain": [
       "array([3858241, 3858242, 3858243, ..., 7861314, 7861315, 7861316],\n",
       "      dtype=int64)"
      ]
     },
     "execution_count": 12,
     "metadata": {},
     "output_type": "execute_result"
    }
   ],
   "source": [
    "df['patent'].unique()"
   ]
  },
  {
   "cell_type": "code",
   "execution_count": 13,
   "id": "031108d4-fe89-40ef-9dcd-4e2af663584d",
   "metadata": {
    "tags": []
   },
   "outputs": [
    {
     "data": {
      "text/plain": [
       "asgtype\n",
       "2.0     1762533\n",
       "3.0     1591868\n",
       "1.0      326014\n",
       "6.0       36496\n",
       "4.0       14923\n",
       "7.0        9392\n",
       "5.0        7385\n",
       "0.0        6619\n",
       "14.0         82\n",
       "13.0         67\n",
       "12.0         66\n",
       "9.0          54\n",
       "15.0         20\n",
       "8.0           4\n",
       "16.0          1\n",
       "Name: count, dtype: int64"
      ]
     },
     "execution_count": 13,
     "metadata": {},
     "output_type": "execute_result"
    }
   ],
   "source": [
    "df['asgtype'].value_counts()"
   ]
  },
  {
   "cell_type": "code",
   "execution_count": 14,
   "id": "d7695b79-554c-4dc5-bded-1059b8c41640",
   "metadata": {
    "tags": []
   },
   "outputs": [
    {
     "data": {
      "text/plain": [
       "15"
      ]
     },
     "execution_count": 14,
     "metadata": {},
     "output_type": "execute_result"
    }
   ],
   "source": [
    "df['asgtype'].nunique()"
   ]
  },
  {
   "cell_type": "code",
   "execution_count": 15,
   "id": "2fd794d2-b514-4e76-9ac0-29650a8a2b8f",
   "metadata": {
    "tags": []
   },
   "outputs": [
    {
     "data": {
      "text/plain": [
       "array([ 6.,  1.,  3.,  2.,  4.,  5.,  7., 14., 13., 12.,  9., 15., 16.,\n",
       "        8., nan,  0.])"
      ]
     },
     "execution_count": 15,
     "metadata": {},
     "output_type": "execute_result"
    }
   ],
   "source": [
    "df['asgtype'].unique()"
   ]
  },
  {
   "cell_type": "code",
   "execution_count": 16,
   "id": "21ca3cca-db91-419a-b557-1d6e10a5971d",
   "metadata": {
    "tags": []
   },
   "outputs": [],
   "source": [
    "mean_value=df['asgtype'].mean()\n",
    "\n",
    "df['asgtype'].fillna(value=mean_value, inplace=True)"
   ]
  },
  {
   "cell_type": "code",
   "execution_count": 17,
   "id": "7213e0b3-4176-4276-9a9c-003b5a2b6de7",
   "metadata": {
    "tags": []
   },
   "outputs": [
    {
     "data": {
      "text/plain": [
       "array([ 6.       ,  1.       ,  3.       ,  2.       ,  4.       ,\n",
       "        5.       ,  7.       , 14.       , 13.       , 12.       ,\n",
       "        9.       , 15.       , 16.       ,  8.       ,  2.3995762,\n",
       "        0.       ])"
      ]
     },
     "execution_count": 17,
     "metadata": {},
     "output_type": "execute_result"
    }
   ],
   "source": [
    "df['asgtype'].unique()"
   ]
  },
  {
   "cell_type": "code",
   "execution_count": 18,
   "id": "ad96873d-32f9-4fe4-9eda-cbe974ee27e1",
   "metadata": {
    "tags": []
   },
   "outputs": [
    {
     "data": {
      "text/plain": [
       "16"
      ]
     },
     "execution_count": 18,
     "metadata": {},
     "output_type": "execute_result"
    }
   ],
   "source": [
    "df['asgtype'].nunique()"
   ]
  },
  {
   "cell_type": "code",
   "execution_count": 19,
   "id": "07a7a7f8-3f6c-4363-97ee-07ee2f239864",
   "metadata": {
    "tags": []
   },
   "outputs": [
    {
     "data": {
      "text/plain": [
       "assignee\n",
       "INTERNATIONAL BUSINESS MACHINES CORPORATION    37557\n",
       "CANON KABUSHIKI KAISHA                         27723\n",
       "GENERAL ELECTRIC COMPANY                       24620\n",
       "International Business Machines Corporation    24225\n",
       "NEC CORPORATION                                19566\n",
       "                                               ...  \n",
       "J. R. SHORT MILLING COMPANY                        1\n",
       "SIGMA COATINGS FARBEN- UND LACKWERKE GMBH          1\n",
       "MOUNTAIN DEVELPOMENT                               1\n",
       "SIKA AG, VORM. KASPER WINKLER & CO.                1\n",
       "Kurzweil Educational Systems, Inc.                 1\n",
       "Name: count, Length: 374194, dtype: int64"
      ]
     },
     "execution_count": 19,
     "metadata": {},
     "output_type": "execute_result"
    }
   ],
   "source": [
    "df['assignee'].value_counts()"
   ]
  },
  {
   "cell_type": "code",
   "execution_count": 20,
   "id": "dac971cd-650e-443e-a2fc-89e36bc15e9c",
   "metadata": {
    "tags": []
   },
   "outputs": [
    {
     "data": {
      "text/plain": [
       "374194"
      ]
     },
     "execution_count": 20,
     "metadata": {},
     "output_type": "execute_result"
    }
   ],
   "source": [
    "df['assignee'].nunique()"
   ]
  },
  {
   "cell_type": "code",
   "execution_count": 21,
   "id": "3a9c4ca6-2662-4efa-a780-aed1c7210809",
   "metadata": {
    "tags": []
   },
   "outputs": [
    {
     "data": {
      "text/plain": [
       "array(['UNITED STATES OF AMERICA, ARMY', nan, 'PLYMATIC', ...,\n",
       "       'Goldpocket Interactive', 'Symantec Software Corporation',\n",
       "       'Kurzweil Educational Systems, Inc.'], dtype=object)"
      ]
     },
     "execution_count": 21,
     "metadata": {},
     "output_type": "execute_result"
    }
   ],
   "source": [
    "df['assignee'].unique()"
   ]
  },
  {
   "cell_type": "code",
   "execution_count": 22,
   "id": "8d866285-9134-426b-ba85-a319af82bbcf",
   "metadata": {
    "tags": []
   },
   "outputs": [],
   "source": [
    "df['assignee'].fillna(value=\"Unspecified\", inplace=True)"
   ]
  },
  {
   "cell_type": "code",
   "execution_count": 23,
   "id": "8d7661d7-4c03-4d4a-9d76-673a61c72075",
   "metadata": {
    "tags": []
   },
   "outputs": [
    {
     "data": {
      "text/plain": [
       "array(['UNITED STATES OF AMERICA, ARMY', 'Unspecified', 'PLYMATIC', ...,\n",
       "       'Goldpocket Interactive', 'Symantec Software Corporation',\n",
       "       'Kurzweil Educational Systems, Inc.'], dtype=object)"
      ]
     },
     "execution_count": 23,
     "metadata": {},
     "output_type": "execute_result"
    }
   ],
   "source": [
    "df['assignee'].unique()"
   ]
  },
  {
   "cell_type": "code",
   "execution_count": 24,
   "id": "50005b2e-3a2f-47bf-aa97-e4fe77ad9924",
   "metadata": {
    "tags": []
   },
   "outputs": [
    {
     "data": {
      "text/plain": [
       "city\n",
       "TOKYO               113828\n",
       "Tokyo               112817\n",
       "OSAKA                27447\n",
       "Osaka                25520\n",
       "Armonk               24561\n",
       "                     ...  \n",
       "BREVIK                   1\n",
       "BIBERACH AM RISS         1\n",
       "JEPPO                    1\n",
       "TORISDORF                1\n",
       "Balbriggan               1\n",
       "Name: count, Length: 46988, dtype: int64"
      ]
     },
     "execution_count": 24,
     "metadata": {},
     "output_type": "execute_result"
    }
   ],
   "source": [
    "df['city'].value_counts()"
   ]
  },
  {
   "cell_type": "code",
   "execution_count": 25,
   "id": "339e7a77-f47e-4a17-aab2-db6ae8022ef6",
   "metadata": {
    "tags": []
   },
   "outputs": [
    {
     "data": {
      "text/plain": [
       "array([nan, 'MINNEAPOLIS', 'STOUGHTON', ..., 'Seabrook', 'North Gratton',\n",
       "       'Balbriggan'], dtype=object)"
      ]
     },
     "execution_count": 25,
     "metadata": {},
     "output_type": "execute_result"
    }
   ],
   "source": [
    "df['city'].unique()"
   ]
  },
  {
   "cell_type": "code",
   "execution_count": 26,
   "id": "aed39143-ff0f-49a3-bbaa-85ed48485945",
   "metadata": {
    "tags": []
   },
   "outputs": [
    {
     "data": {
      "text/plain": [
       "array([nan, 'MINNEAPOLIS', 'STOUGHTON', ..., 'Seabrook', 'North Gratton',\n",
       "       'Balbriggan'], dtype=object)"
      ]
     },
     "execution_count": 26,
     "metadata": {},
     "output_type": "execute_result"
    }
   ],
   "source": [
    "df['city'].unique()"
   ]
  },
  {
   "cell_type": "code",
   "execution_count": 27,
   "id": "c6d57e35-6ecf-4ac8-a4ce-e22613b6c1e1",
   "metadata": {
    "tags": []
   },
   "outputs": [],
   "source": [
    "df['city'].fillna(value=\"Unspecified\", inplace=True)"
   ]
  },
  {
   "cell_type": "code",
   "execution_count": 28,
   "id": "bce976e4-0375-4907-aa78-aa2040e6ce7e",
   "metadata": {
    "tags": []
   },
   "outputs": [
    {
     "data": {
      "text/plain": [
       "state\n",
       "CA    229230\n",
       "NY    106968\n",
       "TX     69689\n",
       "NJ     48938\n",
       "IL     48804\n",
       "MI     44408\n",
       "MA     41440\n",
       "OH     33793\n",
       "MN     29842\n",
       "WA     28705\n",
       "PA     28301\n",
       "CT     26931\n",
       "DE     19874\n",
       "ID     19311\n",
       "FL     16942\n",
       "WI     16289\n",
       "NC     13667\n",
       "DC     12115\n",
       "CO     11090\n",
       "MD     10347\n",
       "GA     10024\n",
       "IN     10002\n",
       "VA      9088\n",
       "MO      8788\n",
       "OR      7032\n",
       "NV      6977\n",
       "AZ      6540\n",
       "IA      6482\n",
       "TN      5942\n",
       "UT      5548\n",
       "KY      3969\n",
       "NH      3904\n",
       "OK      3857\n",
       "SC      3742\n",
       "KS      3573\n",
       "NM      2620\n",
       "AL      2324\n",
       "RI      2053\n",
       "LA      1730\n",
       "NE      1602\n",
       "ME      1136\n",
       "AR       997\n",
       "MS       780\n",
       "VT       756\n",
       "MT       718\n",
       "SD       456\n",
       "WV       433\n",
       "WY       366\n",
       "HI       357\n",
       "ND       298\n",
       "AK       158\n",
       "PR       101\n",
       "VI        46\n",
       "GU         1\n",
       "JP         1\n",
       "MH         1\n",
       "al         1\n",
       "Name: count, dtype: int64"
      ]
     },
     "execution_count": 28,
     "metadata": {},
     "output_type": "execute_result"
    }
   ],
   "source": [
    "df['state'].value_counts()"
   ]
  },
  {
   "cell_type": "code",
   "execution_count": 29,
   "id": "2a9fa340-c4f5-442d-a8cc-067250c7db8e",
   "metadata": {
    "tags": []
   },
   "outputs": [
    {
     "data": {
      "text/plain": [
       "57"
      ]
     },
     "execution_count": 29,
     "metadata": {},
     "output_type": "execute_result"
    }
   ],
   "source": [
    "df['state'].nunique()"
   ]
  },
  {
   "cell_type": "code",
   "execution_count": 30,
   "id": "65f3f484-09eb-4bf1-95c1-b4dad35fdd07",
   "metadata": {
    "tags": []
   },
   "outputs": [
    {
     "data": {
      "text/plain": [
       "array([nan, 'MN', 'MA', 'CT', 'OH', 'CA', 'IL', 'PA', 'MO', 'WI', 'NY',\n",
       "       'CO', 'MI', 'OK', 'OR', 'WA', 'IA', 'DE', 'FL', 'NJ', 'IN', 'GA',\n",
       "       'TX', 'SC', 'NH', 'TN', 'NC', 'ID', 'UT', 'MD', 'KY', 'KS', 'VA',\n",
       "       'DC', 'AZ', 'NV', 'NM', 'AL', 'HI', 'ME', 'NE', 'RI', 'MS', 'LA',\n",
       "       'AR', 'VT', 'MT', 'WV', 'AK', 'SD', 'WY', 'ND', 'PR', 'GU', 'VI',\n",
       "       'JP', 'MH', 'al'], dtype=object)"
      ]
     },
     "execution_count": 30,
     "metadata": {},
     "output_type": "execute_result"
    }
   ],
   "source": [
    "df['state'].unique()"
   ]
  },
  {
   "cell_type": "code",
   "execution_count": 31,
   "id": "b80142e0-f7a6-4901-95fb-fb42b7491382",
   "metadata": {
    "tags": []
   },
   "outputs": [],
   "source": [
    "df['state'].fillna(value=\"UN\", inplace=True)"
   ]
  },
  {
   "cell_type": "code",
   "execution_count": 32,
   "id": "fbe2b234-62cd-4729-a6b2-f7e6c7faf595",
   "metadata": {
    "tags": []
   },
   "outputs": [
    {
     "data": {
      "text/plain": [
       "country\n",
       "US    464042\n",
       "JP    444645\n",
       "DE    117683\n",
       "KR     68494\n",
       "TW     55919\n",
       "       ...  \n",
       "GP         1\n",
       "KG         1\n",
       "IQ         1\n",
       "LK         1\n",
       "GN         1\n",
       "Name: count, Length: 170, dtype: int64"
      ]
     },
     "execution_count": 32,
     "metadata": {},
     "output_type": "execute_result"
    }
   ],
   "source": [
    "df['country'].value_counts()"
   ]
  },
  {
   "cell_type": "code",
   "execution_count": 33,
   "id": "b456dd47-2270-4cd1-8998-6b845a389fa8",
   "metadata": {
    "tags": []
   },
   "outputs": [
    {
     "data": {
      "text/plain": [
       "170"
      ]
     },
     "execution_count": 33,
     "metadata": {},
     "output_type": "execute_result"
    }
   ],
   "source": [
    "df['country'].nunique()"
   ]
  },
  {
   "cell_type": "code",
   "execution_count": 34,
   "id": "1381ecdd-ed7c-425e-920e-0df9f61e20b0",
   "metadata": {
    "tags": []
   },
   "outputs": [
    {
     "data": {
      "text/plain": [
       "array([nan, 'SE', 'CA', 'DE', 'GB', 'FR', 'JP', 'CH', 'KR', 'IT', 'AT',\n",
       "       'BS', 'IL', 'FI', 'NL', 'AU', 'ZA', 'TW', 'ES', 'BR', 'IE', 'PA',\n",
       "       'LI', 'HK', 'DK', 'NO', 'BE', 'UY', 'VG', 'SG', 'AN', 'RU', 'MX',\n",
       "       'KY', 'HU', 'VE', 'CN', 'NZ', 'LU', 'PL', 'CL', 'CZ', 'BY', 'CU',\n",
       "       'SI', 'IN', 'BM', 'IS', 'PT', 'GT', 'HR', 'PR', 'BB', 'UA', 'GI',\n",
       "       'SA', 'TH', 'KN', 'US', 'AR', 'MC', 'LV', 'KW', 'SM', 'TC', 'CK',\n",
       "       'VI', 'CS', 'MY', 'GU', 'MA', 'GR', 'NG', 'BZ', 'CY', 'SK', 'SU',\n",
       "       'PK', 'PE', 'KP', 'RO', 'BG', 'CO', 'SZ', 'JO', 'AZ', 'EC', 'TR',\n",
       "       'LT', 'CR', 'DD', 'BH', 'GE', 'VU', 'ID', 'LR', 'IR', 'AM', 'HN',\n",
       "       'PG', 'NR', 'BD', 'MT', 'NE', 'PH', 'AI', 'EG', 'EE', 'KG', 'NC',\n",
       "       'MU', 'SN', 'SV', 'TM', 'NP', 'BA', 'PF', 'TT', 'MG', 'LK', 'XH',\n",
       "       'BV', 'BI', 'GC', 'BO', 'AE', 'AD', 'GH', 'LC', 'TV', 'SC', 'CI',\n",
       "       'CV', 'AW', 'DM', 'SL', 'MK', 'LB', 'PN', 'TK', 'GP', 'TN', 'IO',\n",
       "       'IQ', 'FK', 'ML', 'AG', 'CM', 'unknown', 'KM', 'KZ', 'MO', 'BN',\n",
       "       'WS', 'NI', 'BW', 'KE', 'FJ', 'VN', 'IM', 'DO', 'RS', 'JM', 'RW',\n",
       "       'MH', 'JE', 'GG', 'ME', 'PY', 'VC', 'GN'], dtype=object)"
      ]
     },
     "execution_count": 34,
     "metadata": {},
     "output_type": "execute_result"
    }
   ],
   "source": [
    "df['country'].unique()"
   ]
  },
  {
   "cell_type": "code",
   "execution_count": 35,
   "id": "9b51b160-12b8-4f41-adb4-4a03a0b4e08c",
   "metadata": {
    "tags": []
   },
   "outputs": [],
   "source": [
    "df['country'].fillna(value=\"UN\", inplace=True)"
   ]
  },
  {
   "cell_type": "code",
   "execution_count": 36,
   "id": "30fbd308-7ef4-4f67-889a-9a82acef4717",
   "metadata": {
    "tags": []
   },
   "outputs": [],
   "source": [
    "df['country'] = df['country'].replace('unknown', 'UN')"
   ]
  },
  {
   "cell_type": "code",
   "execution_count": 37,
   "id": "910c92ec-029a-4453-aece-9596f57a45ad",
   "metadata": {
    "tags": []
   },
   "outputs": [
    {
     "data": {
      "text/plain": [
       "array(['UN', 'SE', 'CA', 'DE', 'GB', 'FR', 'JP', 'CH', 'KR', 'IT', 'AT',\n",
       "       'BS', 'IL', 'FI', 'NL', 'AU', 'ZA', 'TW', 'ES', 'BR', 'IE', 'PA',\n",
       "       'LI', 'HK', 'DK', 'NO', 'BE', 'UY', 'VG', 'SG', 'AN', 'RU', 'MX',\n",
       "       'KY', 'HU', 'VE', 'CN', 'NZ', 'LU', 'PL', 'CL', 'CZ', 'BY', 'CU',\n",
       "       'SI', 'IN', 'BM', 'IS', 'PT', 'GT', 'HR', 'PR', 'BB', 'UA', 'GI',\n",
       "       'SA', 'TH', 'KN', 'US', 'AR', 'MC', 'LV', 'KW', 'SM', 'TC', 'CK',\n",
       "       'VI', 'CS', 'MY', 'GU', 'MA', 'GR', 'NG', 'BZ', 'CY', 'SK', 'SU',\n",
       "       'PK', 'PE', 'KP', 'RO', 'BG', 'CO', 'SZ', 'JO', 'AZ', 'EC', 'TR',\n",
       "       'LT', 'CR', 'DD', 'BH', 'GE', 'VU', 'ID', 'LR', 'IR', 'AM', 'HN',\n",
       "       'PG', 'NR', 'BD', 'MT', 'NE', 'PH', 'AI', 'EG', 'EE', 'KG', 'NC',\n",
       "       'MU', 'SN', 'SV', 'TM', 'NP', 'BA', 'PF', 'TT', 'MG', 'LK', 'XH',\n",
       "       'BV', 'BI', 'GC', 'BO', 'AE', 'AD', 'GH', 'LC', 'TV', 'SC', 'CI',\n",
       "       'CV', 'AW', 'DM', 'SL', 'MK', 'LB', 'PN', 'TK', 'GP', 'TN', 'IO',\n",
       "       'IQ', 'FK', 'ML', 'AG', 'CM', 'KM', 'KZ', 'MO', 'BN', 'WS', 'NI',\n",
       "       'BW', 'KE', 'FJ', 'VN', 'IM', 'DO', 'RS', 'JM', 'RW', 'MH', 'JE',\n",
       "       'GG', 'ME', 'PY', 'VC', 'GN'], dtype=object)"
      ]
     },
     "execution_count": 37,
     "metadata": {},
     "output_type": "execute_result"
    }
   ],
   "source": [
    "df['country'].unique()"
   ]
  },
  {
   "cell_type": "code",
   "execution_count": 38,
   "id": "ec80ae1b-1416-4fa5-9c53-513f17c54721",
   "metadata": {
    "tags": []
   },
   "outputs": [
    {
     "data": {
      "text/plain": [
       "asgseq\n",
       "0     3727397\n",
       "1       26297\n",
       "2        1508\n",
       "3         202\n",
       "4          60\n",
       "5          23\n",
       "6          11\n",
       "9          10\n",
       "8           7\n",
       "7           4\n",
       "12          3\n",
       "11          2\n",
       "10          2\n",
       "Name: count, dtype: int64"
      ]
     },
     "execution_count": 38,
     "metadata": {},
     "output_type": "execute_result"
    }
   ],
   "source": [
    "df['asgseq'].value_counts()"
   ]
  },
  {
   "cell_type": "code",
   "execution_count": 39,
   "id": "d35cd05a-d615-487c-92d2-3fb1ad392e35",
   "metadata": {
    "tags": []
   },
   "outputs": [
    {
     "data": {
      "text/plain": [
       "13"
      ]
     },
     "execution_count": 39,
     "metadata": {},
     "output_type": "execute_result"
    }
   ],
   "source": [
    "df['asgseq'].nunique()"
   ]
  },
  {
   "cell_type": "code",
   "execution_count": 40,
   "id": "d936b3ae-4cf0-4bbf-a776-85158de1dbed",
   "metadata": {
    "tags": []
   },
   "outputs": [
    {
     "data": {
      "text/plain": [
       "array([ 0,  1,  2,  3,  4,  5,  7, 11,  8,  6,  9, 12, 10], dtype=int64)"
      ]
     },
     "execution_count": 40,
     "metadata": {},
     "output_type": "execute_result"
    }
   ],
   "source": [
    "df['asgseq'].unique()"
   ]
  },
  {
   "cell_type": "code",
   "execution_count": 41,
   "id": "87d21d47-10b6-4931-b134-a24057217b56",
   "metadata": {
    "tags": []
   },
   "outputs": [],
   "source": [
    "#sns.heatmap(df.isnull(), cbar=True)"
   ]
  },
  {
   "cell_type": "code",
   "execution_count": 42,
   "id": "8ed0f33c-1eaa-4825-9201-0f6e9dea9c50",
   "metadata": {
    "tags": []
   },
   "outputs": [
    {
     "data": {
      "text/html": [
       "<div>\n",
       "<style scoped>\n",
       "    .dataframe tbody tr th:only-of-type {\n",
       "        vertical-align: middle;\n",
       "    }\n",
       "\n",
       "    .dataframe tbody tr th {\n",
       "        vertical-align: top;\n",
       "    }\n",
       "\n",
       "    .dataframe thead th {\n",
       "        text-align: right;\n",
       "    }\n",
       "</style>\n",
       "<table border=\"1\" class=\"dataframe\">\n",
       "  <thead>\n",
       "    <tr style=\"text-align: right;\">\n",
       "      <th></th>\n",
       "      <th>patent</th>\n",
       "      <th>asgtype</th>\n",
       "      <th>assignee</th>\n",
       "      <th>city</th>\n",
       "      <th>state</th>\n",
       "      <th>country</th>\n",
       "      <th>asgseq</th>\n",
       "    </tr>\n",
       "  </thead>\n",
       "  <tbody>\n",
       "    <tr>\n",
       "      <th>0</th>\n",
       "      <td>3858241</td>\n",
       "      <td>6.0</td>\n",
       "      <td>UNITED STATES OF AMERICA, ARMY</td>\n",
       "      <td>Unspecified</td>\n",
       "      <td>UN</td>\n",
       "      <td>UN</td>\n",
       "      <td>0</td>\n",
       "    </tr>\n",
       "    <tr>\n",
       "      <th>1</th>\n",
       "      <td>3858242</td>\n",
       "      <td>1.0</td>\n",
       "      <td>Unspecified</td>\n",
       "      <td>Unspecified</td>\n",
       "      <td>UN</td>\n",
       "      <td>UN</td>\n",
       "      <td>0</td>\n",
       "    </tr>\n",
       "    <tr>\n",
       "      <th>2</th>\n",
       "      <td>3858243</td>\n",
       "      <td>3.0</td>\n",
       "      <td>PLYMATIC</td>\n",
       "      <td>Unspecified</td>\n",
       "      <td>UN</td>\n",
       "      <td>UN</td>\n",
       "      <td>0</td>\n",
       "    </tr>\n",
       "    <tr>\n",
       "      <th>3</th>\n",
       "      <td>3858244</td>\n",
       "      <td>1.0</td>\n",
       "      <td>Unspecified</td>\n",
       "      <td>Unspecified</td>\n",
       "      <td>UN</td>\n",
       "      <td>UN</td>\n",
       "      <td>0</td>\n",
       "    </tr>\n",
       "    <tr>\n",
       "      <th>4</th>\n",
       "      <td>3858245</td>\n",
       "      <td>2.0</td>\n",
       "      <td>HAIR AGAIN LTD.</td>\n",
       "      <td>Unspecified</td>\n",
       "      <td>UN</td>\n",
       "      <td>UN</td>\n",
       "      <td>0</td>\n",
       "    </tr>\n",
       "  </tbody>\n",
       "</table>\n",
       "</div>"
      ],
      "text/plain": [
       "    patent  asgtype                        assignee         city state   \n",
       "0  3858241      6.0  UNITED STATES OF AMERICA, ARMY  Unspecified    UN  \\\n",
       "1  3858242      1.0                     Unspecified  Unspecified    UN   \n",
       "2  3858243      3.0                        PLYMATIC  Unspecified    UN   \n",
       "3  3858244      1.0                     Unspecified  Unspecified    UN   \n",
       "4  3858245      2.0                 HAIR AGAIN LTD.  Unspecified    UN   \n",
       "\n",
       "  country  asgseq  \n",
       "0      UN       0  \n",
       "1      UN       0  \n",
       "2      UN       0  \n",
       "3      UN       0  \n",
       "4      UN       0  "
      ]
     },
     "execution_count": 42,
     "metadata": {},
     "output_type": "execute_result"
    }
   ],
   "source": [
    "df.head()"
   ]
  },
  {
   "cell_type": "code",
   "execution_count": 43,
   "id": "73ac62f1-cc4a-43ac-8db3-c3155c2700ce",
   "metadata": {
    "tags": []
   },
   "outputs": [
    {
     "data": {
      "text/plain": [
       "Index(['patent', 'asgtype', 'assignee', 'city', 'state', 'country', 'asgseq'], dtype='object')"
      ]
     },
     "execution_count": 43,
     "metadata": {},
     "output_type": "execute_result"
    }
   ],
   "source": [
    "df.columns"
   ]
  },
  {
   "cell_type": "code",
   "execution_count": 44,
   "id": "e40f7e42-a3b9-4ebc-9f3b-fffd5d220047",
   "metadata": {},
   "outputs": [],
   "source": [
    "df.to_csv('Assignees.csv')"
   ]
  },
  {
   "cell_type": "code",
   "execution_count": null,
   "id": "6829cae3-ca0c-4a95-a39d-baecd02687d1",
   "metadata": {},
   "outputs": [],
   "source": []
  }
 ],
 "metadata": {
  "kernelspec": {
   "display_name": "Python 3 (ipykernel)",
   "language": "python",
   "name": "python3"
  },
  "language_info": {
   "codemirror_mode": {
    "name": "ipython",
    "version": 3
   },
   "file_extension": ".py",
   "mimetype": "text/x-python",
   "name": "python",
   "nbconvert_exporter": "python",
   "pygments_lexer": "ipython3",
   "version": "3.9.8"
  }
 },
 "nbformat": 4,
 "nbformat_minor": 5
}
