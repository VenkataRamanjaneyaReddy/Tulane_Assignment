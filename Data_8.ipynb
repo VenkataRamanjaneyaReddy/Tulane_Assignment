{
 "cells": [
  {
   "cell_type": "code",
   "execution_count": 1,
   "id": "636f7714-a313-4d45-8918-86da31b40087",
   "metadata": {
    "tags": []
   },
   "outputs": [],
   "source": [
    "import numpy as np\n",
    "import pandas as pd\n",
    "import matplotlib.pyplot as plt\n",
    "import seaborn as sns"
   ]
  },
  {
   "cell_type": "code",
   "execution_count": 2,
   "id": "ad940636-d6dd-4c97-9c97-c7fb4061bfd2",
   "metadata": {
    "tags": []
   },
   "outputs": [],
   "source": [
    "import warnings\n",
    "warnings.filterwarnings('ignore')"
   ]
  },
  {
   "cell_type": "code",
   "execution_count": 3,
   "id": "67d9c2b4-b1dd-423b-854c-824e696246d4",
   "metadata": {
    "tags": []
   },
   "outputs": [],
   "source": [
    "df = pd.read_csv('Patents_1975-2010.csv')"
   ]
  },
  {
   "cell_type": "code",
   "execution_count": 4,
   "id": "f7bf1df2-3dd4-4b32-8ddb-e84a0baf0b3a",
   "metadata": {
    "tags": []
   },
   "outputs": [
    {
     "data": {
      "text/html": [
       "<div>\n",
       "<style scoped>\n",
       "    .dataframe tbody tr th:only-of-type {\n",
       "        vertical-align: middle;\n",
       "    }\n",
       "\n",
       "    .dataframe tbody tr th {\n",
       "        vertical-align: top;\n",
       "    }\n",
       "\n",
       "    .dataframe thead th {\n",
       "        text-align: right;\n",
       "    }\n",
       "</style>\n",
       "<table border=\"1\" class=\"dataframe\">\n",
       "  <thead>\n",
       "    <tr style=\"text-align: right;\">\n",
       "      <th></th>\n",
       "      <th>Unnamed: 0</th>\n",
       "      <th>patent</th>\n",
       "      <th>kind</th>\n",
       "      <th>claims</th>\n",
       "      <th>apptype</th>\n",
       "      <th>appnum</th>\n",
       "      <th>gdate</th>\n",
       "      <th>gyear</th>\n",
       "      <th>appdate</th>\n",
       "      <th>appyear</th>\n",
       "    </tr>\n",
       "  </thead>\n",
       "  <tbody>\n",
       "    <tr>\n",
       "      <th>0</th>\n",
       "      <td>0</td>\n",
       "      <td>3858241</td>\n",
       "      <td>NaN</td>\n",
       "      <td>6.0</td>\n",
       "      <td>NaN</td>\n",
       "      <td>NaN</td>\n",
       "      <td>1975-01-07</td>\n",
       "      <td>1975</td>\n",
       "      <td>1974-03-26</td>\n",
       "      <td>1974.0</td>\n",
       "    </tr>\n",
       "    <tr>\n",
       "      <th>1</th>\n",
       "      <td>1</td>\n",
       "      <td>3858242</td>\n",
       "      <td>NaN</td>\n",
       "      <td>5.0</td>\n",
       "      <td>NaN</td>\n",
       "      <td>NaN</td>\n",
       "      <td>1975-01-07</td>\n",
       "      <td>1975</td>\n",
       "      <td>1973-04-16</td>\n",
       "      <td>1973.0</td>\n",
       "    </tr>\n",
       "    <tr>\n",
       "      <th>2</th>\n",
       "      <td>2</td>\n",
       "      <td>3858243</td>\n",
       "      <td>NaN</td>\n",
       "      <td>12.0</td>\n",
       "      <td>NaN</td>\n",
       "      <td>NaN</td>\n",
       "      <td>1975-01-07</td>\n",
       "      <td>1975</td>\n",
       "      <td>1973-07-11</td>\n",
       "      <td>1973.0</td>\n",
       "    </tr>\n",
       "    <tr>\n",
       "      <th>3</th>\n",
       "      <td>3</td>\n",
       "      <td>3858244</td>\n",
       "      <td>NaN</td>\n",
       "      <td>1.0</td>\n",
       "      <td>NaN</td>\n",
       "      <td>NaN</td>\n",
       "      <td>1975-01-07</td>\n",
       "      <td>1975</td>\n",
       "      <td>1973-12-17</td>\n",
       "      <td>1973.0</td>\n",
       "    </tr>\n",
       "    <tr>\n",
       "      <th>4</th>\n",
       "      <td>4</td>\n",
       "      <td>3858245</td>\n",
       "      <td>NaN</td>\n",
       "      <td>5.0</td>\n",
       "      <td>NaN</td>\n",
       "      <td>NaN</td>\n",
       "      <td>1975-01-07</td>\n",
       "      <td>1975</td>\n",
       "      <td>1972-05-18</td>\n",
       "      <td>1972.0</td>\n",
       "    </tr>\n",
       "  </tbody>\n",
       "</table>\n",
       "</div>"
      ],
      "text/plain": [
       "   Unnamed: 0   patent kind  claims  apptype  appnum       gdate  gyear   \n",
       "0           0  3858241  NaN     6.0      NaN     NaN  1975-01-07   1975  \\\n",
       "1           1  3858242  NaN     5.0      NaN     NaN  1975-01-07   1975   \n",
       "2           2  3858243  NaN    12.0      NaN     NaN  1975-01-07   1975   \n",
       "3           3  3858244  NaN     1.0      NaN     NaN  1975-01-07   1975   \n",
       "4           4  3858245  NaN     5.0      NaN     NaN  1975-01-07   1975   \n",
       "\n",
       "      appdate  appyear  \n",
       "0  1974-03-26   1974.0  \n",
       "1  1973-04-16   1973.0  \n",
       "2  1973-07-11   1973.0  \n",
       "3  1973-12-17   1973.0  \n",
       "4  1972-05-18   1972.0  "
      ]
     },
     "execution_count": 4,
     "metadata": {},
     "output_type": "execute_result"
    }
   ],
   "source": [
    "df.head()"
   ]
  },
  {
   "cell_type": "code",
   "execution_count": 5,
   "id": "14d7c1d4-d5cc-4a47-90c2-5e9e7822ed97",
   "metadata": {
    "tags": []
   },
   "outputs": [
    {
     "data": {
      "text/plain": [
       "(3984771, 10)"
      ]
     },
     "execution_count": 5,
     "metadata": {},
     "output_type": "execute_result"
    }
   ],
   "source": [
    "df.shape"
   ]
  },
  {
   "cell_type": "code",
   "execution_count": 6,
   "id": "55982ffd-1e3e-49fa-a858-f9bfc0c118e7",
   "metadata": {
    "tags": []
   },
   "outputs": [
    {
     "name": "stdout",
     "output_type": "stream",
     "text": [
      "<class 'pandas.core.frame.DataFrame'>\n",
      "RangeIndex: 3984771 entries, 0 to 3984770\n",
      "Data columns (total 10 columns):\n",
      " #   Column      Dtype  \n",
      "---  ------      -----  \n",
      " 0   Unnamed: 0  int64  \n",
      " 1   patent      int64  \n",
      " 2   kind        object \n",
      " 3   claims      float64\n",
      " 4   apptype     float64\n",
      " 5   appnum      float64\n",
      " 6   gdate       object \n",
      " 7   gyear       int64  \n",
      " 8   appdate     object \n",
      " 9   appyear     float64\n",
      "dtypes: float64(4), int64(3), object(3)\n",
      "memory usage: 304.0+ MB\n"
     ]
    }
   ],
   "source": [
    "df.info()"
   ]
  },
  {
   "cell_type": "code",
   "execution_count": 7,
   "id": "01eb8c04-7aaa-4b95-ba79-e3caf9ebc86e",
   "metadata": {
    "tags": []
   },
   "outputs": [
    {
     "data": {
      "text/plain": [
       "Unnamed: 0          0\n",
       "patent              0\n",
       "kind          2302931\n",
       "claims           1763\n",
       "apptype       1841665\n",
       "appnum        1838309\n",
       "gdate               0\n",
       "gyear               0\n",
       "appdate             2\n",
       "appyear             2\n",
       "dtype: int64"
      ]
     },
     "execution_count": 7,
     "metadata": {},
     "output_type": "execute_result"
    }
   ],
   "source": [
    "df.isnull().sum()"
   ]
  },
  {
   "cell_type": "code",
   "execution_count": 8,
   "id": "d40e5848-7cba-4825-8430-a32a1c4cefcd",
   "metadata": {
    "tags": []
   },
   "outputs": [],
   "source": [
    "df.drop(columns=['Unnamed: 0',], axis=1, inplace=True)"
   ]
  },
  {
   "cell_type": "code",
   "execution_count": 9,
   "id": "cf3d8731-8193-4da0-a080-c832b5bfa9ed",
   "metadata": {
    "tags": []
   },
   "outputs": [
    {
     "data": {
      "text/html": [
       "<div>\n",
       "<style scoped>\n",
       "    .dataframe tbody tr th:only-of-type {\n",
       "        vertical-align: middle;\n",
       "    }\n",
       "\n",
       "    .dataframe tbody tr th {\n",
       "        vertical-align: top;\n",
       "    }\n",
       "\n",
       "    .dataframe thead th {\n",
       "        text-align: right;\n",
       "    }\n",
       "</style>\n",
       "<table border=\"1\" class=\"dataframe\">\n",
       "  <thead>\n",
       "    <tr style=\"text-align: right;\">\n",
       "      <th></th>\n",
       "      <th>patent</th>\n",
       "      <th>kind</th>\n",
       "      <th>claims</th>\n",
       "      <th>apptype</th>\n",
       "      <th>appnum</th>\n",
       "      <th>gdate</th>\n",
       "      <th>gyear</th>\n",
       "      <th>appdate</th>\n",
       "      <th>appyear</th>\n",
       "    </tr>\n",
       "  </thead>\n",
       "  <tbody>\n",
       "    <tr>\n",
       "      <th>0</th>\n",
       "      <td>3858241</td>\n",
       "      <td>NaN</td>\n",
       "      <td>6.0</td>\n",
       "      <td>NaN</td>\n",
       "      <td>NaN</td>\n",
       "      <td>1975-01-07</td>\n",
       "      <td>1975</td>\n",
       "      <td>1974-03-26</td>\n",
       "      <td>1974.0</td>\n",
       "    </tr>\n",
       "    <tr>\n",
       "      <th>1</th>\n",
       "      <td>3858242</td>\n",
       "      <td>NaN</td>\n",
       "      <td>5.0</td>\n",
       "      <td>NaN</td>\n",
       "      <td>NaN</td>\n",
       "      <td>1975-01-07</td>\n",
       "      <td>1975</td>\n",
       "      <td>1973-04-16</td>\n",
       "      <td>1973.0</td>\n",
       "    </tr>\n",
       "    <tr>\n",
       "      <th>2</th>\n",
       "      <td>3858243</td>\n",
       "      <td>NaN</td>\n",
       "      <td>12.0</td>\n",
       "      <td>NaN</td>\n",
       "      <td>NaN</td>\n",
       "      <td>1975-01-07</td>\n",
       "      <td>1975</td>\n",
       "      <td>1973-07-11</td>\n",
       "      <td>1973.0</td>\n",
       "    </tr>\n",
       "    <tr>\n",
       "      <th>3</th>\n",
       "      <td>3858244</td>\n",
       "      <td>NaN</td>\n",
       "      <td>1.0</td>\n",
       "      <td>NaN</td>\n",
       "      <td>NaN</td>\n",
       "      <td>1975-01-07</td>\n",
       "      <td>1975</td>\n",
       "      <td>1973-12-17</td>\n",
       "      <td>1973.0</td>\n",
       "    </tr>\n",
       "    <tr>\n",
       "      <th>4</th>\n",
       "      <td>3858245</td>\n",
       "      <td>NaN</td>\n",
       "      <td>5.0</td>\n",
       "      <td>NaN</td>\n",
       "      <td>NaN</td>\n",
       "      <td>1975-01-07</td>\n",
       "      <td>1975</td>\n",
       "      <td>1972-05-18</td>\n",
       "      <td>1972.0</td>\n",
       "    </tr>\n",
       "  </tbody>\n",
       "</table>\n",
       "</div>"
      ],
      "text/plain": [
       "    patent kind  claims  apptype  appnum       gdate  gyear     appdate   \n",
       "0  3858241  NaN     6.0      NaN     NaN  1975-01-07   1975  1974-03-26  \\\n",
       "1  3858242  NaN     5.0      NaN     NaN  1975-01-07   1975  1973-04-16   \n",
       "2  3858243  NaN    12.0      NaN     NaN  1975-01-07   1975  1973-07-11   \n",
       "3  3858244  NaN     1.0      NaN     NaN  1975-01-07   1975  1973-12-17   \n",
       "4  3858245  NaN     5.0      NaN     NaN  1975-01-07   1975  1972-05-18   \n",
       "\n",
       "   appyear  \n",
       "0   1974.0  \n",
       "1   1973.0  \n",
       "2   1973.0  \n",
       "3   1973.0  \n",
       "4   1972.0  "
      ]
     },
     "execution_count": 9,
     "metadata": {},
     "output_type": "execute_result"
    }
   ],
   "source": [
    "df.head()"
   ]
  },
  {
   "cell_type": "code",
   "execution_count": 10,
   "id": "dcfda75c-254e-441b-b85c-97b7f086c506",
   "metadata": {
    "tags": []
   },
   "outputs": [
    {
     "data": {
      "text/plain": [
       "patent\n",
       "3858241    1\n",
       "6528317    1\n",
       "6528289    1\n",
       "6528290    1\n",
       "6528291    1\n",
       "          ..\n",
       "5188996    1\n",
       "5188997    1\n",
       "5188998    1\n",
       "5188999    1\n",
       "7788732    1\n",
       "Name: count, Length: 3984771, dtype: int64"
      ]
     },
     "execution_count": 10,
     "metadata": {},
     "output_type": "execute_result"
    }
   ],
   "source": [
    "df['patent'].value_counts()"
   ]
  },
  {
   "cell_type": "code",
   "execution_count": 11,
   "id": "a8329e95-e4b9-410c-b66d-c3303ec1ec09",
   "metadata": {
    "tags": []
   },
   "outputs": [
    {
     "data": {
      "text/plain": [
       "3984771"
      ]
     },
     "execution_count": 11,
     "metadata": {},
     "output_type": "execute_result"
    }
   ],
   "source": [
    "df['patent'].nunique()"
   ]
  },
  {
   "cell_type": "code",
   "execution_count": 12,
   "id": "04d17c96-e443-4f44-b396-b23829b8294c",
   "metadata": {
    "tags": []
   },
   "outputs": [
    {
     "data": {
      "text/plain": [
       "kind\n",
       "B2    1119954\n",
       "B1     561885\n",
       "A1          1\n",
       "Name: count, dtype: int64"
      ]
     },
     "execution_count": 12,
     "metadata": {},
     "output_type": "execute_result"
    }
   ],
   "source": [
    "df['kind'].value_counts()"
   ]
  },
  {
   "cell_type": "code",
   "execution_count": 13,
   "id": "772272c3-444c-4cbf-acf8-e099a79eddd6",
   "metadata": {
    "tags": []
   },
   "outputs": [
    {
     "data": {
      "text/plain": [
       "3"
      ]
     },
     "execution_count": 13,
     "metadata": {},
     "output_type": "execute_result"
    }
   ],
   "source": [
    "df['kind'].nunique()"
   ]
  },
  {
   "cell_type": "code",
   "execution_count": 14,
   "id": "614b8fef-7cec-4e2a-8da4-cd9d36e7d8ee",
   "metadata": {
    "tags": []
   },
   "outputs": [
    {
     "data": {
      "text/plain": [
       "array([nan, 'B1', 'B2', 'A1'], dtype=object)"
      ]
     },
     "execution_count": 14,
     "metadata": {},
     "output_type": "execute_result"
    }
   ],
   "source": [
    "df['kind'].unique()"
   ]
  },
  {
   "cell_type": "code",
   "execution_count": 15,
   "id": "3195bf67-41bf-4e65-92bf-ebb85ba30878",
   "metadata": {
    "tags": []
   },
   "outputs": [],
   "source": [
    "df['kind'].fillna(value= \"U1\", inplace=True)"
   ]
  },
  {
   "cell_type": "code",
   "execution_count": 16,
   "id": "bae64359-33ca-4cf4-b55d-3994cbd737a3",
   "metadata": {
    "tags": []
   },
   "outputs": [
    {
     "data": {
      "text/plain": [
       "claims\n",
       "6.0      211507\n",
       "8.0      207149\n",
       "10.0     202768\n",
       "7.0      194459\n",
       "5.0      188456\n",
       "          ...  \n",
       "390.0         1\n",
       "383.0         1\n",
       "496.0         1\n",
       "665.0         1\n",
       "520.0         1\n",
       "Name: count, Length: 366, dtype: int64"
      ]
     },
     "execution_count": 16,
     "metadata": {},
     "output_type": "execute_result"
    }
   ],
   "source": [
    "df['claims'].value_counts()"
   ]
  },
  {
   "cell_type": "code",
   "execution_count": 17,
   "id": "0355b9f6-3de3-4e27-a02c-0365c007a86a",
   "metadata": {
    "tags": []
   },
   "outputs": [
    {
     "data": {
      "text/plain": [
       "366"
      ]
     },
     "execution_count": 17,
     "metadata": {},
     "output_type": "execute_result"
    }
   ],
   "source": [
    "df['claims'].nunique()"
   ]
  },
  {
   "cell_type": "code",
   "execution_count": 18,
   "id": "1d3029e3-982d-49ae-9b46-4f1b04d1fd88",
   "metadata": {
    "tags": []
   },
   "outputs": [
    {
     "data": {
      "text/plain": [
       "array([  6.,   5.,  12.,   1.,   4.,  17.,   2.,   3.,  10.,   8.,  16.,\n",
       "        11.,  19.,   9.,  24.,  14.,  13.,  23.,  21.,  20.,  22.,   7.,\n",
       "        15.,  30.,  35.,  28.,  18.,  57.,  36.,  25.,  51.,  26.,  34.,\n",
       "        33.,  37.,  27.,  31.,  67.,  29.,  nan,  47.,  32.,  72.,  43.,\n",
       "        38.,  46.,  41.,  45.,  59.,  39.,  40.,  80.,  42.,  44.,  53.,\n",
       "        63.,  61.,  55.,  62.,  49.,  50., 104.,  81.,  73., 127.,  56.,\n",
       "        60.,  76.,  58.,  79.,  85.,  74.,  48.,  68., 101.,  65.,  86.,\n",
       "        66.,  75.,  78.,  97.,  54.,  70.,  52., 103., 111.,  83., 108.,\n",
       "       115.,  88., 147.,  69.,  64., 176., 119., 139.,  91., 112., 109.,\n",
       "        71.,  93., 135.,  98., 132.,  96.,  82., 212., 160.,  87., 106.,\n",
       "       218.,  94., 140., 128.,  89., 122., 260.,  84., 116.,  77., 105.,\n",
       "       136.,  92., 120., 141., 148.,  90., 100., 102.,  95., 133., 154.,\n",
       "       226.,  99., 195., 393., 124., 472., 175., 706., 110., 153., 211.,\n",
       "       254., 131., 152., 145., 146., 134., 113., 114., 123., 121., 125.,\n",
       "       272., 126., 187., 185., 130., 216., 194., 210., 129., 174., 190.,\n",
       "       189., 118., 117., 107., 143., 248., 172., 263., 149., 144., 182.,\n",
       "       178., 262., 162., 177., 137., 142., 184., 642., 192., 237., 155.,\n",
       "       167., 171., 249., 244., 180., 208., 164., 169., 346., 183., 298.,\n",
       "       181., 222., 166., 258., 165., 394., 279., 168., 188., 156., 215.,\n",
       "       159., 158., 157., 307., 250., 161., 313., 241., 170., 202., 234.,\n",
       "       292., 193., 199., 179., 151., 138., 868., 224., 231., 150., 306.,\n",
       "       201., 198., 232., 203., 163., 219., 205., 247., 207., 235., 204.,\n",
       "       197., 264., 200., 276., 229., 221., 220., 191., 223., 309., 213.,\n",
       "       217., 196., 225., 240., 236., 173., 288., 320., 348., 228., 214.,\n",
       "       293., 243., 379., 186., 246., 375., 315., 358., 499., 267., 341.,\n",
       "       683., 245., 374., 415., 335., 259., 323., 206., 308., 392., 347.,\n",
       "       318., 356., 273., 665., 496., 383., 299., 290., 303., 390., 300.,\n",
       "       304., 238., 227., 230., 373., 525., 376., 294., 239., 261., 233.,\n",
       "       444., 285., 251., 340., 596., 283., 296., 266., 209., 382., 380.,\n",
       "       255., 305., 887., 694., 319., 280., 269., 505., 265., 257., 418.,\n",
       "       513., 364., 500., 359., 302., 466., 517., 397., 338., 342., 284.,\n",
       "       268., 252., 312., 275., 522., 277., 424., 803., 253., 330., 271.,\n",
       "       289., 297., 287., 396., 489., 324., 270., 334., 368., 478., 333.,\n",
       "       389., 242., 401., 520.])"
      ]
     },
     "execution_count": 18,
     "metadata": {},
     "output_type": "execute_result"
    }
   ],
   "source": [
    "df['claims'].unique()"
   ]
  },
  {
   "cell_type": "code",
   "execution_count": 19,
   "id": "1963368e-3b63-41ae-a7cc-000327ba6a7a",
   "metadata": {
    "tags": []
   },
   "outputs": [],
   "source": [
    "b= df['claims'].isnull().values.any()"
   ]
  },
  {
   "cell_type": "code",
   "execution_count": 20,
   "id": "b1bc2aec-ae88-4a1b-9f89-bf60a787f3d8",
   "metadata": {
    "tags": []
   },
   "outputs": [
    {
     "data": {
      "text/plain": [
       "True"
      ]
     },
     "execution_count": 20,
     "metadata": {},
     "output_type": "execute_result"
    }
   ],
   "source": [
    "b"
   ]
  },
  {
   "cell_type": "code",
   "execution_count": 21,
   "id": "5ca43da0-ef28-4f8f-b23f-7f9389ac9805",
   "metadata": {
    "tags": []
   },
   "outputs": [],
   "source": [
    "mean_value=df['claims'].mean()\n",
    "\n",
    "df['claims'].fillna(value=mean_value, inplace=True)"
   ]
  },
  {
   "cell_type": "code",
   "execution_count": 22,
   "id": "bbd12346-2b48-4b1b-a490-9fd6b586d23a",
   "metadata": {
    "tags": []
   },
   "outputs": [
    {
     "data": {
      "text/plain": [
       "apptype\n",
       "10.0    612743\n",
       "9.0     564104\n",
       "1.0     461266\n",
       "11.0    409480\n",
       "12.0     65911\n",
       "8.0      28781\n",
       "7.0        640\n",
       "6.0         92\n",
       "5.0         59\n",
       "4.0         18\n",
       "3.0          8\n",
       "2.0          4\n",
       "Name: count, dtype: int64"
      ]
     },
     "execution_count": 22,
     "metadata": {},
     "output_type": "execute_result"
    }
   ],
   "source": [
    "df['apptype'].value_counts()"
   ]
  },
  {
   "cell_type": "code",
   "execution_count": 23,
   "id": "399f3b49-c357-46b4-b9aa-19ce559eefa9",
   "metadata": {
    "tags": []
   },
   "outputs": [
    {
     "data": {
      "text/plain": [
       "12"
      ]
     },
     "execution_count": 23,
     "metadata": {},
     "output_type": "execute_result"
    }
   ],
   "source": [
    "df['apptype'].nunique()"
   ]
  },
  {
   "cell_type": "code",
   "execution_count": 24,
   "id": "33181a2a-5972-4eb1-9b72-30d7de350e67",
   "metadata": {
    "tags": []
   },
   "outputs": [
    {
     "data": {
      "text/plain": [
       "array([nan,  8.,  1.,  7.,  9.,  4.,  2.,  6.,  5.,  3., 10., 11., 12.])"
      ]
     },
     "execution_count": 24,
     "metadata": {},
     "output_type": "execute_result"
    }
   ],
   "source": [
    "df['apptype'].unique()"
   ]
  },
  {
   "cell_type": "code",
   "execution_count": 25,
   "id": "50ac0722-a862-4227-b76b-a6c350ea2439",
   "metadata": {
    "tags": []
   },
   "outputs": [],
   "source": [
    "mean_value=df['apptype'].mean()\n",
    "\n",
    "df['apptype'].fillna(value=mean_value, inplace=True)"
   ]
  },
  {
   "cell_type": "code",
   "execution_count": 26,
   "id": "40d9c72a-88d2-43fc-b5b7-f375bc9deec8",
   "metadata": {
    "tags": []
   },
   "outputs": [
    {
     "data": {
      "text/plain": [
       "array([      nan,  8634532.,  7357958., ..., 11333452., 11089818.,\n",
       "       11726590.])"
      ]
     },
     "execution_count": 26,
     "metadata": {},
     "output_type": "execute_result"
    }
   ],
   "source": [
    "df['appnum'].unique()"
   ]
  },
  {
   "cell_type": "code",
   "execution_count": 27,
   "id": "3e552433-ca67-4a21-92f5-efce48ac0614",
   "metadata": {
    "tags": []
   },
   "outputs": [],
   "source": [
    "mean_value=df['appnum'].mean()\n",
    "\n",
    "df['appnum'].fillna(value=mean_value, inplace=True)"
   ]
  },
  {
   "cell_type": "code",
   "execution_count": 28,
   "id": "9517c3fd-b953-4ae1-a65a-6ac15bfeb230",
   "metadata": {
    "tags": []
   },
   "outputs": [],
   "source": [
    "df['gdate'] = pd.to_datetime(df['gdate'], errors='coerce')"
   ]
  },
  {
   "cell_type": "code",
   "execution_count": 29,
   "id": "a6de19fc-6218-4dea-854e-e74b70979240",
   "metadata": {
    "tags": []
   },
   "outputs": [
    {
     "data": {
      "text/plain": [
       "1879"
      ]
     },
     "execution_count": 29,
     "metadata": {},
     "output_type": "execute_result"
    }
   ],
   "source": [
    "df['gdate'].nunique()"
   ]
  },
  {
   "cell_type": "code",
   "execution_count": 30,
   "id": "fc212321-b5f0-47d3-8416-0211a2b347d9",
   "metadata": {
    "tags": []
   },
   "outputs": [
    {
     "data": {
      "text/plain": [
       "<DatetimeArray>\n",
       "['1975-01-07 00:00:00', '1975-01-14 00:00:00', '1975-01-21 00:00:00',\n",
       " '1975-01-28 00:00:00', '1975-02-04 00:00:00', '1975-02-11 00:00:00',\n",
       " '1975-02-18 00:00:00', '1975-02-25 00:00:00', '1975-03-04 00:00:00',\n",
       " '1975-03-11 00:00:00',\n",
       " ...\n",
       " '2010-06-22 00:00:00', '2010-06-01 00:00:00', '2010-02-23 00:00:00',\n",
       " '2010-09-28 00:00:00', '2010-07-27 00:00:00', '2010-05-04 00:00:00',\n",
       " '2010-02-02 00:00:00', '2010-03-02 00:00:00', '2010-01-26 00:00:00',\n",
       " '2010-08-31 00:00:00']\n",
       "Length: 1879, dtype: datetime64[ns]"
      ]
     },
     "execution_count": 30,
     "metadata": {},
     "output_type": "execute_result"
    }
   ],
   "source": [
    "df['gdate'].unique()"
   ]
  },
  {
   "cell_type": "code",
   "execution_count": 31,
   "id": "9de9f822-dbd8-4d28-b416-f4cd8453bd2a",
   "metadata": {
    "tags": []
   },
   "outputs": [],
   "source": [
    "x = df['gdate'].isnull().values.any()"
   ]
  },
  {
   "cell_type": "code",
   "execution_count": 32,
   "id": "0d58fe03-c429-428e-9172-235a416dcf4b",
   "metadata": {
    "tags": []
   },
   "outputs": [
    {
     "data": {
      "text/plain": [
       "False"
      ]
     },
     "execution_count": 32,
     "metadata": {},
     "output_type": "execute_result"
    }
   ],
   "source": [
    "x"
   ]
  },
  {
   "cell_type": "code",
   "execution_count": 33,
   "id": "a5788354-1e4a-495d-a028-5d8087940990",
   "metadata": {
    "tags": []
   },
   "outputs": [
    {
     "data": {
      "text/plain": [
       "gyear\n",
       "2010    219909\n",
       "2006    173922\n",
       "2003    169105\n",
       "2009    167537\n",
       "2002    167424\n",
       "2001    166065\n",
       "2004    164413\n",
       "2008    157894\n",
       "2000    157596\n",
       "2007    157502\n",
       "1999    153593\n",
       "1998    147574\n",
       "2005    143927\n",
       "1997    111984\n",
       "1996    109645\n",
       "1994    101676\n",
       "1995    101419\n",
       "1993     98342\n",
       "1992     97444\n",
       "1991     96513\n",
       "1989     95537\n",
       "1990     90364\n",
       "1987     82952\n",
       "1988     77924\n",
       "1975     72000\n",
       "1985     71661\n",
       "1986     70860\n",
       "1976     70226\n",
       "1984     67200\n",
       "1978     66102\n",
       "1981     65771\n",
       "1977     65269\n",
       "1980     61819\n",
       "1982     57888\n",
       "1983     56860\n",
       "1979     48854\n",
       "Name: count, dtype: int64"
      ]
     },
     "execution_count": 33,
     "metadata": {},
     "output_type": "execute_result"
    }
   ],
   "source": [
    "df['gyear'].value_counts()"
   ]
  },
  {
   "cell_type": "code",
   "execution_count": 34,
   "id": "3ce1169d-5890-4d7a-9b48-e3e280260706",
   "metadata": {
    "tags": []
   },
   "outputs": [
    {
     "data": {
      "text/plain": [
       "36"
      ]
     },
     "execution_count": 34,
     "metadata": {},
     "output_type": "execute_result"
    }
   ],
   "source": [
    "df['gyear'].nunique()"
   ]
  },
  {
   "cell_type": "code",
   "execution_count": 35,
   "id": "cbd33805-e526-4d2d-9e8b-2026d3b7e098",
   "metadata": {
    "tags": []
   },
   "outputs": [
    {
     "data": {
      "text/plain": [
       "array([1975, 1976, 1977, 1978, 1979, 1980, 1981, 1982, 1983, 1984, 1985,\n",
       "       1986, 1987, 1988, 1989, 1990, 1991, 1992, 1993, 1994, 1995, 1996,\n",
       "       1997, 1998, 1999, 2000, 2001, 2002, 2003, 2004, 2005, 2006, 2007,\n",
       "       2008, 2009, 2010], dtype=int64)"
      ]
     },
     "execution_count": 35,
     "metadata": {},
     "output_type": "execute_result"
    }
   ],
   "source": [
    "df['gyear'].unique()"
   ]
  },
  {
   "cell_type": "code",
   "execution_count": 36,
   "id": "98655835-7084-408a-b02b-e721a814dffe",
   "metadata": {
    "tags": []
   },
   "outputs": [],
   "source": [
    "y = df['gyear'].isnull().values.any()"
   ]
  },
  {
   "cell_type": "code",
   "execution_count": 37,
   "id": "5259c0b7-b11f-4bec-889b-01902cbc7973",
   "metadata": {
    "tags": []
   },
   "outputs": [
    {
     "data": {
      "text/plain": [
       "False"
      ]
     },
     "execution_count": 37,
     "metadata": {},
     "output_type": "execute_result"
    }
   ],
   "source": [
    "y"
   ]
  },
  {
   "cell_type": "code",
   "execution_count": 38,
   "id": "9b36b61a-446d-4ce7-8ba5-bdfbaa3c4dcc",
   "metadata": {
    "tags": []
   },
   "outputs": [],
   "source": [
    "df['appdate'] = pd.to_datetime(df['appdate'], errors='coerce')"
   ]
  },
  {
   "cell_type": "code",
   "execution_count": 39,
   "id": "ef9cc25d-6783-43f7-b538-96cdd963683d",
   "metadata": {
    "tags": []
   },
   "outputs": [
    {
     "data": {
      "text/plain": [
       "dtype('<M8[ns]')"
      ]
     },
     "execution_count": 39,
     "metadata": {},
     "output_type": "execute_result"
    }
   ],
   "source": [
    "df['appdate'].dtypes"
   ]
  },
  {
   "cell_type": "code",
   "execution_count": 40,
   "id": "9fea74fa-ed76-496b-92c7-b50d10cb8b49",
   "metadata": {
    "tags": []
   },
   "outputs": [],
   "source": [
    "z = df['appdate'].isnull().values.any()"
   ]
  },
  {
   "cell_type": "code",
   "execution_count": 41,
   "id": "d0533d87-95f6-4c27-a5cd-9d7f13aa1e1a",
   "metadata": {
    "tags": []
   },
   "outputs": [
    {
     "data": {
      "text/plain": [
       "True"
      ]
     },
     "execution_count": 41,
     "metadata": {},
     "output_type": "execute_result"
    }
   ],
   "source": [
    "z"
   ]
  },
  {
   "cell_type": "code",
   "execution_count": 42,
   "id": "6e64cfbf-5a2b-4978-a72b-4930eb078eb7",
   "metadata": {
    "tags": []
   },
   "outputs": [],
   "source": [
    "mean_value=df['appdate'].mean()\n",
    "\n",
    "df['appdate'].fillna(value=mean_value, inplace=True)"
   ]
  },
  {
   "cell_type": "code",
   "execution_count": 43,
   "id": "86e27d41-657f-4d7c-a415-c5f54eaf8744",
   "metadata": {
    "tags": []
   },
   "outputs": [
    {
     "data": {
      "text/plain": [
       "appyear\n",
       "2001.0    208908\n",
       "2002.0    206229\n",
       "2000.0    196639\n",
       "2003.0    191514\n",
       "2004.0    181840\n",
       "           ...  \n",
       "1905.0         1\n",
       "1921.0         1\n",
       "1915.0         1\n",
       "1929.0         1\n",
       "1922.0         1\n",
       "Name: count, Length: 90, dtype: int64"
      ]
     },
     "execution_count": 43,
     "metadata": {},
     "output_type": "execute_result"
    }
   ],
   "source": [
    "df['appyear'].value_counts()"
   ]
  },
  {
   "cell_type": "code",
   "execution_count": 44,
   "id": "38448090-c9d2-4187-971c-7c668222cbf0",
   "metadata": {
    "tags": []
   },
   "outputs": [
    {
     "data": {
      "text/plain": [
       "90"
      ]
     },
     "execution_count": 44,
     "metadata": {},
     "output_type": "execute_result"
    }
   ],
   "source": [
    "df['appyear'].nunique()"
   ]
  },
  {
   "cell_type": "code",
   "execution_count": 45,
   "id": "3b7b5cef-1a96-42e9-a280-dadc1f5f27f7",
   "metadata": {
    "tags": []
   },
   "outputs": [
    {
     "data": {
      "text/plain": [
       "array([1974., 1973., 1972., 1971., 1970., 1969., 1965., 1960., 1961.,\n",
       "       1967., 1966., 1968., 1963., 1959., 1957., 1964., 1954., 1958.,\n",
       "       1962., 1975., 1955., 1956., 1944., 1942., 1953., 1950., 1945.,\n",
       "       1946., 1943., 1952.,   nan, 1949., 1948., 1976., 1941., 1951.,\n",
       "       1925., 1977., 1978., 1940., 1938., 1979., 1936., 1947., 1980.,\n",
       "       1981., 1982., 1983., 1984., 1922., 1904., 1985., 1930., 1986.,\n",
       "       1987., 1988., 1989., 1990., 1931., 1908., 1918., 1939., 1991.,\n",
       "       1992., 1921., 1901., 1993., 1902., 1909., 1903., 1994., 1929.,\n",
       "       1915., 1995., 1996., 1905., 1997., 1998., 1999., 2000., 1933.,\n",
       "       2001., 2002., 2003., 2004., 2005., 2006., 2007., 2008., 2009.,\n",
       "       2010.])"
      ]
     },
     "execution_count": 45,
     "metadata": {},
     "output_type": "execute_result"
    }
   ],
   "source": [
    "df['appyear'].unique()"
   ]
  },
  {
   "cell_type": "code",
   "execution_count": 46,
   "id": "13a6f7ec-b95f-4434-b8ba-69d0d30f2427",
   "metadata": {
    "tags": []
   },
   "outputs": [],
   "source": [
    "r = df['appyear'].isnull().values.any()"
   ]
  },
  {
   "cell_type": "code",
   "execution_count": 47,
   "id": "abc878f3-3e1e-4414-abbe-0b0b933eface",
   "metadata": {
    "tags": []
   },
   "outputs": [
    {
     "data": {
      "text/plain": [
       "True"
      ]
     },
     "execution_count": 47,
     "metadata": {},
     "output_type": "execute_result"
    }
   ],
   "source": [
    "r"
   ]
  },
  {
   "cell_type": "code",
   "execution_count": 48,
   "id": "4acd375e-6d7d-475f-aeaa-3bd7e81de41e",
   "metadata": {
    "tags": []
   },
   "outputs": [
    {
     "data": {
      "text/plain": [
       "1994.0293628062254"
      ]
     },
     "execution_count": 48,
     "metadata": {},
     "output_type": "execute_result"
    }
   ],
   "source": [
    "mean_value=df['appyear'].mean()\n",
    "\n",
    "mean_value"
   ]
  },
  {
   "cell_type": "code",
   "execution_count": 49,
   "id": "c7d7eb5e-2d56-432d-8158-ce97938fe475",
   "metadata": {
    "tags": []
   },
   "outputs": [],
   "source": [
    "df['appyear'] = pd.to_numeric(df['appyear'], errors='coerce').fillna(1994, downcast='infer')"
   ]
  },
  {
   "cell_type": "code",
   "execution_count": 50,
   "id": "aa66b639-52ab-43df-8238-fb305194599c",
   "metadata": {
    "tags": []
   },
   "outputs": [
    {
     "name": "stdout",
     "output_type": "stream",
     "text": [
      "<class 'pandas.core.frame.DataFrame'>\n",
      "RangeIndex: 3984771 entries, 0 to 3984770\n",
      "Data columns (total 9 columns):\n",
      " #   Column   Dtype         \n",
      "---  ------   -----         \n",
      " 0   patent   int64         \n",
      " 1   kind     object        \n",
      " 2   claims   float64       \n",
      " 3   apptype  float64       \n",
      " 4   appnum   float64       \n",
      " 5   gdate    datetime64[ns]\n",
      " 6   gyear    int64         \n",
      " 7   appdate  datetime64[ns]\n",
      " 8   appyear  int64         \n",
      "dtypes: datetime64[ns](2), float64(3), int64(3), object(1)\n",
      "memory usage: 273.6+ MB\n"
     ]
    }
   ],
   "source": [
    "df.info()"
   ]
  },
  {
   "cell_type": "code",
   "execution_count": 51,
   "id": "507c042a-a518-4d9c-9ea7-6029486c5eb1",
   "metadata": {
    "tags": []
   },
   "outputs": [
    {
     "data": {
      "text/plain": [
       "patent     0\n",
       "kind       0\n",
       "claims     0\n",
       "apptype    0\n",
       "appnum     0\n",
       "gdate      0\n",
       "gyear      0\n",
       "appdate    0\n",
       "appyear    0\n",
       "dtype: int64"
      ]
     },
     "execution_count": 51,
     "metadata": {},
     "output_type": "execute_result"
    }
   ],
   "source": [
    "df.isnull().sum()"
   ]
  },
  {
   "cell_type": "code",
   "execution_count": 52,
   "id": "a0eac7f2-ea27-46cb-a9f3-3e73b87119ea",
   "metadata": {},
   "outputs": [],
   "source": [
    "df.to_csv('Patents.csv')"
   ]
  }
 ],
 "metadata": {
  "kernelspec": {
   "display_name": "Python 3 (ipykernel)",
   "language": "python",
   "name": "python3"
  },
  "language_info": {
   "codemirror_mode": {
    "name": "ipython",
    "version": 3
   },
   "file_extension": ".py",
   "mimetype": "text/x-python",
   "name": "python",
   "nbconvert_exporter": "python",
   "pygments_lexer": "ipython3",
   "version": "3.9.8"
  }
 },
 "nbformat": 4,
 "nbformat_minor": 5
}
