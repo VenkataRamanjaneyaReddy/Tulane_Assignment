{
 "cells": [
  {
   "cell_type": "code",
   "execution_count": 1,
   "id": "f1e0e7da-2e35-4306-9376-afbf8ea7b4f8",
   "metadata": {
    "tags": []
   },
   "outputs": [],
   "source": [
    "import numpy as np\n",
    "import pandas as pd\n",
    "import matplotlib.pyplot as plt\n",
    "import seaborn as sns"
   ]
  },
  {
   "cell_type": "code",
   "execution_count": 2,
   "id": "a766c627-bbe0-47e2-a6f7-cd11b99c6594",
   "metadata": {
    "tags": []
   },
   "outputs": [],
   "source": [
    "df1 = pd.read_csv('Assignees.csv')"
   ]
  },
  {
   "cell_type": "code",
   "execution_count": 3,
   "id": "d79fa6bb-e61e-4328-bfcc-a576a5c4b264",
   "metadata": {
    "tags": []
   },
   "outputs": [],
   "source": [
    "df2 = pd.read_csv('Citations_1.csv')"
   ]
  },
  {
   "cell_type": "code",
   "execution_count": 4,
   "id": "ba3b0832-b1cb-4756-adcc-c93a21378cdd",
   "metadata": {
    "tags": []
   },
   "outputs": [],
   "source": [
    "df3 = pd.read_csv('Citations_2.csv')"
   ]
  },
  {
   "cell_type": "code",
   "execution_count": 5,
   "id": "0165bc4c-8a63-4dcc-9700-c6843562f5e0",
   "metadata": {
    "tags": []
   },
   "outputs": [],
   "source": [
    "df4 = pd.read_csv('Citations_3.csv')"
   ]
  },
  {
   "cell_type": "code",
   "execution_count": 6,
   "id": "ae4811a1-ade9-45b7-8bac-9d5b583561eb",
   "metadata": {
    "tags": []
   },
   "outputs": [],
   "source": [
    "df5 = pd.read_csv('Class-Subclass.csv')"
   ]
  },
  {
   "cell_type": "code",
   "execution_count": 7,
   "id": "d40f89a2-d4f6-4fe0-823f-322dd812c6f0",
   "metadata": {
    "tags": []
   },
   "outputs": [],
   "source": [
    "df6 = pd.read_csv('Inventors_1.csv')"
   ]
  },
  {
   "cell_type": "code",
   "execution_count": 8,
   "id": "c2bdb03d-9b17-4afe-b56d-fe01c73467c8",
   "metadata": {
    "tags": []
   },
   "outputs": [],
   "source": [
    "df7 = pd.read_csv('Inventors_2.csv')"
   ]
  },
  {
   "cell_type": "code",
   "execution_count": 9,
   "id": "12c35159-c336-4c9d-9202-c39cbc24882d",
   "metadata": {
    "tags": []
   },
   "outputs": [],
   "source": [
    "df8 = pd.read_csv('Patents.csv')"
   ]
  },
  {
   "cell_type": "code",
   "execution_count": 10,
   "id": "f4535223-4ddf-40c4-8638-9d8f19867bdb",
   "metadata": {
    "tags": []
   },
   "outputs": [
    {
     "data": {
      "text/html": [
       "<div>\n",
       "<style scoped>\n",
       "    .dataframe tbody tr th:only-of-type {\n",
       "        vertical-align: middle;\n",
       "    }\n",
       "\n",
       "    .dataframe tbody tr th {\n",
       "        vertical-align: top;\n",
       "    }\n",
       "\n",
       "    .dataframe thead th {\n",
       "        text-align: right;\n",
       "    }\n",
       "</style>\n",
       "<table border=\"1\" class=\"dataframe\">\n",
       "  <thead>\n",
       "    <tr style=\"text-align: right;\">\n",
       "      <th></th>\n",
       "      <th>Unnamed: 0</th>\n",
       "      <th>patent</th>\n",
       "      <th>asgtype</th>\n",
       "      <th>assignee</th>\n",
       "      <th>city</th>\n",
       "      <th>state</th>\n",
       "      <th>country</th>\n",
       "      <th>asgseq</th>\n",
       "    </tr>\n",
       "  </thead>\n",
       "  <tbody>\n",
       "    <tr>\n",
       "      <th>0</th>\n",
       "      <td>0</td>\n",
       "      <td>3858241</td>\n",
       "      <td>6.0</td>\n",
       "      <td>UNITED STATES OF AMERICA, ARMY</td>\n",
       "      <td>Unspecified</td>\n",
       "      <td>UN</td>\n",
       "      <td>UN</td>\n",
       "      <td>0</td>\n",
       "    </tr>\n",
       "    <tr>\n",
       "      <th>1</th>\n",
       "      <td>1</td>\n",
       "      <td>3858242</td>\n",
       "      <td>1.0</td>\n",
       "      <td>Unspecified</td>\n",
       "      <td>Unspecified</td>\n",
       "      <td>UN</td>\n",
       "      <td>UN</td>\n",
       "      <td>0</td>\n",
       "    </tr>\n",
       "    <tr>\n",
       "      <th>2</th>\n",
       "      <td>2</td>\n",
       "      <td>3858243</td>\n",
       "      <td>3.0</td>\n",
       "      <td>PLYMATIC</td>\n",
       "      <td>Unspecified</td>\n",
       "      <td>UN</td>\n",
       "      <td>UN</td>\n",
       "      <td>0</td>\n",
       "    </tr>\n",
       "    <tr>\n",
       "      <th>3</th>\n",
       "      <td>3</td>\n",
       "      <td>3858244</td>\n",
       "      <td>1.0</td>\n",
       "      <td>Unspecified</td>\n",
       "      <td>Unspecified</td>\n",
       "      <td>UN</td>\n",
       "      <td>UN</td>\n",
       "      <td>0</td>\n",
       "    </tr>\n",
       "    <tr>\n",
       "      <th>4</th>\n",
       "      <td>4</td>\n",
       "      <td>3858245</td>\n",
       "      <td>2.0</td>\n",
       "      <td>HAIR AGAIN LTD.</td>\n",
       "      <td>Unspecified</td>\n",
       "      <td>UN</td>\n",
       "      <td>UN</td>\n",
       "      <td>0</td>\n",
       "    </tr>\n",
       "  </tbody>\n",
       "</table>\n",
       "</div>"
      ],
      "text/plain": [
       "   Unnamed: 0   patent  asgtype                        assignee         city   \n",
       "0           0  3858241      6.0  UNITED STATES OF AMERICA, ARMY  Unspecified  \\\n",
       "1           1  3858242      1.0                     Unspecified  Unspecified   \n",
       "2           2  3858243      3.0                        PLYMATIC  Unspecified   \n",
       "3           3  3858244      1.0                     Unspecified  Unspecified   \n",
       "4           4  3858245      2.0                 HAIR AGAIN LTD.  Unspecified   \n",
       "\n",
       "  state country  asgseq  \n",
       "0    UN      UN       0  \n",
       "1    UN      UN       0  \n",
       "2    UN      UN       0  \n",
       "3    UN      UN       0  \n",
       "4    UN      UN       0  "
      ]
     },
     "execution_count": 10,
     "metadata": {},
     "output_type": "execute_result"
    }
   ],
   "source": [
    "df1.head()"
   ]
  },
  {
   "cell_type": "code",
   "execution_count": 11,
   "id": "ca6742cd-02eb-4ec9-9492-f947f9921a9b",
   "metadata": {},
   "outputs": [
    {
     "data": {
      "text/html": [
       "<div>\n",
       "<style scoped>\n",
       "    .dataframe tbody tr th:only-of-type {\n",
       "        vertical-align: middle;\n",
       "    }\n",
       "\n",
       "    .dataframe tbody tr th {\n",
       "        vertical-align: top;\n",
       "    }\n",
       "\n",
       "    .dataframe thead th {\n",
       "        text-align: right;\n",
       "    }\n",
       "</style>\n",
       "<table border=\"1\" class=\"dataframe\">\n",
       "  <thead>\n",
       "    <tr style=\"text-align: right;\">\n",
       "      <th></th>\n",
       "      <th>Unnamed: 0</th>\n",
       "      <th>citation</th>\n",
       "      <th>patent</th>\n",
       "      <th>cit_date</th>\n",
       "      <th>cit_name</th>\n",
       "      <th>citseq</th>\n",
       "      <th>cites</th>\n",
       "    </tr>\n",
       "  </thead>\n",
       "  <tbody>\n",
       "    <tr>\n",
       "      <th>0</th>\n",
       "      <td>0</td>\n",
       "      <td>956203</td>\n",
       "      <td>3858241</td>\n",
       "      <td>1992-07-25 04:59:24.390734592</td>\n",
       "      <td>Unspecified</td>\n",
       "      <td>0.0</td>\n",
       "      <td>1.0</td>\n",
       "    </tr>\n",
       "    <tr>\n",
       "      <th>1</th>\n",
       "      <td>1</td>\n",
       "      <td>1324234</td>\n",
       "      <td>3858241</td>\n",
       "      <td>1992-07-25 04:59:24.390734592</td>\n",
       "      <td>Unspecified</td>\n",
       "      <td>1.0</td>\n",
       "      <td>2.0</td>\n",
       "    </tr>\n",
       "    <tr>\n",
       "      <th>2</th>\n",
       "      <td>2</td>\n",
       "      <td>1515701</td>\n",
       "      <td>3858242</td>\n",
       "      <td>1992-07-25 04:59:24.390734592</td>\n",
       "      <td>Unspecified</td>\n",
       "      <td>0.0</td>\n",
       "      <td>1.0</td>\n",
       "    </tr>\n",
       "    <tr>\n",
       "      <th>3</th>\n",
       "      <td>3</td>\n",
       "      <td>3319261</td>\n",
       "      <td>3858242</td>\n",
       "      <td>1992-07-25 04:59:24.390734592</td>\n",
       "      <td>Unspecified</td>\n",
       "      <td>1.0</td>\n",
       "      <td>3.0</td>\n",
       "    </tr>\n",
       "    <tr>\n",
       "      <th>4</th>\n",
       "      <td>4</td>\n",
       "      <td>3681785</td>\n",
       "      <td>3858243</td>\n",
       "      <td>1992-07-25 04:59:24.390734592</td>\n",
       "      <td>Unspecified</td>\n",
       "      <td>5.0</td>\n",
       "      <td>8.0</td>\n",
       "    </tr>\n",
       "  </tbody>\n",
       "</table>\n",
       "</div>"
      ],
      "text/plain": [
       "   Unnamed: 0  citation   patent                       cit_date     cit_name   \n",
       "0           0    956203  3858241  1992-07-25 04:59:24.390734592  Unspecified  \\\n",
       "1           1   1324234  3858241  1992-07-25 04:59:24.390734592  Unspecified   \n",
       "2           2   1515701  3858242  1992-07-25 04:59:24.390734592  Unspecified   \n",
       "3           3   3319261  3858242  1992-07-25 04:59:24.390734592  Unspecified   \n",
       "4           4   3681785  3858243  1992-07-25 04:59:24.390734592  Unspecified   \n",
       "\n",
       "   citseq  cites  \n",
       "0     0.0    1.0  \n",
       "1     1.0    2.0  \n",
       "2     0.0    1.0  \n",
       "3     1.0    3.0  \n",
       "4     5.0    8.0  "
      ]
     },
     "execution_count": 11,
     "metadata": {},
     "output_type": "execute_result"
    }
   ],
   "source": [
    "df2.head()"
   ]
  },
  {
   "cell_type": "code",
   "execution_count": 12,
   "id": "a6bc5dae-883a-4890-ade9-241f1f5852ae",
   "metadata": {
    "tags": []
   },
   "outputs": [
    {
     "data": {
      "text/html": [
       "<div>\n",
       "<style scoped>\n",
       "    .dataframe tbody tr th:only-of-type {\n",
       "        vertical-align: middle;\n",
       "    }\n",
       "\n",
       "    .dataframe tbody tr th {\n",
       "        vertical-align: top;\n",
       "    }\n",
       "\n",
       "    .dataframe thead th {\n",
       "        text-align: right;\n",
       "    }\n",
       "</style>\n",
       "<table border=\"1\" class=\"dataframe\">\n",
       "  <thead>\n",
       "    <tr style=\"text-align: right;\">\n",
       "      <th></th>\n",
       "      <th>Unnamed: 0</th>\n",
       "      <th>patent</th>\n",
       "      <th>citation</th>\n",
       "      <th>cit_date</th>\n",
       "      <th>cit_name</th>\n",
       "      <th>cit_kind</th>\n",
       "      <th>cit_country</th>\n",
       "      <th>category</th>\n",
       "      <th>citseq</th>\n",
       "      <th>obsnum</th>\n",
       "    </tr>\n",
       "  </thead>\n",
       "  <tbody>\n",
       "    <tr>\n",
       "      <th>0</th>\n",
       "      <td>0</td>\n",
       "      <td>6009555</td>\n",
       "      <td>4192017.0</td>\n",
       "      <td>1980-03-01</td>\n",
       "      <td>FAY</td>\n",
       "      <td>UN</td>\n",
       "      <td>UN</td>\n",
       "      <td>UN Specified</td>\n",
       "      <td>38.362289</td>\n",
       "      <td>1.0</td>\n",
       "    </tr>\n",
       "    <tr>\n",
       "      <th>1</th>\n",
       "      <td>1</td>\n",
       "      <td>6009555</td>\n",
       "      <td>4547903.0</td>\n",
       "      <td>1985-10-01</td>\n",
       "      <td>BROWN ET AL.</td>\n",
       "      <td>UN</td>\n",
       "      <td>UN</td>\n",
       "      <td>UN Specified</td>\n",
       "      <td>38.362289</td>\n",
       "      <td>2.0</td>\n",
       "    </tr>\n",
       "    <tr>\n",
       "      <th>2</th>\n",
       "      <td>2</td>\n",
       "      <td>6009555</td>\n",
       "      <td>4768231.0</td>\n",
       "      <td>1988-09-01</td>\n",
       "      <td>SCHRACK</td>\n",
       "      <td>UN</td>\n",
       "      <td>UN</td>\n",
       "      <td>UN Specified</td>\n",
       "      <td>38.362289</td>\n",
       "      <td>3.0</td>\n",
       "    </tr>\n",
       "    <tr>\n",
       "      <th>3</th>\n",
       "      <td>3</td>\n",
       "      <td>6009555</td>\n",
       "      <td>4951316.0</td>\n",
       "      <td>1990-08-01</td>\n",
       "      <td>MOODY</td>\n",
       "      <td>UN</td>\n",
       "      <td>UN</td>\n",
       "      <td>UN Specified</td>\n",
       "      <td>38.362289</td>\n",
       "      <td>4.0</td>\n",
       "    </tr>\n",
       "    <tr>\n",
       "      <th>4</th>\n",
       "      <td>4</td>\n",
       "      <td>6009555</td>\n",
       "      <td>5105475.0</td>\n",
       "      <td>1992-04-01</td>\n",
       "      <td>LYND ET AL.</td>\n",
       "      <td>UN</td>\n",
       "      <td>UN</td>\n",
       "      <td>UN Specified</td>\n",
       "      <td>38.362289</td>\n",
       "      <td>5.0</td>\n",
       "    </tr>\n",
       "  </tbody>\n",
       "</table>\n",
       "</div>"
      ],
      "text/plain": [
       "   Unnamed: 0   patent   citation    cit_date      cit_name cit_kind   \n",
       "0           0  6009555  4192017.0  1980-03-01           FAY       UN  \\\n",
       "1           1  6009555  4547903.0  1985-10-01  BROWN ET AL.       UN   \n",
       "2           2  6009555  4768231.0  1988-09-01       SCHRACK       UN   \n",
       "3           3  6009555  4951316.0  1990-08-01         MOODY       UN   \n",
       "4           4  6009555  5105475.0  1992-04-01   LYND ET AL.       UN   \n",
       "\n",
       "  cit_country      category     citseq  obsnum  \n",
       "0          UN  UN Specified  38.362289     1.0  \n",
       "1          UN  UN Specified  38.362289     2.0  \n",
       "2          UN  UN Specified  38.362289     3.0  \n",
       "3          UN  UN Specified  38.362289     4.0  \n",
       "4          UN  UN Specified  38.362289     5.0  "
      ]
     },
     "execution_count": 12,
     "metadata": {},
     "output_type": "execute_result"
    }
   ],
   "source": [
    "df3.head()"
   ]
  },
  {
   "cell_type": "code",
   "execution_count": 13,
   "id": "a8341d6e-cfd3-4c56-a73f-73875fd44246",
   "metadata": {
    "tags": []
   },
   "outputs": [
    {
     "data": {
      "text/html": [
       "<div>\n",
       "<style scoped>\n",
       "    .dataframe tbody tr th:only-of-type {\n",
       "        vertical-align: middle;\n",
       "    }\n",
       "\n",
       "    .dataframe tbody tr th {\n",
       "        vertical-align: top;\n",
       "    }\n",
       "\n",
       "    .dataframe thead th {\n",
       "        text-align: right;\n",
       "    }\n",
       "</style>\n",
       "<table border=\"1\" class=\"dataframe\">\n",
       "  <thead>\n",
       "    <tr style=\"text-align: right;\">\n",
       "      <th></th>\n",
       "      <th>Unnamed: 0</th>\n",
       "      <th>patent</th>\n",
       "      <th>citation</th>\n",
       "      <th>cit_date</th>\n",
       "      <th>cit_name</th>\n",
       "      <th>cit_kind</th>\n",
       "      <th>cit_country</th>\n",
       "      <th>category</th>\n",
       "      <th>citseq</th>\n",
       "    </tr>\n",
       "  </thead>\n",
       "  <tbody>\n",
       "    <tr>\n",
       "      <th>0</th>\n",
       "      <td>0</td>\n",
       "      <td>7134641</td>\n",
       "      <td>2796148.0</td>\n",
       "      <td>1970-01-01 00:15:19.757436919</td>\n",
       "      <td>St. Clair</td>\n",
       "      <td>A</td>\n",
       "      <td>US</td>\n",
       "      <td>cited by examiner</td>\n",
       "      <td>2.0</td>\n",
       "    </tr>\n",
       "    <tr>\n",
       "      <th>1</th>\n",
       "      <td>1</td>\n",
       "      <td>7134641</td>\n",
       "      <td>3387621.0</td>\n",
       "      <td>1970-01-01 00:15:19.757436919</td>\n",
       "      <td>Schaff</td>\n",
       "      <td>A</td>\n",
       "      <td>US</td>\n",
       "      <td>cited by examiner</td>\n",
       "      <td>3.0</td>\n",
       "    </tr>\n",
       "    <tr>\n",
       "      <th>2</th>\n",
       "      <td>2</td>\n",
       "      <td>7134641</td>\n",
       "      <td>4025048.0</td>\n",
       "      <td>1970-01-01 00:15:19.757436919</td>\n",
       "      <td>Tibbitts</td>\n",
       "      <td>A</td>\n",
       "      <td>US</td>\n",
       "      <td>cited by examiner</td>\n",
       "      <td>4.0</td>\n",
       "    </tr>\n",
       "    <tr>\n",
       "      <th>3</th>\n",
       "      <td>3</td>\n",
       "      <td>7134641</td>\n",
       "      <td>4078763.0</td>\n",
       "      <td>1970-01-01 00:15:19.757436919</td>\n",
       "      <td>Yamamoto</td>\n",
       "      <td>A</td>\n",
       "      <td>US</td>\n",
       "      <td>cited by other</td>\n",
       "      <td>5.0</td>\n",
       "    </tr>\n",
       "    <tr>\n",
       "      <th>4</th>\n",
       "      <td>4</td>\n",
       "      <td>7134641</td>\n",
       "      <td>4470577.0</td>\n",
       "      <td>1970-01-01 00:15:19.757436919</td>\n",
       "      <td>Warwick</td>\n",
       "      <td>A</td>\n",
       "      <td>US</td>\n",
       "      <td>cited by examiner</td>\n",
       "      <td>6.0</td>\n",
       "    </tr>\n",
       "  </tbody>\n",
       "</table>\n",
       "</div>"
      ],
      "text/plain": [
       "   Unnamed: 0   patent   citation                       cit_date   cit_name   \n",
       "0           0  7134641  2796148.0  1970-01-01 00:15:19.757436919  St. Clair  \\\n",
       "1           1  7134641  3387621.0  1970-01-01 00:15:19.757436919     Schaff   \n",
       "2           2  7134641  4025048.0  1970-01-01 00:15:19.757436919   Tibbitts   \n",
       "3           3  7134641  4078763.0  1970-01-01 00:15:19.757436919   Yamamoto   \n",
       "4           4  7134641  4470577.0  1970-01-01 00:15:19.757436919    Warwick   \n",
       "\n",
       "  cit_kind cit_country           category  citseq  \n",
       "0        A          US  cited by examiner     2.0  \n",
       "1        A          US  cited by examiner     3.0  \n",
       "2        A          US  cited by examiner     4.0  \n",
       "3        A          US     cited by other     5.0  \n",
       "4        A          US  cited by examiner     6.0  "
      ]
     },
     "execution_count": 13,
     "metadata": {},
     "output_type": "execute_result"
    }
   ],
   "source": [
    "df4.head()"
   ]
  },
  {
   "cell_type": "code",
   "execution_count": 14,
   "id": "5c6e3cc5-595a-48fe-b54d-b2534855230f",
   "metadata": {
    "tags": []
   },
   "outputs": [
    {
     "data": {
      "text/html": [
       "<div>\n",
       "<style scoped>\n",
       "    .dataframe tbody tr th:only-of-type {\n",
       "        vertical-align: middle;\n",
       "    }\n",
       "\n",
       "    .dataframe tbody tr th {\n",
       "        vertical-align: top;\n",
       "    }\n",
       "\n",
       "    .dataframe thead th {\n",
       "        text-align: right;\n",
       "    }\n",
       "</style>\n",
       "<table border=\"1\" class=\"dataframe\">\n",
       "  <thead>\n",
       "    <tr style=\"text-align: right;\">\n",
       "      <th></th>\n",
       "      <th>Unnamed: 0</th>\n",
       "      <th>patent</th>\n",
       "      <th>prim</th>\n",
       "      <th>class</th>\n",
       "      <th>subclass</th>\n",
       "      <th>n</th>\n",
       "    </tr>\n",
       "  </thead>\n",
       "  <tbody>\n",
       "    <tr>\n",
       "      <th>0</th>\n",
       "      <td>0</td>\n",
       "      <td>3858241</td>\n",
       "      <td>1</td>\n",
       "      <td>2</td>\n",
       "      <td>2.5</td>\n",
       "      <td>34753.0</td>\n",
       "    </tr>\n",
       "    <tr>\n",
       "      <th>1</th>\n",
       "      <td>1</td>\n",
       "      <td>3858242</td>\n",
       "      <td>0</td>\n",
       "      <td>2</td>\n",
       "      <td>427.0</td>\n",
       "      <td>34753.0</td>\n",
       "    </tr>\n",
       "    <tr>\n",
       "      <th>2</th>\n",
       "      <td>2</td>\n",
       "      <td>3858242</td>\n",
       "      <td>0</td>\n",
       "      <td>2</td>\n",
       "      <td>424.0</td>\n",
       "      <td>34753.0</td>\n",
       "    </tr>\n",
       "    <tr>\n",
       "      <th>3</th>\n",
       "      <td>3</td>\n",
       "      <td>3858242</td>\n",
       "      <td>1</td>\n",
       "      <td>2</td>\n",
       "      <td>10.0</td>\n",
       "      <td>34753.0</td>\n",
       "    </tr>\n",
       "    <tr>\n",
       "      <th>4</th>\n",
       "      <td>4</td>\n",
       "      <td>3858242</td>\n",
       "      <td>0</td>\n",
       "      <td>2</td>\n",
       "      <td>2.5</td>\n",
       "      <td>34753.0</td>\n",
       "    </tr>\n",
       "  </tbody>\n",
       "</table>\n",
       "</div>"
      ],
      "text/plain": [
       "   Unnamed: 0   patent  prim  class  subclass        n\n",
       "0           0  3858241     1      2       2.5  34753.0\n",
       "1           1  3858242     0      2     427.0  34753.0\n",
       "2           2  3858242     0      2     424.0  34753.0\n",
       "3           3  3858242     1      2      10.0  34753.0\n",
       "4           4  3858242     0      2       2.5  34753.0"
      ]
     },
     "execution_count": 14,
     "metadata": {},
     "output_type": "execute_result"
    }
   ],
   "source": [
    "df5.head()"
   ]
  },
  {
   "cell_type": "code",
   "execution_count": 15,
   "id": "e205d00e-4283-48ad-9b03-419d33795a99",
   "metadata": {
    "tags": []
   },
   "outputs": [
    {
     "data": {
      "text/html": [
       "<div>\n",
       "<style scoped>\n",
       "    .dataframe tbody tr th:only-of-type {\n",
       "        vertical-align: middle;\n",
       "    }\n",
       "\n",
       "    .dataframe tbody tr th {\n",
       "        vertical-align: top;\n",
       "    }\n",
       "\n",
       "    .dataframe thead th {\n",
       "        text-align: right;\n",
       "    }\n",
       "</style>\n",
       "<table border=\"1\" class=\"dataframe\">\n",
       "  <thead>\n",
       "    <tr style=\"text-align: right;\">\n",
       "      <th></th>\n",
       "      <th>Unnamed: 0</th>\n",
       "      <th>patent</th>\n",
       "      <th>firstname</th>\n",
       "      <th>lastname</th>\n",
       "      <th>city</th>\n",
       "      <th>state</th>\n",
       "      <th>country</th>\n",
       "      <th>zipcode</th>\n",
       "      <th>invseq</th>\n",
       "    </tr>\n",
       "  </thead>\n",
       "  <tbody>\n",
       "    <tr>\n",
       "      <th>0</th>\n",
       "      <td>0</td>\n",
       "      <td>3858241</td>\n",
       "      <td>PHILIP E</td>\n",
       "      <td>DURAND</td>\n",
       "      <td>HUDSON</td>\n",
       "      <td>MA</td>\n",
       "      <td>US</td>\n",
       "      <td>1749</td>\n",
       "      <td>1</td>\n",
       "    </tr>\n",
       "    <tr>\n",
       "      <th>1</th>\n",
       "      <td>1</td>\n",
       "      <td>3858241</td>\n",
       "      <td>LONNIE H</td>\n",
       "      <td>NORRIS</td>\n",
       "      <td>MILFORD</td>\n",
       "      <td>MA</td>\n",
       "      <td>US</td>\n",
       "      <td>1757</td>\n",
       "      <td>2</td>\n",
       "    </tr>\n",
       "    <tr>\n",
       "      <th>2</th>\n",
       "      <td>2</td>\n",
       "      <td>3858242</td>\n",
       "      <td>ELWYN R</td>\n",
       "      <td>GOODING</td>\n",
       "      <td>PINCKNEY</td>\n",
       "      <td>MI</td>\n",
       "      <td>US</td>\n",
       "      <td>48169</td>\n",
       "      <td>1</td>\n",
       "    </tr>\n",
       "    <tr>\n",
       "      <th>3</th>\n",
       "      <td>3</td>\n",
       "      <td>3858243</td>\n",
       "      <td>ROBERT</td>\n",
       "      <td>ZUCCARO</td>\n",
       "      <td>EPINAL</td>\n",
       "      <td>UN</td>\n",
       "      <td>FR</td>\n",
       "      <td>17637</td>\n",
       "      <td>3</td>\n",
       "    </tr>\n",
       "    <tr>\n",
       "      <th>4</th>\n",
       "      <td>4</td>\n",
       "      <td>3858243</td>\n",
       "      <td>JEAN PAUL</td>\n",
       "      <td>JENNY</td>\n",
       "      <td>DECINES</td>\n",
       "      <td>UN</td>\n",
       "      <td>FR</td>\n",
       "      <td>17637</td>\n",
       "      <td>2</td>\n",
       "    </tr>\n",
       "  </tbody>\n",
       "</table>\n",
       "</div>"
      ],
      "text/plain": [
       "   Unnamed: 0   patent  firstname lastname      city state country  zipcode   \n",
       "0           0  3858241   PHILIP E   DURAND    HUDSON    MA      US     1749  \\\n",
       "1           1  3858241   LONNIE H   NORRIS   MILFORD    MA      US     1757   \n",
       "2           2  3858242    ELWYN R  GOODING  PINCKNEY    MI      US    48169   \n",
       "3           3  3858243     ROBERT  ZUCCARO    EPINAL    UN      FR    17637   \n",
       "4           4  3858243  JEAN PAUL    JENNY   DECINES    UN      FR    17637   \n",
       "\n",
       "   invseq  \n",
       "0       1  \n",
       "1       2  \n",
       "2       1  \n",
       "3       3  \n",
       "4       2  "
      ]
     },
     "execution_count": 15,
     "metadata": {},
     "output_type": "execute_result"
    }
   ],
   "source": [
    "df6.head()"
   ]
  },
  {
   "cell_type": "code",
   "execution_count": 16,
   "id": "ceb46839-73f6-4698-8196-a0b23378c258",
   "metadata": {
    "tags": []
   },
   "outputs": [
    {
     "data": {
      "text/html": [
       "<div>\n",
       "<style scoped>\n",
       "    .dataframe tbody tr th:only-of-type {\n",
       "        vertical-align: middle;\n",
       "    }\n",
       "\n",
       "    .dataframe tbody tr th {\n",
       "        vertical-align: top;\n",
       "    }\n",
       "\n",
       "    .dataframe thead th {\n",
       "        text-align: right;\n",
       "    }\n",
       "</style>\n",
       "<table border=\"1\" class=\"dataframe\">\n",
       "  <thead>\n",
       "    <tr style=\"text-align: right;\">\n",
       "      <th></th>\n",
       "      <th>Unnamed: 0</th>\n",
       "      <th>patent</th>\n",
       "      <th>firstname</th>\n",
       "      <th>lastname</th>\n",
       "      <th>street</th>\n",
       "      <th>city</th>\n",
       "      <th>state</th>\n",
       "      <th>country</th>\n",
       "      <th>zipcode</th>\n",
       "      <th>nationality</th>\n",
       "      <th>invseq</th>\n",
       "    </tr>\n",
       "  </thead>\n",
       "  <tbody>\n",
       "    <tr>\n",
       "      <th>0</th>\n",
       "      <td>0</td>\n",
       "      <td>6100132</td>\n",
       "      <td>TSUTOMU</td>\n",
       "      <td>SATO</td>\n",
       "      <td>Unspecified</td>\n",
       "      <td>YOKOHAMA</td>\n",
       "      <td>UN</td>\n",
       "      <td>JP</td>\n",
       "      <td>25082</td>\n",
       "      <td>UN</td>\n",
       "      <td>1</td>\n",
       "    </tr>\n",
       "    <tr>\n",
       "      <th>1</th>\n",
       "      <td>1</td>\n",
       "      <td>6100133</td>\n",
       "      <td>STEFAN</td>\n",
       "      <td>NYGREN</td>\n",
       "      <td>Unspecified</td>\n",
       "      <td>UPPSALA</td>\n",
       "      <td>UN</td>\n",
       "      <td>SE</td>\n",
       "      <td>25082</td>\n",
       "      <td>UN</td>\n",
       "      <td>2</td>\n",
       "    </tr>\n",
       "    <tr>\n",
       "      <th>2</th>\n",
       "      <td>2</td>\n",
       "      <td>6100133</td>\n",
       "      <td>HANS</td>\n",
       "      <td>NORSTROM</td>\n",
       "      <td>Unspecified</td>\n",
       "      <td>SOLNA</td>\n",
       "      <td>UN</td>\n",
       "      <td>SE</td>\n",
       "      <td>25082</td>\n",
       "      <td>UN</td>\n",
       "      <td>1</td>\n",
       "    </tr>\n",
       "    <tr>\n",
       "      <th>3</th>\n",
       "      <td>3</td>\n",
       "      <td>6100134</td>\n",
       "      <td>YOSHIKAZU</td>\n",
       "      <td>OHNO</td>\n",
       "      <td>Unspecified</td>\n",
       "      <td>TOKYO</td>\n",
       "      <td>UN</td>\n",
       "      <td>JP</td>\n",
       "      <td>25082</td>\n",
       "      <td>UN</td>\n",
       "      <td>1</td>\n",
       "    </tr>\n",
       "    <tr>\n",
       "      <th>4</th>\n",
       "      <td>4</td>\n",
       "      <td>6100135</td>\n",
       "      <td>SHYE LIN</td>\n",
       "      <td>WU</td>\n",
       "      <td>Unspecified</td>\n",
       "      <td>HSINCHU</td>\n",
       "      <td>UN</td>\n",
       "      <td>TW</td>\n",
       "      <td>25082</td>\n",
       "      <td>UN</td>\n",
       "      <td>1</td>\n",
       "    </tr>\n",
       "  </tbody>\n",
       "</table>\n",
       "</div>"
      ],
      "text/plain": [
       "   Unnamed: 0   patent  firstname  lastname       street      city state   \n",
       "0           0  6100132    TSUTOMU      SATO  Unspecified  YOKOHAMA    UN  \\\n",
       "1           1  6100133     STEFAN    NYGREN  Unspecified   UPPSALA    UN   \n",
       "2           2  6100133       HANS  NORSTROM  Unspecified     SOLNA    UN   \n",
       "3           3  6100134  YOSHIKAZU      OHNO  Unspecified     TOKYO    UN   \n",
       "4           4  6100135   SHYE LIN        WU  Unspecified   HSINCHU    UN   \n",
       "\n",
       "  country  zipcode nationality  invseq  \n",
       "0      JP    25082          UN       1  \n",
       "1      SE    25082          UN       2  \n",
       "2      SE    25082          UN       1  \n",
       "3      JP    25082          UN       1  \n",
       "4      TW    25082          UN       1  "
      ]
     },
     "execution_count": 16,
     "metadata": {},
     "output_type": "execute_result"
    }
   ],
   "source": [
    "df7.head()"
   ]
  },
  {
   "cell_type": "code",
   "execution_count": 17,
   "id": "f93b29a1-a4e9-460a-9099-d803798c574f",
   "metadata": {
    "tags": []
   },
   "outputs": [
    {
     "data": {
      "text/html": [
       "<div>\n",
       "<style scoped>\n",
       "    .dataframe tbody tr th:only-of-type {\n",
       "        vertical-align: middle;\n",
       "    }\n",
       "\n",
       "    .dataframe tbody tr th {\n",
       "        vertical-align: top;\n",
       "    }\n",
       "\n",
       "    .dataframe thead th {\n",
       "        text-align: right;\n",
       "    }\n",
       "</style>\n",
       "<table border=\"1\" class=\"dataframe\">\n",
       "  <thead>\n",
       "    <tr style=\"text-align: right;\">\n",
       "      <th></th>\n",
       "      <th>Unnamed: 0</th>\n",
       "      <th>patent</th>\n",
       "      <th>kind</th>\n",
       "      <th>claims</th>\n",
       "      <th>apptype</th>\n",
       "      <th>appnum</th>\n",
       "      <th>gdate</th>\n",
       "      <th>gyear</th>\n",
       "      <th>appdate</th>\n",
       "      <th>appyear</th>\n",
       "    </tr>\n",
       "  </thead>\n",
       "  <tbody>\n",
       "    <tr>\n",
       "      <th>0</th>\n",
       "      <td>0</td>\n",
       "      <td>3858241</td>\n",
       "      <td>U1</td>\n",
       "      <td>6.0</td>\n",
       "      <td>8.024112</td>\n",
       "      <td>9.291950e+06</td>\n",
       "      <td>1975-01-07</td>\n",
       "      <td>1975</td>\n",
       "      <td>1974-03-26</td>\n",
       "      <td>1974</td>\n",
       "    </tr>\n",
       "    <tr>\n",
       "      <th>1</th>\n",
       "      <td>1</td>\n",
       "      <td>3858242</td>\n",
       "      <td>U1</td>\n",
       "      <td>5.0</td>\n",
       "      <td>8.024112</td>\n",
       "      <td>9.291950e+06</td>\n",
       "      <td>1975-01-07</td>\n",
       "      <td>1975</td>\n",
       "      <td>1973-04-16</td>\n",
       "      <td>1973</td>\n",
       "    </tr>\n",
       "    <tr>\n",
       "      <th>2</th>\n",
       "      <td>2</td>\n",
       "      <td>3858243</td>\n",
       "      <td>U1</td>\n",
       "      <td>12.0</td>\n",
       "      <td>8.024112</td>\n",
       "      <td>9.291950e+06</td>\n",
       "      <td>1975-01-07</td>\n",
       "      <td>1975</td>\n",
       "      <td>1973-07-11</td>\n",
       "      <td>1973</td>\n",
       "    </tr>\n",
       "    <tr>\n",
       "      <th>3</th>\n",
       "      <td>3</td>\n",
       "      <td>3858244</td>\n",
       "      <td>U1</td>\n",
       "      <td>1.0</td>\n",
       "      <td>8.024112</td>\n",
       "      <td>9.291950e+06</td>\n",
       "      <td>1975-01-07</td>\n",
       "      <td>1975</td>\n",
       "      <td>1973-12-17</td>\n",
       "      <td>1973</td>\n",
       "    </tr>\n",
       "    <tr>\n",
       "      <th>4</th>\n",
       "      <td>4</td>\n",
       "      <td>3858245</td>\n",
       "      <td>U1</td>\n",
       "      <td>5.0</td>\n",
       "      <td>8.024112</td>\n",
       "      <td>9.291950e+06</td>\n",
       "      <td>1975-01-07</td>\n",
       "      <td>1975</td>\n",
       "      <td>1972-05-18</td>\n",
       "      <td>1972</td>\n",
       "    </tr>\n",
       "  </tbody>\n",
       "</table>\n",
       "</div>"
      ],
      "text/plain": [
       "   Unnamed: 0   patent kind  claims   apptype        appnum       gdate   \n",
       "0           0  3858241   U1     6.0  8.024112  9.291950e+06  1975-01-07  \\\n",
       "1           1  3858242   U1     5.0  8.024112  9.291950e+06  1975-01-07   \n",
       "2           2  3858243   U1    12.0  8.024112  9.291950e+06  1975-01-07   \n",
       "3           3  3858244   U1     1.0  8.024112  9.291950e+06  1975-01-07   \n",
       "4           4  3858245   U1     5.0  8.024112  9.291950e+06  1975-01-07   \n",
       "\n",
       "   gyear     appdate  appyear  \n",
       "0   1975  1974-03-26     1974  \n",
       "1   1975  1973-04-16     1973  \n",
       "2   1975  1973-07-11     1973  \n",
       "3   1975  1973-12-17     1973  \n",
       "4   1975  1972-05-18     1972  "
      ]
     },
     "execution_count": 17,
     "metadata": {},
     "output_type": "execute_result"
    }
   ],
   "source": [
    "df8.head()"
   ]
  },
  {
   "cell_type": "code",
   "execution_count": 18,
   "id": "0be4fe87-06fe-443d-9c87-bc97bd67ba5b",
   "metadata": {
    "tags": []
   },
   "outputs": [],
   "source": [
    "df1.drop(['Unnamed: 0'], axis=1, inplace = True)\n",
    "df2.drop(['Unnamed: 0'], axis=1, inplace = True)\n",
    "df3.drop(['Unnamed: 0'], axis=1, inplace = True)\n",
    "df4.drop(['Unnamed: 0'], axis=1, inplace = True)\n",
    "df5.drop(['Unnamed: 0'], axis=1, inplace = True)\n",
    "df6.drop(['Unnamed: 0'], axis=1, inplace = True)\n",
    "df7.drop(['Unnamed: 0'], axis=1, inplace = True)\n",
    "df8.drop(['Unnamed: 0'], axis=1, inplace = True)"
   ]
  },
  {
   "cell_type": "code",
   "execution_count": 19,
   "id": "a3874bdd-e800-4946-9e31-b577b1931078",
   "metadata": {
    "tags": []
   },
   "outputs": [],
   "source": [
    "frames = [df1, df2, df3, df4, df5, df6, df7, df8]"
   ]
  },
  {
   "cell_type": "code",
   "execution_count": 20,
   "id": "11304adc-fca9-4a96-9465-5f0aca40bd6c",
   "metadata": {
    "tags": []
   },
   "outputs": [],
   "source": [
    "result = pd.concat(frames)"
   ]
  },
  {
   "cell_type": "code",
   "execution_count": 21,
   "id": "23624a23-98e8-4758-a31b-93ba58336fd3",
   "metadata": {
    "tags": []
   },
   "outputs": [
    {
     "data": {
      "text/plain": [
       "(64870012, 34)"
      ]
     },
     "execution_count": 21,
     "metadata": {},
     "output_type": "execute_result"
    }
   ],
   "source": [
    "result.shape"
   ]
  },
  {
   "cell_type": "code",
   "execution_count": 22,
   "id": "77e4d586-61b9-448f-ba31-50cef74205f5",
   "metadata": {
    "tags": []
   },
   "outputs": [
    {
     "data": {
      "text/html": [
       "<div>\n",
       "<style scoped>\n",
       "    .dataframe tbody tr th:only-of-type {\n",
       "        vertical-align: middle;\n",
       "    }\n",
       "\n",
       "    .dataframe tbody tr th {\n",
       "        vertical-align: top;\n",
       "    }\n",
       "\n",
       "    .dataframe thead th {\n",
       "        text-align: right;\n",
       "    }\n",
       "</style>\n",
       "<table border=\"1\" class=\"dataframe\">\n",
       "  <thead>\n",
       "    <tr style=\"text-align: right;\">\n",
       "      <th></th>\n",
       "      <th>patent</th>\n",
       "      <th>asgtype</th>\n",
       "      <th>assignee</th>\n",
       "      <th>city</th>\n",
       "      <th>state</th>\n",
       "      <th>country</th>\n",
       "      <th>asgseq</th>\n",
       "      <th>citation</th>\n",
       "      <th>cit_date</th>\n",
       "      <th>cit_name</th>\n",
       "      <th>...</th>\n",
       "      <th>street</th>\n",
       "      <th>nationality</th>\n",
       "      <th>kind</th>\n",
       "      <th>claims</th>\n",
       "      <th>apptype</th>\n",
       "      <th>appnum</th>\n",
       "      <th>gdate</th>\n",
       "      <th>gyear</th>\n",
       "      <th>appdate</th>\n",
       "      <th>appyear</th>\n",
       "    </tr>\n",
       "  </thead>\n",
       "  <tbody>\n",
       "    <tr>\n",
       "      <th>0</th>\n",
       "      <td>3858241</td>\n",
       "      <td>6.0</td>\n",
       "      <td>UNITED STATES OF AMERICA, ARMY</td>\n",
       "      <td>Unspecified</td>\n",
       "      <td>UN</td>\n",
       "      <td>UN</td>\n",
       "      <td>0.0</td>\n",
       "      <td>NaN</td>\n",
       "      <td>NaN</td>\n",
       "      <td>NaN</td>\n",
       "      <td>...</td>\n",
       "      <td>NaN</td>\n",
       "      <td>NaN</td>\n",
       "      <td>NaN</td>\n",
       "      <td>NaN</td>\n",
       "      <td>NaN</td>\n",
       "      <td>NaN</td>\n",
       "      <td>NaN</td>\n",
       "      <td>NaN</td>\n",
       "      <td>NaN</td>\n",
       "      <td>NaN</td>\n",
       "    </tr>\n",
       "    <tr>\n",
       "      <th>1</th>\n",
       "      <td>3858242</td>\n",
       "      <td>1.0</td>\n",
       "      <td>Unspecified</td>\n",
       "      <td>Unspecified</td>\n",
       "      <td>UN</td>\n",
       "      <td>UN</td>\n",
       "      <td>0.0</td>\n",
       "      <td>NaN</td>\n",
       "      <td>NaN</td>\n",
       "      <td>NaN</td>\n",
       "      <td>...</td>\n",
       "      <td>NaN</td>\n",
       "      <td>NaN</td>\n",
       "      <td>NaN</td>\n",
       "      <td>NaN</td>\n",
       "      <td>NaN</td>\n",
       "      <td>NaN</td>\n",
       "      <td>NaN</td>\n",
       "      <td>NaN</td>\n",
       "      <td>NaN</td>\n",
       "      <td>NaN</td>\n",
       "    </tr>\n",
       "    <tr>\n",
       "      <th>2</th>\n",
       "      <td>3858243</td>\n",
       "      <td>3.0</td>\n",
       "      <td>PLYMATIC</td>\n",
       "      <td>Unspecified</td>\n",
       "      <td>UN</td>\n",
       "      <td>UN</td>\n",
       "      <td>0.0</td>\n",
       "      <td>NaN</td>\n",
       "      <td>NaN</td>\n",
       "      <td>NaN</td>\n",
       "      <td>...</td>\n",
       "      <td>NaN</td>\n",
       "      <td>NaN</td>\n",
       "      <td>NaN</td>\n",
       "      <td>NaN</td>\n",
       "      <td>NaN</td>\n",
       "      <td>NaN</td>\n",
       "      <td>NaN</td>\n",
       "      <td>NaN</td>\n",
       "      <td>NaN</td>\n",
       "      <td>NaN</td>\n",
       "    </tr>\n",
       "    <tr>\n",
       "      <th>3</th>\n",
       "      <td>3858244</td>\n",
       "      <td>1.0</td>\n",
       "      <td>Unspecified</td>\n",
       "      <td>Unspecified</td>\n",
       "      <td>UN</td>\n",
       "      <td>UN</td>\n",
       "      <td>0.0</td>\n",
       "      <td>NaN</td>\n",
       "      <td>NaN</td>\n",
       "      <td>NaN</td>\n",
       "      <td>...</td>\n",
       "      <td>NaN</td>\n",
       "      <td>NaN</td>\n",
       "      <td>NaN</td>\n",
       "      <td>NaN</td>\n",
       "      <td>NaN</td>\n",
       "      <td>NaN</td>\n",
       "      <td>NaN</td>\n",
       "      <td>NaN</td>\n",
       "      <td>NaN</td>\n",
       "      <td>NaN</td>\n",
       "    </tr>\n",
       "    <tr>\n",
       "      <th>4</th>\n",
       "      <td>3858245</td>\n",
       "      <td>2.0</td>\n",
       "      <td>HAIR AGAIN LTD.</td>\n",
       "      <td>Unspecified</td>\n",
       "      <td>UN</td>\n",
       "      <td>UN</td>\n",
       "      <td>0.0</td>\n",
       "      <td>NaN</td>\n",
       "      <td>NaN</td>\n",
       "      <td>NaN</td>\n",
       "      <td>...</td>\n",
       "      <td>NaN</td>\n",
       "      <td>NaN</td>\n",
       "      <td>NaN</td>\n",
       "      <td>NaN</td>\n",
       "      <td>NaN</td>\n",
       "      <td>NaN</td>\n",
       "      <td>NaN</td>\n",
       "      <td>NaN</td>\n",
       "      <td>NaN</td>\n",
       "      <td>NaN</td>\n",
       "    </tr>\n",
       "  </tbody>\n",
       "</table>\n",
       "<p>5 rows × 34 columns</p>\n",
       "</div>"
      ],
      "text/plain": [
       "    patent  asgtype                        assignee         city state   \n",
       "0  3858241      6.0  UNITED STATES OF AMERICA, ARMY  Unspecified    UN  \\\n",
       "1  3858242      1.0                     Unspecified  Unspecified    UN   \n",
       "2  3858243      3.0                        PLYMATIC  Unspecified    UN   \n",
       "3  3858244      1.0                     Unspecified  Unspecified    UN   \n",
       "4  3858245      2.0                 HAIR AGAIN LTD.  Unspecified    UN   \n",
       "\n",
       "  country  asgseq  citation cit_date cit_name  ...  street  nationality kind   \n",
       "0      UN     0.0       NaN      NaN      NaN  ...     NaN          NaN  NaN  \\\n",
       "1      UN     0.0       NaN      NaN      NaN  ...     NaN          NaN  NaN   \n",
       "2      UN     0.0       NaN      NaN      NaN  ...     NaN          NaN  NaN   \n",
       "3      UN     0.0       NaN      NaN      NaN  ...     NaN          NaN  NaN   \n",
       "4      UN     0.0       NaN      NaN      NaN  ...     NaN          NaN  NaN   \n",
       "\n",
       "  claims apptype  appnum  gdate  gyear  appdate  appyear  \n",
       "0    NaN     NaN     NaN    NaN    NaN      NaN      NaN  \n",
       "1    NaN     NaN     NaN    NaN    NaN      NaN      NaN  \n",
       "2    NaN     NaN     NaN    NaN    NaN      NaN      NaN  \n",
       "3    NaN     NaN     NaN    NaN    NaN      NaN      NaN  \n",
       "4    NaN     NaN     NaN    NaN    NaN      NaN      NaN  \n",
       "\n",
       "[5 rows x 34 columns]"
      ]
     },
     "execution_count": 22,
     "metadata": {},
     "output_type": "execute_result"
    }
   ],
   "source": [
    "result.head()"
   ]
  },
  {
   "cell_type": "code",
   "execution_count": 23,
   "id": "a3df3e48-e774-478c-9928-46d6e795f19d",
   "metadata": {
    "tags": []
   },
   "outputs": [
    {
     "data": {
      "text/plain": [
       "patent                0\n",
       "asgtype        61114486\n",
       "assignee       61114486\n",
       "city           52207587\n",
       "state          52207587\n",
       "country        52207587\n",
       "asgseq         61114486\n",
       "citation       34092601\n",
       "cit_date       34092601\n",
       "cit_name       34092601\n",
       "citseq         34092601\n",
       "cites          61662365\n",
       "cit_kind       37300248\n",
       "cit_country    37300248\n",
       "category       37300248\n",
       "obsnum         50870012\n",
       "prim           47424607\n",
       "class          47424607\n",
       "subclass       47424607\n",
       "n              47424607\n",
       "firstname      55963113\n",
       "lastname       55963113\n",
       "zipcode        55963113\n",
       "invseq         55963113\n",
       "street         60473991\n",
       "nationality    60473991\n",
       "kind           60885241\n",
       "claims         60885241\n",
       "apptype        60885241\n",
       "appnum         60885241\n",
       "gdate          60885241\n",
       "gyear          60885241\n",
       "appdate        60885241\n",
       "appyear        60885241\n",
       "dtype: int64"
      ]
     },
     "execution_count": 23,
     "metadata": {},
     "output_type": "execute_result"
    }
   ],
   "source": [
    "result.isnull().sum()"
   ]
  },
  {
   "cell_type": "code",
   "execution_count": 24,
   "id": "25198d6b-943a-47d6-b358-4c6ce7031e0a",
   "metadata": {},
   "outputs": [
    {
     "name": "stdout",
     "output_type": "stream",
     "text": [
      "<class 'pandas.core.frame.DataFrame'>\n",
      "Index: 64870012 entries, 0 to 3984770\n",
      "Data columns (total 34 columns):\n",
      " #   Column       Dtype  \n",
      "---  ------       -----  \n",
      " 0   patent       int64  \n",
      " 1   asgtype      float64\n",
      " 2   assignee     object \n",
      " 3   city         object \n",
      " 4   state        object \n",
      " 5   country      object \n",
      " 6   asgseq       float64\n",
      " 7   citation     float64\n",
      " 8   cit_date     object \n",
      " 9   cit_name     object \n",
      " 10  citseq       float64\n",
      " 11  cites        float64\n",
      " 12  cit_kind     object \n",
      " 13  cit_country  object \n",
      " 14  category     object \n",
      " 15  obsnum       float64\n",
      " 16  prim         float64\n",
      " 17  class        float64\n",
      " 18  subclass     float64\n",
      " 19  n            float64\n",
      " 20  firstname    object \n",
      " 21  lastname     object \n",
      " 22  zipcode      float64\n",
      " 23  invseq       float64\n",
      " 24  street       object \n",
      " 25  nationality  object \n",
      " 26  kind         object \n",
      " 27  claims       float64\n",
      " 28  apptype      float64\n",
      " 29  appnum       float64\n",
      " 30  gdate        object \n",
      " 31  gyear        float64\n",
      " 32  appdate      object \n",
      " 33  appyear      float64\n",
      "dtypes: float64(17), int64(1), object(16)\n",
      "memory usage: 16.9+ GB\n"
     ]
    }
   ],
   "source": [
    "result.info()"
   ]
  },
  {
   "cell_type": "code",
   "execution_count": 25,
   "id": "e78ca256-b0a1-4d40-9ff9-eefcb8a3f657",
   "metadata": {
    "tags": []
   },
   "outputs": [],
   "source": [
    "new_data = result[['patent','appyear','gyear','citation','class','subclass']]"
   ]
  },
  {
   "cell_type": "code",
   "execution_count": 26,
   "id": "0d1fe19c-1bee-469b-bbbc-48ab3dfa9124",
   "metadata": {
    "tags": []
   },
   "outputs": [
    {
     "data": {
      "text/html": [
       "<div>\n",
       "<style scoped>\n",
       "    .dataframe tbody tr th:only-of-type {\n",
       "        vertical-align: middle;\n",
       "    }\n",
       "\n",
       "    .dataframe tbody tr th {\n",
       "        vertical-align: top;\n",
       "    }\n",
       "\n",
       "    .dataframe thead th {\n",
       "        text-align: right;\n",
       "    }\n",
       "</style>\n",
       "<table border=\"1\" class=\"dataframe\">\n",
       "  <thead>\n",
       "    <tr style=\"text-align: right;\">\n",
       "      <th></th>\n",
       "      <th>patent</th>\n",
       "      <th>appyear</th>\n",
       "      <th>gyear</th>\n",
       "      <th>citation</th>\n",
       "      <th>class</th>\n",
       "      <th>subclass</th>\n",
       "    </tr>\n",
       "  </thead>\n",
       "  <tbody>\n",
       "    <tr>\n",
       "      <th>0</th>\n",
       "      <td>3858241</td>\n",
       "      <td>NaN</td>\n",
       "      <td>NaN</td>\n",
       "      <td>NaN</td>\n",
       "      <td>NaN</td>\n",
       "      <td>NaN</td>\n",
       "    </tr>\n",
       "    <tr>\n",
       "      <th>1</th>\n",
       "      <td>3858242</td>\n",
       "      <td>NaN</td>\n",
       "      <td>NaN</td>\n",
       "      <td>NaN</td>\n",
       "      <td>NaN</td>\n",
       "      <td>NaN</td>\n",
       "    </tr>\n",
       "    <tr>\n",
       "      <th>2</th>\n",
       "      <td>3858243</td>\n",
       "      <td>NaN</td>\n",
       "      <td>NaN</td>\n",
       "      <td>NaN</td>\n",
       "      <td>NaN</td>\n",
       "      <td>NaN</td>\n",
       "    </tr>\n",
       "    <tr>\n",
       "      <th>3</th>\n",
       "      <td>3858244</td>\n",
       "      <td>NaN</td>\n",
       "      <td>NaN</td>\n",
       "      <td>NaN</td>\n",
       "      <td>NaN</td>\n",
       "      <td>NaN</td>\n",
       "    </tr>\n",
       "    <tr>\n",
       "      <th>4</th>\n",
       "      <td>3858245</td>\n",
       "      <td>NaN</td>\n",
       "      <td>NaN</td>\n",
       "      <td>NaN</td>\n",
       "      <td>NaN</td>\n",
       "      <td>NaN</td>\n",
       "    </tr>\n",
       "  </tbody>\n",
       "</table>\n",
       "</div>"
      ],
      "text/plain": [
       "    patent  appyear  gyear  citation  class  subclass\n",
       "0  3858241      NaN    NaN       NaN    NaN       NaN\n",
       "1  3858242      NaN    NaN       NaN    NaN       NaN\n",
       "2  3858243      NaN    NaN       NaN    NaN       NaN\n",
       "3  3858244      NaN    NaN       NaN    NaN       NaN\n",
       "4  3858245      NaN    NaN       NaN    NaN       NaN"
      ]
     },
     "execution_count": 26,
     "metadata": {},
     "output_type": "execute_result"
    }
   ],
   "source": [
    "new_data.head()"
   ]
  },
  {
   "cell_type": "code",
   "execution_count": 27,
   "id": "ecf1c1ea-31b2-4c12-b73a-c339a85654d9",
   "metadata": {
    "tags": []
   },
   "outputs": [
    {
     "data": {
      "text/plain": [
       "patent             0\n",
       "appyear     60885241\n",
       "gyear       60885241\n",
       "citation    34092601\n",
       "class       47424607\n",
       "subclass    47424607\n",
       "dtype: int64"
      ]
     },
     "execution_count": 27,
     "metadata": {},
     "output_type": "execute_result"
    }
   ],
   "source": [
    "new_data.isnull().sum()"
   ]
  },
  {
   "cell_type": "code",
   "execution_count": 28,
   "id": "162fa1a1-a04a-49e3-a451-6e66b3fc0999",
   "metadata": {
    "tags": []
   },
   "outputs": [
    {
     "name": "stdout",
     "output_type": "stream",
     "text": [
      "<class 'pandas.core.frame.DataFrame'>\n",
      "Index: 64870012 entries, 0 to 3984770\n",
      "Data columns (total 6 columns):\n",
      " #   Column    Dtype  \n",
      "---  ------    -----  \n",
      " 0   patent    int64  \n",
      " 1   appyear   float64\n",
      " 2   gyear     float64\n",
      " 3   citation  float64\n",
      " 4   class     float64\n",
      " 5   subclass  float64\n",
      "dtypes: float64(5), int64(1)\n",
      "memory usage: 3.4 GB\n"
     ]
    }
   ],
   "source": [
    "new_data.info()"
   ]
  },
  {
   "cell_type": "code",
   "execution_count": 29,
   "id": "3264f2d4-a352-44f3-811d-02e18851e13f",
   "metadata": {
    "tags": []
   },
   "outputs": [],
   "source": [
    "a = new_data['patent'].isnull().values.any()"
   ]
  },
  {
   "cell_type": "code",
   "execution_count": 30,
   "id": "27eba48c-1ee3-4c89-92f2-ba7afda1c0f9",
   "metadata": {
    "tags": []
   },
   "outputs": [
    {
     "data": {
      "text/plain": [
       "False"
      ]
     },
     "execution_count": 30,
     "metadata": {},
     "output_type": "execute_result"
    }
   ],
   "source": [
    "a"
   ]
  },
  {
   "cell_type": "code",
   "execution_count": 31,
   "id": "fb8bf988-b443-4d32-b6c4-551f305d974b",
   "metadata": {
    "tags": []
   },
   "outputs": [],
   "source": [
    "b = new_data['appyear'].isnull().values.any()"
   ]
  },
  {
   "cell_type": "code",
   "execution_count": 32,
   "id": "df288827-a912-4575-9a74-577ac2f08b17",
   "metadata": {
    "tags": []
   },
   "outputs": [
    {
     "data": {
      "text/plain": [
       "True"
      ]
     },
     "execution_count": 32,
     "metadata": {},
     "output_type": "execute_result"
    }
   ],
   "source": [
    "b"
   ]
  },
  {
   "cell_type": "code",
   "execution_count": 33,
   "id": "764bfd20-94a1-48cf-b612-5c9a99e90c77",
   "metadata": {
    "tags": []
   },
   "outputs": [
    {
     "data": {
      "text/plain": [
       "appyear\n",
       "2001.0    208908\n",
       "2002.0    206229\n",
       "2000.0    196639\n",
       "2003.0    191514\n",
       "2004.0    181840\n",
       "           ...  \n",
       "1921.0         1\n",
       "1915.0         1\n",
       "1929.0         1\n",
       "1909.0         1\n",
       "1939.0         1\n",
       "Name: count, Length: 90, dtype: int64"
      ]
     },
     "execution_count": 33,
     "metadata": {},
     "output_type": "execute_result"
    }
   ],
   "source": [
    "new_data['appyear'].value_counts()"
   ]
  },
  {
   "cell_type": "code",
   "execution_count": 34,
   "id": "e2e39f9b-06f2-4789-895c-e865ed4f7a00",
   "metadata": {
    "tags": []
   },
   "outputs": [
    {
     "data": {
      "text/plain": [
       "90"
      ]
     },
     "execution_count": 34,
     "metadata": {},
     "output_type": "execute_result"
    }
   ],
   "source": [
    "new_data['appyear'].nunique()"
   ]
  },
  {
   "cell_type": "code",
   "execution_count": 35,
   "id": "27f8024d-a6a9-4fc2-a1fc-d094803ba3a9",
   "metadata": {
    "tags": []
   },
   "outputs": [
    {
     "data": {
      "text/plain": [
       "array([  nan, 1974., 1973., 1972., 1971., 1970., 1969., 1965., 1960.,\n",
       "       1961., 1967., 1966., 1968., 1963., 1959., 1957., 1964., 1954.,\n",
       "       1958., 1962., 1975., 1955., 1956., 1944., 1942., 1953., 1950.,\n",
       "       1945., 1946., 1943., 1952., 1994., 1949., 1948., 1976., 1941.,\n",
       "       1951., 1925., 1977., 1978., 1940., 1938., 1979., 1936., 1947.,\n",
       "       1980., 1981., 1982., 1983., 1984., 1922., 1904., 1985., 1930.,\n",
       "       1986., 1987., 1988., 1989., 1990., 1931., 1908., 1918., 1939.,\n",
       "       1991., 1992., 1921., 1901., 1993., 1902., 1909., 1903., 1929.,\n",
       "       1915., 1995., 1996., 1905., 1997., 1998., 1999., 2000., 1933.,\n",
       "       2001., 2002., 2003., 2004., 2005., 2006., 2007., 2008., 2009.,\n",
       "       2010.])"
      ]
     },
     "execution_count": 35,
     "metadata": {},
     "output_type": "execute_result"
    }
   ],
   "source": [
    "new_data['appyear'].unique()"
   ]
  },
  {
   "cell_type": "code",
   "execution_count": 36,
   "id": "adf0d301-dafb-480c-b2af-b4c539386e5d",
   "metadata": {
    "tags": []
   },
   "outputs": [
    {
     "name": "stderr",
     "output_type": "stream",
     "text": [
      "C:\\Users\\raman\\AppData\\Local\\Temp\\ipykernel_15964\\4181603387.py:1: SettingWithCopyWarning: \n",
      "A value is trying to be set on a copy of a slice from a DataFrame.\n",
      "Try using .loc[row_indexer,col_indexer] = value instead\n",
      "\n",
      "See the caveats in the documentation: https://pandas.pydata.org/pandas-docs/stable/user_guide/indexing.html#returning-a-view-versus-a-copy\n",
      "  new_data['appyear'] = pd.to_numeric(new_data['appyear'], errors='coerce').fillna(0, downcast='infer')\n"
     ]
    }
   ],
   "source": [
    "new_data['appyear'] = pd.to_numeric(new_data['appyear'], errors='coerce').fillna(0, downcast='infer')"
   ]
  },
  {
   "cell_type": "code",
   "execution_count": 37,
   "id": "98363483-9574-43f1-8fea-9080897386af",
   "metadata": {
    "tags": []
   },
   "outputs": [
    {
     "data": {
      "text/plain": [
       "array([   0, 1974, 1973, 1972, 1971, 1970, 1969, 1965, 1960, 1961, 1967,\n",
       "       1966, 1968, 1963, 1959, 1957, 1964, 1954, 1958, 1962, 1975, 1955,\n",
       "       1956, 1944, 1942, 1953, 1950, 1945, 1946, 1943, 1952, 1994, 1949,\n",
       "       1948, 1976, 1941, 1951, 1925, 1977, 1978, 1940, 1938, 1979, 1936,\n",
       "       1947, 1980, 1981, 1982, 1983, 1984, 1922, 1904, 1985, 1930, 1986,\n",
       "       1987, 1988, 1989, 1990, 1931, 1908, 1918, 1939, 1991, 1992, 1921,\n",
       "       1901, 1993, 1902, 1909, 1903, 1929, 1915, 1995, 1996, 1905, 1997,\n",
       "       1998, 1999, 2000, 1933, 2001, 2002, 2003, 2004, 2005, 2006, 2007,\n",
       "       2008, 2009, 2010], dtype=int64)"
      ]
     },
     "execution_count": 37,
     "metadata": {},
     "output_type": "execute_result"
    }
   ],
   "source": [
    "new_data['appyear'].unique()"
   ]
  },
  {
   "cell_type": "code",
   "execution_count": 38,
   "id": "da473c86-a161-476b-b794-67415aba1e4a",
   "metadata": {
    "tags": []
   },
   "outputs": [],
   "source": [
    "c = new_data['gyear'].isnull().values.any()"
   ]
  },
  {
   "cell_type": "code",
   "execution_count": 39,
   "id": "3e84226c-ce32-4bb8-a3d3-7a6c34a47907",
   "metadata": {
    "tags": []
   },
   "outputs": [
    {
     "data": {
      "text/plain": [
       "True"
      ]
     },
     "execution_count": 39,
     "metadata": {},
     "output_type": "execute_result"
    }
   ],
   "source": [
    "c"
   ]
  },
  {
   "cell_type": "code",
   "execution_count": 40,
   "id": "3361410a-9f8d-4801-b03e-ffb73600fcbb",
   "metadata": {
    "tags": []
   },
   "outputs": [
    {
     "data": {
      "text/plain": [
       "gyear\n",
       "2010.0    219909\n",
       "2006.0    173922\n",
       "2003.0    169105\n",
       "2009.0    167537\n",
       "2002.0    167424\n",
       "2001.0    166065\n",
       "2004.0    164413\n",
       "2008.0    157894\n",
       "2000.0    157596\n",
       "2007.0    157502\n",
       "1999.0    153593\n",
       "1998.0    147574\n",
       "2005.0    143927\n",
       "1997.0    111984\n",
       "1996.0    109645\n",
       "1994.0    101676\n",
       "1995.0    101419\n",
       "1993.0     98342\n",
       "1992.0     97444\n",
       "1991.0     96513\n",
       "1989.0     95537\n",
       "1990.0     90364\n",
       "1987.0     82952\n",
       "1988.0     77924\n",
       "1975.0     72000\n",
       "1985.0     71661\n",
       "1986.0     70860\n",
       "1976.0     70226\n",
       "1984.0     67200\n",
       "1978.0     66102\n",
       "1981.0     65771\n",
       "1977.0     65269\n",
       "1980.0     61819\n",
       "1982.0     57888\n",
       "1983.0     56860\n",
       "1979.0     48854\n",
       "Name: count, dtype: int64"
      ]
     },
     "execution_count": 40,
     "metadata": {},
     "output_type": "execute_result"
    }
   ],
   "source": [
    "new_data['gyear'].value_counts()"
   ]
  },
  {
   "cell_type": "code",
   "execution_count": 41,
   "id": "10fe32da-bf2c-4860-aee3-294f7d9d4df3",
   "metadata": {
    "tags": []
   },
   "outputs": [
    {
     "data": {
      "text/plain": [
       "36"
      ]
     },
     "execution_count": 41,
     "metadata": {},
     "output_type": "execute_result"
    }
   ],
   "source": [
    "new_data['gyear'].nunique()"
   ]
  },
  {
   "cell_type": "code",
   "execution_count": 42,
   "id": "0b9d20ac-037d-4536-bc16-96c3de13de46",
   "metadata": {
    "tags": []
   },
   "outputs": [
    {
     "data": {
      "text/plain": [
       "array([  nan, 1975., 1976., 1977., 1978., 1979., 1980., 1981., 1982.,\n",
       "       1983., 1984., 1985., 1986., 1987., 1988., 1989., 1990., 1991.,\n",
       "       1992., 1993., 1994., 1995., 1996., 1997., 1998., 1999., 2000.,\n",
       "       2001., 2002., 2003., 2004., 2005., 2006., 2007., 2008., 2009.,\n",
       "       2010.])"
      ]
     },
     "execution_count": 42,
     "metadata": {},
     "output_type": "execute_result"
    }
   ],
   "source": [
    "new_data['gyear'].unique()"
   ]
  },
  {
   "cell_type": "code",
   "execution_count": 43,
   "id": "00c74093-7506-47d8-b494-3380d93a7594",
   "metadata": {
    "tags": []
   },
   "outputs": [
    {
     "name": "stderr",
     "output_type": "stream",
     "text": [
      "C:\\Users\\raman\\AppData\\Local\\Temp\\ipykernel_15964\\2972851300.py:1: SettingWithCopyWarning: \n",
      "A value is trying to be set on a copy of a slice from a DataFrame.\n",
      "Try using .loc[row_indexer,col_indexer] = value instead\n",
      "\n",
      "See the caveats in the documentation: https://pandas.pydata.org/pandas-docs/stable/user_guide/indexing.html#returning-a-view-versus-a-copy\n",
      "  new_data['gyear'] = pd.to_numeric(new_data['gyear'], errors='coerce').fillna(0, downcast='infer')\n"
     ]
    }
   ],
   "source": [
    "new_data['gyear'] = pd.to_numeric(new_data['gyear'], errors='coerce').fillna(0, downcast='infer')"
   ]
  },
  {
   "cell_type": "code",
   "execution_count": 44,
   "id": "82191a39-b456-4996-a5c3-8938d78dcc91",
   "metadata": {
    "tags": []
   },
   "outputs": [
    {
     "data": {
      "text/plain": [
       "array([   0, 1975, 1976, 1977, 1978, 1979, 1980, 1981, 1982, 1983, 1984,\n",
       "       1985, 1986, 1987, 1988, 1989, 1990, 1991, 1992, 1993, 1994, 1995,\n",
       "       1996, 1997, 1998, 1999, 2000, 2001, 2002, 2003, 2004, 2005, 2006,\n",
       "       2007, 2008, 2009, 2010], dtype=int64)"
      ]
     },
     "execution_count": 44,
     "metadata": {},
     "output_type": "execute_result"
    }
   ],
   "source": [
    "new_data['gyear'].unique()"
   ]
  },
  {
   "cell_type": "code",
   "execution_count": 45,
   "id": "5d22a239-5ccc-4887-b2b5-e5e75dcf6f03",
   "metadata": {
    "tags": []
   },
   "outputs": [],
   "source": [
    "d = new_data['citation'].isnull().values.any()"
   ]
  },
  {
   "cell_type": "code",
   "execution_count": 46,
   "id": "e1a2b603-a90f-4468-a387-5771931c8a5a",
   "metadata": {
    "tags": []
   },
   "outputs": [
    {
     "data": {
      "text/plain": [
       "True"
      ]
     },
     "execution_count": 46,
     "metadata": {},
     "output_type": "execute_result"
    }
   ],
   "source": [
    "d"
   ]
  },
  {
   "cell_type": "code",
   "execution_count": 47,
   "id": "ba38e1bf-6237-4fbb-8447-55d633e29663",
   "metadata": {
    "tags": []
   },
   "outputs": [
    {
     "data": {
      "text/plain": [
       "citation\n",
       "4683202.0    1607\n",
       "4683195.0    1358\n",
       "4723129.0    1181\n",
       "5523520.0    1155\n",
       "4733665.0    1098\n",
       "             ... \n",
       "1157599.0       1\n",
       "1490934.0       1\n",
       "1830150.0       1\n",
       "1781047.0       1\n",
       "7617736.0       1\n",
       "Name: count, Length: 5274347, dtype: int64"
      ]
     },
     "execution_count": 47,
     "metadata": {},
     "output_type": "execute_result"
    }
   ],
   "source": [
    "new_data['citation'].value_counts()"
   ]
  },
  {
   "cell_type": "code",
   "execution_count": 48,
   "id": "d02a7923-f8aa-4c6a-b92e-37d69c9a8224",
   "metadata": {
    "tags": []
   },
   "outputs": [
    {
     "data": {
      "text/plain": [
       "5274347"
      ]
     },
     "execution_count": 48,
     "metadata": {},
     "output_type": "execute_result"
    }
   ],
   "source": [
    "new_data['citation'].nunique()"
   ]
  },
  {
   "cell_type": "code",
   "execution_count": 49,
   "id": "b846fba8-8ff0-4245-b13f-d168f45f18bc",
   "metadata": {
    "tags": []
   },
   "outputs": [
    {
     "data": {
      "text/plain": [
       "array([     nan,  956203., 1324234., ..., 1417689.,   67324., 7617736.])"
      ]
     },
     "execution_count": 49,
     "metadata": {},
     "output_type": "execute_result"
    }
   ],
   "source": [
    "new_data['citation'].unique()"
   ]
  },
  {
   "cell_type": "code",
   "execution_count": 50,
   "id": "26bbbe0c-027f-4090-9144-ed861795cabe",
   "metadata": {
    "tags": []
   },
   "outputs": [
    {
     "name": "stderr",
     "output_type": "stream",
     "text": [
      "C:\\Users\\raman\\AppData\\Local\\Temp\\ipykernel_15964\\1675149860.py:1: SettingWithCopyWarning: \n",
      "A value is trying to be set on a copy of a slice from a DataFrame.\n",
      "Try using .loc[row_indexer,col_indexer] = value instead\n",
      "\n",
      "See the caveats in the documentation: https://pandas.pydata.org/pandas-docs/stable/user_guide/indexing.html#returning-a-view-versus-a-copy\n",
      "  new_data['citation'] = pd.to_numeric(new_data['citation'], errors='coerce').fillna(0, downcast='infer')\n"
     ]
    }
   ],
   "source": [
    "new_data['citation'] = pd.to_numeric(new_data['citation'], errors='coerce').fillna(0, downcast='infer')"
   ]
  },
  {
   "cell_type": "code",
   "execution_count": 51,
   "id": "f3dea5b6-7ce5-4ea9-ac03-281d050b1bcc",
   "metadata": {
    "tags": []
   },
   "outputs": [
    {
     "data": {
      "text/plain": [
       "array([      0.,  956203., 1324234., ..., 1417689.,   67324., 7617736.])"
      ]
     },
     "execution_count": 51,
     "metadata": {},
     "output_type": "execute_result"
    }
   ],
   "source": [
    "new_data['citation'].unique()"
   ]
  },
  {
   "cell_type": "code",
   "execution_count": 52,
   "id": "8f042b9f-5d9b-409b-8ce0-175d857abda0",
   "metadata": {
    "tags": []
   },
   "outputs": [],
   "source": [
    "e = new_data['class'].isnull().values.any()"
   ]
  },
  {
   "cell_type": "code",
   "execution_count": 53,
   "id": "ad41982c-2450-4244-97cf-162a99eefc2a",
   "metadata": {
    "tags": []
   },
   "outputs": [
    {
     "data": {
      "text/plain": [
       "True"
      ]
     },
     "execution_count": 53,
     "metadata": {},
     "output_type": "execute_result"
    }
   ],
   "source": [
    "e"
   ]
  },
  {
   "cell_type": "code",
   "execution_count": 54,
   "id": "489bdfb1-8e4f-4492-bdf3-2c004fa37f94",
   "metadata": {
    "tags": []
   },
   "outputs": [
    {
     "data": {
      "text/plain": [
       "class\n",
       "257.0    718878\n",
       "428.0    400229\n",
       "435.0    362738\n",
       "514.0    350689\n",
       "438.0    300010\n",
       "          ...  \n",
       "115.0         1\n",
       "484.0         1\n",
       "857.0         1\n",
       "811.0         1\n",
       "787.0         1\n",
       "Name: count, Length: 761, dtype: int64"
      ]
     },
     "execution_count": 54,
     "metadata": {},
     "output_type": "execute_result"
    }
   ],
   "source": [
    " new_data['class'].value_counts()"
   ]
  },
  {
   "cell_type": "code",
   "execution_count": 55,
   "id": "f3e2ae95-ebe1-4f0d-966f-6933323cc78a",
   "metadata": {
    "tags": []
   },
   "outputs": [
    {
     "data": {
      "text/plain": [
       "761"
      ]
     },
     "execution_count": 55,
     "metadata": {},
     "output_type": "execute_result"
    }
   ],
   "source": [
    " new_data['class'].nunique()"
   ]
  },
  {
   "cell_type": "code",
   "execution_count": 56,
   "id": "1e61e602-5ea2-4380-ab4c-b678cca5ebfa",
   "metadata": {
    "tags": []
   },
   "outputs": [
    {
     "data": {
      "text/plain": [
       "array([ nan,   2.,  69., 128., 623., 606., 137.,   4., 239.,   5., 312.,\n",
       "       297.,  81.,   7., 564.,   8., 558., 114., 470.,  12.,  14.,  15.,\n",
       "       434., 403., 294.,  16., 351.,  55., 220., 528., 428.,  19.,  24.,\n",
       "        70., 138., 313., 445.,  29., 242., 483., 409., 408., 101., 492.,\n",
       "        33., 324.,  73., 416., 165.,  60., 365., 148., 228., 438., 430.,\n",
       "       257., 381., 361., 307., 369., 310., 419., 140., 336., 156.,  30.,\n",
       "        52., 164., 433., 384.,  74., 219.,  34., 261.,  96., 273.,  36.,\n",
       "        37.,  40., 345.,  42.,  43., 514., 424., 446., 244.,  47., 454.,\n",
       "        49., 160., 451., 209., 404.,  53., 464.,  65., 524., 601., 523.,\n",
       "       221.,  56.,  57., 264., 368., 968., 429., 123., 149., 102.,  89.,\n",
       "        91., 299., 405., 166., 423.,  23., 256., 175.,  62.,  66., 700.,\n",
       "        68.,  72., 425.,  83., 100., 374., 422., 173., 327., 476., 198.,\n",
       "       474., 184., 277., 192., 477., 475.,  76.,  79., 188., 269., 493.,\n",
       "        84., 411., 984., 279.,  82.,  92., 271., 426.,  99., 210., 248.,\n",
       "       141., 241., 118., 400., 427., 346., 360., 104., 280., 414., 105.,\n",
       "       505., 180., 206., 108., 211., 109., 110., 122., 112., 266., 119.,\n",
       "       418., 126., 222., 392., 600., 604., 315., 131., 132., 134., 135.,\n",
       "       285., 251., 202., 303., 236., 174., 169., 139., 245., 162., 144.,\n",
       "       150., 152., 525., 157., 420., 415., 507., 171., 460., 172., 267.,\n",
       "       177., 318., 181., 182., 417., 187., 254., 190., 191., 194., 232.,\n",
       "       283., 226., 406., 229., 212., 213., 193., 215., 296., 217., 292.,\n",
       "       705., 235., 223., 224., 225., 227., 383., 281., 462., 494., 250.,\n",
       "       708., 237., 238., 431., 111.,  48., 366., 352., 246., 249., 473.,\n",
       "       376., 976., 356., 510., 435., 373., 432., 293., 396., 472., 482.,\n",
       "       124., 463., 439., 116., 298., 300., 301., 305., 359., 372., 501.,\n",
       "       385., 353., 399., 347., 355., 125., 401., 436., 554., 159.,  75.,\n",
       "        51., 504., 544., 252., 556., 205., 522., 526., 106., 127., 503.,\n",
       "       330., 442., 508., 136., 117., 216.,  28., 521., 201., 203., 562.,\n",
       "       502., 987., 204., 208., 585.,  95., 850., 516., 549., 260., 568.,\n",
       "       560., 527., 536., 552., 530., 534., 548., 540., 546., 512., 570.,\n",
       "       178., 455., 725., 380., 348., 375., 358., 329., 379., 340., 370.,\n",
       "       335., 338., 200., 218., 607., 702., 377., 714., 326., 711., 382.,\n",
       "       362., 378., 290., 333., 363., 331., 388., 323., 322., 341., 367.,\n",
       "       703., 334., 337., 342., 712., 441.,  59., 407.,  38., 588., 270.,\n",
       "       413., 440., 602., 453., 186., 901., 410.,  71., 704., 701., 343.,\n",
       "       386., 452., 800., 902.,  54., 349.,  63.,  86.,  27., 163., 168.,\n",
       "       903., 289.,  44., 930., 398., 320., 726., 713., 710., 332., 412.,\n",
       "       142., 449.,  26., 402., 518.,  87., 450., 295., 314., 185., 234.,\n",
       "       707., 715., 291., 196., 276., 709., 716., 231., 147., 977., 706.,\n",
       "       718., 720., 520., 199., 717., 258., 506., 719., 278.,   1., 532.,\n",
       "       130.,   9.,  46.,  22., 364.,  94., 371., 755., 395., 739., 129.,\n",
       "       274., 589., 574.,  25., 538., 357., 774., 681., 302., 468., 686.,\n",
       "        45., 113., 818., 756., 397.,  18.,   3.,   6., 935., 471., 529.,\n",
       "       666., 624., 255., 914., 443.,  20., 497., 287., 259.,  13., 748.,\n",
       "       736., 613., 339., 317.,  35., 480., 535., 517., 319.,  31.,  67.,\n",
       "        32., 316., 306., 288., 197., 387., 627., 738., 758., 457., 513.,\n",
       "       325., 852., 655., 437., 179., 537., 639., 775., 354., 579., 263.,\n",
       "       447., 176., 262., 145., 350., 973., 458., 265., 615., 982., 729.,\n",
       "       161., 247., 735., 773.,  64., 158., 489., 478.,  58., 632., 393.,\n",
       "       645., 597., 997., 344., 724., 456., 103., 846., 272., 391., 728.,\n",
       "       760., 832., 663., 580., 275., 481.,  41., 328., 143., 195., 740.,\n",
       "        10., 900.,  21., 146., 459., 253., 922., 596., 873., 960., 565.,\n",
       "       485., 509., 555., 825., 896., 917., 308., 311., 765., 390., 598.,\n",
       "        90., 608., 605., 268.,  88., 566.,  93., 448.,  61., 550., 467.,\n",
       "       956., 282., 780.,  50., 864., 672., 927., 814., 107., 763., 154.,\n",
       "       654.,  39., 151., 635., 751., 170., 309., 321., 737., 754., 858.,\n",
       "       533., 743., 155., 652., 421., 630., 610.,  97., 637., 723., 465.,\n",
       "       985.,  17., 682., 721., 834., 389., 567., 541., 640., 857., 648.,\n",
       "       907., 243., 563., 609.,  11., 569., 559., 826., 934., 854., 656.,\n",
       "       553., 626., 304., 808., 240., 675., 631., 657., 790., 121., 495.,\n",
       "       612.,  80., 633., 207., 214., 641., 153., 936., 842., 629., 590.,\n",
       "       862., 581., 688., 750., 722.,  77., 781., 499., 785., 619., 582.,\n",
       "       488., 233., 486., 545., 692., 677., 519., 823., 466., 644., 500.,\n",
       "       636., 908., 496., 394., 866., 617., 603., 284., 732., 911., 811.,\n",
       "       183., 484., 115., 593., 189., 515., 802., 230., 920., 120., 815.,\n",
       "       845., 685., 286., 542., 741., 469., 730., 981., 487., 539., 531.,\n",
       "       594., 638., 821., 830., 622., 511., 634.,  78., 697., 586., 792.,\n",
       "       167., 771., 772., 806., 614., 498., 680., 571., 764., 616., 679.,\n",
       "       647., 912., 583., 660.,  98., 670., 999., 576., 791., 769., 461.,\n",
       "       572., 905., 787.])"
      ]
     },
     "execution_count": 56,
     "metadata": {},
     "output_type": "execute_result"
    }
   ],
   "source": [
    " new_data['class'].unique()"
   ]
  },
  {
   "cell_type": "code",
   "execution_count": 57,
   "id": "4bf6e864-6022-46af-9824-0a3e830566c7",
   "metadata": {
    "tags": []
   },
   "outputs": [
    {
     "name": "stderr",
     "output_type": "stream",
     "text": [
      "C:\\Users\\raman\\AppData\\Local\\Temp\\ipykernel_15964\\1909849782.py:1: SettingWithCopyWarning: \n",
      "A value is trying to be set on a copy of a slice from a DataFrame.\n",
      "Try using .loc[row_indexer,col_indexer] = value instead\n",
      "\n",
      "See the caveats in the documentation: https://pandas.pydata.org/pandas-docs/stable/user_guide/indexing.html#returning-a-view-versus-a-copy\n",
      "  new_data['class'] = pd.to_numeric(new_data['class'], errors='coerce').fillna(0, downcast='infer')\n"
     ]
    }
   ],
   "source": [
    "new_data['class'] = pd.to_numeric(new_data['class'], errors='coerce').fillna(0, downcast='infer')"
   ]
  },
  {
   "cell_type": "code",
   "execution_count": 58,
   "id": "753e7448-2909-4c29-b9c8-a129b20a4a5b",
   "metadata": {
    "tags": []
   },
   "outputs": [
    {
     "data": {
      "text/plain": [
       "array([  0,   2,  69, 128, 623, 606, 137,   4, 239,   5, 312, 297,  81,\n",
       "         7, 564,   8, 558, 114, 470,  12,  14,  15, 434, 403, 294,  16,\n",
       "       351,  55, 220, 528, 428,  19,  24,  70, 138, 313, 445,  29, 242,\n",
       "       483, 409, 408, 101, 492,  33, 324,  73, 416, 165,  60, 365, 148,\n",
       "       228, 438, 430, 257, 381, 361, 307, 369, 310, 419, 140, 336, 156,\n",
       "        30,  52, 164, 433, 384,  74, 219,  34, 261,  96, 273,  36,  37,\n",
       "        40, 345,  42,  43, 514, 424, 446, 244,  47, 454,  49, 160, 451,\n",
       "       209, 404,  53, 464,  65, 524, 601, 523, 221,  56,  57, 264, 368,\n",
       "       968, 429, 123, 149, 102,  89,  91, 299, 405, 166, 423,  23, 256,\n",
       "       175,  62,  66, 700,  68,  72, 425,  83, 100, 374, 422, 173, 327,\n",
       "       476, 198, 474, 184, 277, 192, 477, 475,  76,  79, 188, 269, 493,\n",
       "        84, 411, 984, 279,  82,  92, 271, 426,  99, 210, 248, 141, 241,\n",
       "       118, 400, 427, 346, 360, 104, 280, 414, 105, 505, 180, 206, 108,\n",
       "       211, 109, 110, 122, 112, 266, 119, 418, 126, 222, 392, 600, 604,\n",
       "       315, 131, 132, 134, 135, 285, 251, 202, 303, 236, 174, 169, 139,\n",
       "       245, 162, 144, 150, 152, 525, 157, 420, 415, 507, 171, 460, 172,\n",
       "       267, 177, 318, 181, 182, 417, 187, 254, 190, 191, 194, 232, 283,\n",
       "       226, 406, 229, 212, 213, 193, 215, 296, 217, 292, 705, 235, 223,\n",
       "       224, 225, 227, 383, 281, 462, 494, 250, 708, 237, 238, 431, 111,\n",
       "        48, 366, 352, 246, 249, 473, 376, 976, 356, 510, 435, 373, 432,\n",
       "       293, 396, 472, 482, 124, 463, 439, 116, 298, 300, 301, 305, 359,\n",
       "       372, 501, 385, 353, 399, 347, 355, 125, 401, 436, 554, 159,  75,\n",
       "        51, 504, 544, 252, 556, 205, 522, 526, 106, 127, 503, 330, 442,\n",
       "       508, 136, 117, 216,  28, 521, 201, 203, 562, 502, 987, 204, 208,\n",
       "       585,  95, 850, 516, 549, 260, 568, 560, 527, 536, 552, 530, 534,\n",
       "       548, 540, 546, 512, 570, 178, 455, 725, 380, 348, 375, 358, 329,\n",
       "       379, 340, 370, 335, 338, 200, 218, 607, 702, 377, 714, 326, 711,\n",
       "       382, 362, 378, 290, 333, 363, 331, 388, 323, 322, 341, 367, 703,\n",
       "       334, 337, 342, 712, 441,  59, 407,  38, 588, 270, 413, 440, 602,\n",
       "       453, 186, 901, 410,  71, 704, 701, 343, 386, 452, 800, 902,  54,\n",
       "       349,  63,  86,  27, 163, 168, 903, 289,  44, 930, 398, 320, 726,\n",
       "       713, 710, 332, 412, 142, 449,  26, 402, 518,  87, 450, 295, 314,\n",
       "       185, 234, 707, 715, 291, 196, 276, 709, 716, 231, 147, 977, 706,\n",
       "       718, 720, 520, 199, 717, 258, 506, 719, 278,   1, 532, 130,   9,\n",
       "        46,  22, 364,  94, 371, 755, 395, 739, 129, 274, 589, 574,  25,\n",
       "       538, 357, 774, 681, 302, 468, 686,  45, 113, 818, 756, 397,  18,\n",
       "         3,   6, 935, 471, 529, 666, 624, 255, 914, 443,  20, 497, 287,\n",
       "       259,  13, 748, 736, 613, 339, 317,  35, 480, 535, 517, 319,  31,\n",
       "        67,  32, 316, 306, 288, 197, 387, 627, 738, 758, 457, 513, 325,\n",
       "       852, 655, 437, 179, 537, 639, 775, 354, 579, 263, 447, 176, 262,\n",
       "       145, 350, 973, 458, 265, 615, 982, 729, 161, 247, 735, 773,  64,\n",
       "       158, 489, 478,  58, 632, 393, 645, 597, 997, 344, 724, 456, 103,\n",
       "       846, 272, 391, 728, 760, 832, 663, 580, 275, 481,  41, 328, 143,\n",
       "       195, 740,  10, 900,  21, 146, 459, 253, 922, 596, 873, 960, 565,\n",
       "       485, 509, 555, 825, 896, 917, 308, 311, 765, 390, 598,  90, 608,\n",
       "       605, 268,  88, 566,  93, 448,  61, 550, 467, 956, 282, 780,  50,\n",
       "       864, 672, 927, 814, 107, 763, 154, 654,  39, 151, 635, 751, 170,\n",
       "       309, 321, 737, 754, 858, 533, 743, 155, 652, 421, 630, 610,  97,\n",
       "       637, 723, 465, 985,  17, 682, 721, 834, 389, 567, 541, 640, 857,\n",
       "       648, 907, 243, 563, 609,  11, 569, 559, 826, 934, 854, 656, 553,\n",
       "       626, 304, 808, 240, 675, 631, 657, 790, 121, 495, 612,  80, 633,\n",
       "       207, 214, 641, 153, 936, 842, 629, 590, 862, 581, 688, 750, 722,\n",
       "        77, 781, 499, 785, 619, 582, 488, 233, 486, 545, 692, 677, 519,\n",
       "       823, 466, 644, 500, 636, 908, 496, 394, 866, 617, 603, 284, 732,\n",
       "       911, 811, 183, 484, 115, 593, 189, 515, 802, 230, 920, 120, 815,\n",
       "       845, 685, 286, 542, 741, 469, 730, 981, 487, 539, 531, 594, 638,\n",
       "       821, 830, 622, 511, 634,  78, 697, 586, 792, 167, 771, 772, 806,\n",
       "       614, 498, 680, 571, 764, 616, 679, 647, 912, 583, 660,  98, 670,\n",
       "       999, 576, 791, 769, 461, 572, 905, 787], dtype=int64)"
      ]
     },
     "execution_count": 58,
     "metadata": {},
     "output_type": "execute_result"
    }
   ],
   "source": [
    " new_data['class'].unique()"
   ]
  },
  {
   "cell_type": "code",
   "execution_count": 59,
   "id": "ba231a3f-7f58-4fdc-bed5-a242a8ccb99b",
   "metadata": {
    "tags": []
   },
   "outputs": [],
   "source": [
    "f = new_data['subclass'].isnull().values.any()"
   ]
  },
  {
   "cell_type": "code",
   "execution_count": 60,
   "id": "d565d9a1-9844-4fdb-b94a-524d97f73d31",
   "metadata": {
    "tags": []
   },
   "outputs": [
    {
     "data": {
      "text/plain": [
       "True"
      ]
     },
     "execution_count": 60,
     "metadata": {},
     "output_type": "execute_result"
    }
   ],
   "source": [
    "f"
   ]
  },
  {
   "cell_type": "code",
   "execution_count": 61,
   "id": "5b318081-02e0-4f86-950b-84e7a4bd8cdf",
   "metadata": {
    "tags": []
   },
   "outputs": [
    {
     "data": {
      "text/plain": [
       "subclass\n",
       "891.89       1098614\n",
       "2.00           55640\n",
       "6.00           51767\n",
       "1.00           51443\n",
       "100.00         46100\n",
       "              ...   \n",
       "862635.00          1\n",
       "4375.00            1\n",
       "43675.00           1\n",
       "59824.00           1\n",
       "99902.00           1\n",
       "Name: count, Length: 28424, dtype: int64"
      ]
     },
     "execution_count": 61,
     "metadata": {},
     "output_type": "execute_result"
    }
   ],
   "source": [
    "new_data['subclass'].value_counts()"
   ]
  },
  {
   "cell_type": "code",
   "execution_count": 62,
   "id": "aea96a74-8e5d-48ae-9ec9-66a365723b4a",
   "metadata": {
    "tags": []
   },
   "outputs": [
    {
     "data": {
      "text/plain": [
       "28424"
      ]
     },
     "execution_count": 62,
     "metadata": {},
     "output_type": "execute_result"
    }
   ],
   "source": [
    "new_data['subclass'].nunique()"
   ]
  },
  {
   "cell_type": "code",
   "execution_count": 63,
   "id": "b8072dcc-0f92-4eeb-9d02-b21d22f1ed39",
   "metadata": {
    "tags": []
   },
   "outputs": [
    {
     "data": {
      "text/plain": [
       "array([        nan, 2.50000e+00, 4.27000e+02, ..., 3.57440e+04,\n",
       "       9.99106e+05, 9.99020e+04])"
      ]
     },
     "execution_count": 63,
     "metadata": {},
     "output_type": "execute_result"
    }
   ],
   "source": [
    "new_data['subclass'].unique()"
   ]
  },
  {
   "cell_type": "code",
   "execution_count": 64,
   "id": "da2b70a8-74d3-4b04-ab04-84db43a9dd52",
   "metadata": {
    "tags": []
   },
   "outputs": [
    {
     "name": "stderr",
     "output_type": "stream",
     "text": [
      "C:\\Users\\raman\\AppData\\Local\\Temp\\ipykernel_15964\\4044231382.py:1: SettingWithCopyWarning: \n",
      "A value is trying to be set on a copy of a slice from a DataFrame.\n",
      "Try using .loc[row_indexer,col_indexer] = value instead\n",
      "\n",
      "See the caveats in the documentation: https://pandas.pydata.org/pandas-docs/stable/user_guide/indexing.html#returning-a-view-versus-a-copy\n",
      "  new_data['subclass'] = pd.to_numeric(new_data['subclass'], errors='coerce').fillna(0, downcast='infer')\n"
     ]
    }
   ],
   "source": [
    "new_data['subclass'] = pd.to_numeric(new_data['subclass'], errors='coerce').fillna(0, downcast='infer')"
   ]
  },
  {
   "cell_type": "code",
   "execution_count": 65,
   "id": "446c7ae8-2574-4f53-9ac4-8aa5a876ce9e",
   "metadata": {
    "tags": []
   },
   "outputs": [
    {
     "data": {
      "text/plain": [
       "array([0.00000e+00, 2.50000e+00, 4.27000e+02, ..., 3.57440e+04,\n",
       "       9.99106e+05, 9.99020e+04])"
      ]
     },
     "execution_count": 65,
     "metadata": {},
     "output_type": "execute_result"
    }
   ],
   "source": [
    "new_data['subclass'].unique()"
   ]
  },
  {
   "cell_type": "code",
   "execution_count": 66,
   "id": "84414415-bbd4-491d-b1dc-772509c75aa5",
   "metadata": {
    "tags": []
   },
   "outputs": [
    {
     "data": {
      "text/plain": [
       "patent      0\n",
       "appyear     0\n",
       "gyear       0\n",
       "citation    0\n",
       "class       0\n",
       "subclass    0\n",
       "dtype: int64"
      ]
     },
     "execution_count": 66,
     "metadata": {},
     "output_type": "execute_result"
    }
   ],
   "source": [
    "new_data.isnull().sum()"
   ]
  },
  {
   "cell_type": "code",
   "execution_count": 67,
   "id": "09d5a0a0-796a-4507-96ca-0c177c0046cd",
   "metadata": {
    "tags": []
   },
   "outputs": [
    {
     "name": "stdout",
     "output_type": "stream",
     "text": [
      "<class 'pandas.core.frame.DataFrame'>\n",
      "Index: 64870012 entries, 0 to 3984770\n",
      "Data columns (total 6 columns):\n",
      " #   Column    Dtype  \n",
      "---  ------    -----  \n",
      " 0   patent    int64  \n",
      " 1   appyear   int64  \n",
      " 2   gyear     int64  \n",
      " 3   citation  float64\n",
      " 4   class     int64  \n",
      " 5   subclass  float64\n",
      "dtypes: float64(2), int64(4)\n",
      "memory usage: 3.4 GB\n"
     ]
    }
   ],
   "source": [
    "new_data.info()"
   ]
  },
  {
   "cell_type": "code",
   "execution_count": 68,
   "id": "0ea605dd-f7ad-41e3-a891-c2165aef69da",
   "metadata": {
    "tags": []
   },
   "outputs": [
    {
     "data": {
      "text/plain": [
       "9144711"
      ]
     },
     "execution_count": 68,
     "metadata": {},
     "output_type": "execute_result"
    }
   ],
   "source": [
    "new_data.duplicated().sum()"
   ]
  },
  {
   "cell_type": "code",
   "execution_count": 69,
   "id": "ce7bb493-7ce3-424a-aade-50d75f01e3f7",
   "metadata": {
    "tags": []
   },
   "outputs": [
    {
     "name": "stderr",
     "output_type": "stream",
     "text": [
      "C:\\Users\\raman\\AppData\\Local\\Temp\\ipykernel_15964\\3898862419.py:1: SettingWithCopyWarning: \n",
      "A value is trying to be set on a copy of a slice from a DataFrame\n",
      "\n",
      "See the caveats in the documentation: https://pandas.pydata.org/pandas-docs/stable/user_guide/indexing.html#returning-a-view-versus-a-copy\n",
      "  new_data.drop_duplicates(inplace=True)\n"
     ]
    }
   ],
   "source": [
    "new_data.drop_duplicates(inplace=True)"
   ]
  },
  {
   "cell_type": "code",
   "execution_count": 70,
   "id": "c0d63961-5c67-4360-b161-4572cd644a67",
   "metadata": {
    "tags": []
   },
   "outputs": [
    {
     "data": {
      "text/plain": [
       "(55725301, 6)"
      ]
     },
     "execution_count": 70,
     "metadata": {},
     "output_type": "execute_result"
    }
   ],
   "source": [
    "new_data.shape"
   ]
  },
  {
   "cell_type": "code",
   "execution_count": 71,
   "id": "e6fd9d64-fbb9-4589-a138-fe36d3cd3273",
   "metadata": {
    "tags": []
   },
   "outputs": [
    {
     "data": {
      "text/html": [
       "<div>\n",
       "<style scoped>\n",
       "    .dataframe tbody tr th:only-of-type {\n",
       "        vertical-align: middle;\n",
       "    }\n",
       "\n",
       "    .dataframe tbody tr th {\n",
       "        vertical-align: top;\n",
       "    }\n",
       "\n",
       "    .dataframe thead th {\n",
       "        text-align: right;\n",
       "    }\n",
       "</style>\n",
       "<table border=\"1\" class=\"dataframe\">\n",
       "  <thead>\n",
       "    <tr style=\"text-align: right;\">\n",
       "      <th></th>\n",
       "      <th>patent</th>\n",
       "      <th>appyear</th>\n",
       "      <th>gyear</th>\n",
       "      <th>citation</th>\n",
       "      <th>class</th>\n",
       "      <th>subclass</th>\n",
       "    </tr>\n",
       "  </thead>\n",
       "  <tbody>\n",
       "    <tr>\n",
       "      <th>0</th>\n",
       "      <td>3858241</td>\n",
       "      <td>0</td>\n",
       "      <td>0</td>\n",
       "      <td>0.0</td>\n",
       "      <td>0</td>\n",
       "      <td>0.0</td>\n",
       "    </tr>\n",
       "    <tr>\n",
       "      <th>1</th>\n",
       "      <td>3858242</td>\n",
       "      <td>0</td>\n",
       "      <td>0</td>\n",
       "      <td>0.0</td>\n",
       "      <td>0</td>\n",
       "      <td>0.0</td>\n",
       "    </tr>\n",
       "    <tr>\n",
       "      <th>2</th>\n",
       "      <td>3858243</td>\n",
       "      <td>0</td>\n",
       "      <td>0</td>\n",
       "      <td>0.0</td>\n",
       "      <td>0</td>\n",
       "      <td>0.0</td>\n",
       "    </tr>\n",
       "    <tr>\n",
       "      <th>3</th>\n",
       "      <td>3858244</td>\n",
       "      <td>0</td>\n",
       "      <td>0</td>\n",
       "      <td>0.0</td>\n",
       "      <td>0</td>\n",
       "      <td>0.0</td>\n",
       "    </tr>\n",
       "    <tr>\n",
       "      <th>4</th>\n",
       "      <td>3858245</td>\n",
       "      <td>0</td>\n",
       "      <td>0</td>\n",
       "      <td>0.0</td>\n",
       "      <td>0</td>\n",
       "      <td>0.0</td>\n",
       "    </tr>\n",
       "  </tbody>\n",
       "</table>\n",
       "</div>"
      ],
      "text/plain": [
       "    patent  appyear  gyear  citation  class  subclass\n",
       "0  3858241        0      0       0.0      0       0.0\n",
       "1  3858242        0      0       0.0      0       0.0\n",
       "2  3858243        0      0       0.0      0       0.0\n",
       "3  3858244        0      0       0.0      0       0.0\n",
       "4  3858245        0      0       0.0      0       0.0"
      ]
     },
     "execution_count": 71,
     "metadata": {},
     "output_type": "execute_result"
    }
   ],
   "source": [
    "new_data.head()"
   ]
  },
  {
   "cell_type": "code",
   "execution_count": 72,
   "id": "012a3294-80de-4e4c-9cb0-425bbf3b13f4",
   "metadata": {
    "tags": []
   },
   "outputs": [
    {
     "data": {
      "text/html": [
       "<div>\n",
       "<style scoped>\n",
       "    .dataframe tbody tr th:only-of-type {\n",
       "        vertical-align: middle;\n",
       "    }\n",
       "\n",
       "    .dataframe tbody tr th {\n",
       "        vertical-align: top;\n",
       "    }\n",
       "\n",
       "    .dataframe thead th {\n",
       "        text-align: right;\n",
       "    }\n",
       "</style>\n",
       "<table border=\"1\" class=\"dataframe\">\n",
       "  <thead>\n",
       "    <tr style=\"text-align: right;\">\n",
       "      <th></th>\n",
       "      <th>patent</th>\n",
       "      <th>appyear</th>\n",
       "      <th>gyear</th>\n",
       "      <th>citation</th>\n",
       "      <th>class</th>\n",
       "      <th>subclass</th>\n",
       "    </tr>\n",
       "  </thead>\n",
       "  <tbody>\n",
       "    <tr>\n",
       "      <th>3984766</th>\n",
       "      <td>7788728</td>\n",
       "      <td>2005</td>\n",
       "      <td>2010</td>\n",
       "      <td>0.0</td>\n",
       "      <td>0</td>\n",
       "      <td>0.0</td>\n",
       "    </tr>\n",
       "    <tr>\n",
       "      <th>3984767</th>\n",
       "      <td>7788729</td>\n",
       "      <td>2005</td>\n",
       "      <td>2010</td>\n",
       "      <td>0.0</td>\n",
       "      <td>0</td>\n",
       "      <td>0.0</td>\n",
       "    </tr>\n",
       "    <tr>\n",
       "      <th>3984768</th>\n",
       "      <td>7788730</td>\n",
       "      <td>2006</td>\n",
       "      <td>2010</td>\n",
       "      <td>0.0</td>\n",
       "      <td>0</td>\n",
       "      <td>0.0</td>\n",
       "    </tr>\n",
       "    <tr>\n",
       "      <th>3984769</th>\n",
       "      <td>7788731</td>\n",
       "      <td>2005</td>\n",
       "      <td>2010</td>\n",
       "      <td>0.0</td>\n",
       "      <td>0</td>\n",
       "      <td>0.0</td>\n",
       "    </tr>\n",
       "    <tr>\n",
       "      <th>3984770</th>\n",
       "      <td>7788732</td>\n",
       "      <td>2007</td>\n",
       "      <td>2010</td>\n",
       "      <td>0.0</td>\n",
       "      <td>0</td>\n",
       "      <td>0.0</td>\n",
       "    </tr>\n",
       "  </tbody>\n",
       "</table>\n",
       "</div>"
      ],
      "text/plain": [
       "          patent  appyear  gyear  citation  class  subclass\n",
       "3984766  7788728     2005   2010       0.0      0       0.0\n",
       "3984767  7788729     2005   2010       0.0      0       0.0\n",
       "3984768  7788730     2006   2010       0.0      0       0.0\n",
       "3984769  7788731     2005   2010       0.0      0       0.0\n",
       "3984770  7788732     2007   2010       0.0      0       0.0"
      ]
     },
     "execution_count": 72,
     "metadata": {},
     "output_type": "execute_result"
    }
   ],
   "source": [
    "new_data.tail()"
   ]
  },
  {
   "cell_type": "code",
   "execution_count": 73,
   "id": "f6d70cea-21d6-4af7-943a-1e836add3852",
   "metadata": {
    "tags": []
   },
   "outputs": [],
   "source": [
    "patent = len(pd.unique(new_data['patent']))"
   ]
  },
  {
   "cell_type": "code",
   "execution_count": 74,
   "id": "539a4219-c3bf-4342-adbb-b8e5a7c780c4",
   "metadata": {
    "tags": []
   },
   "outputs": [
    {
     "data": {
      "text/plain": [
       "3984771"
      ]
     },
     "execution_count": 74,
     "metadata": {},
     "output_type": "execute_result"
    }
   ],
   "source": [
    "patent"
   ]
  },
  {
   "cell_type": "code",
   "execution_count": 75,
   "id": "3eb33ecf-5239-435e-a82c-935b3f9f9ebf",
   "metadata": {
    "tags": []
   },
   "outputs": [],
   "source": [
    "appyear= len(pd.unique(new_data['appyear']))"
   ]
  },
  {
   "cell_type": "code",
   "execution_count": 76,
   "id": "c51067dc-bea0-48fa-8ea3-3423d78a9ba4",
   "metadata": {
    "tags": []
   },
   "outputs": [
    {
     "data": {
      "text/plain": [
       "91"
      ]
     },
     "execution_count": 76,
     "metadata": {},
     "output_type": "execute_result"
    }
   ],
   "source": [
    "appyear"
   ]
  },
  {
   "cell_type": "code",
   "execution_count": 77,
   "id": "21c94462-88e0-4718-98a5-39481ea48d9e",
   "metadata": {
    "tags": []
   },
   "outputs": [],
   "source": [
    "gyear = len(pd.unique(new_data['gyear']))"
   ]
  },
  {
   "cell_type": "code",
   "execution_count": 78,
   "id": "c168b3cc-7934-403c-8c13-7d946e5b0027",
   "metadata": {
    "tags": []
   },
   "outputs": [
    {
     "data": {
      "text/plain": [
       "37"
      ]
     },
     "execution_count": 78,
     "metadata": {},
     "output_type": "execute_result"
    }
   ],
   "source": [
    "gyear"
   ]
  },
  {
   "cell_type": "code",
   "execution_count": 79,
   "id": "dee61b6e-bc7e-421d-9c97-ce594f80e077",
   "metadata": {
    "tags": []
   },
   "outputs": [],
   "source": [
    "citation =len(pd.unique(new_data['citation']))\n",
    "clss = len(pd.unique(new_data['class']))\n",
    "subclass = len(pd.unique(new_data['subclass']))"
   ]
  },
  {
   "cell_type": "code",
   "execution_count": 80,
   "id": "9a559fa3-a3b9-4af9-844f-3bde042c3e4c",
   "metadata": {
    "tags": []
   },
   "outputs": [
    {
     "data": {
      "text/plain": [
       "5274347"
      ]
     },
     "execution_count": 80,
     "metadata": {},
     "output_type": "execute_result"
    }
   ],
   "source": [
    "citation"
   ]
  },
  {
   "cell_type": "code",
   "execution_count": 81,
   "id": "a670eb19-0860-4281-8a5a-eaacdc6aed11",
   "metadata": {
    "tags": []
   },
   "outputs": [
    {
     "data": {
      "text/plain": [
       "762"
      ]
     },
     "execution_count": 81,
     "metadata": {},
     "output_type": "execute_result"
    }
   ],
   "source": [
    "clss"
   ]
  },
  {
   "cell_type": "code",
   "execution_count": 82,
   "id": "f4b02324-d436-4ffc-99c4-b2a9274ae798",
   "metadata": {
    "tags": []
   },
   "outputs": [
    {
     "data": {
      "text/plain": [
       "28425"
      ]
     },
     "execution_count": 82,
     "metadata": {},
     "output_type": "execute_result"
    }
   ],
   "source": [
    "subclass"
   ]
  },
  {
   "cell_type": "code",
   "execution_count": 83,
   "id": "1e74a392-b446-4af7-8d35-7d0c30601928",
   "metadata": {
    "tags": []
   },
   "outputs": [
    {
     "data": {
      "text/plain": [
       "<Axes: ylabel='Frequency'>"
      ]
     },
     "execution_count": 83,
     "metadata": {},
     "output_type": "execute_result"
    },
    {
     "data": {
      "image/png": "[encoded data removed]",
      "text/plain": [
       "<Figure size 640x480 with 1 Axes>"
      ]
     },
     "metadata": {},
     "output_type": "display_data"
    }
   ],
   "source": [
    "new_data['patent'].plot(kind='hist', bins = 4)"
   ]
  },
  {
   "cell_type": "code",
   "execution_count": 84,
   "id": "86393663-0830-4765-a538-345fd3d161ce",
   "metadata": {
    "tags": []
   },
   "outputs": [
    {
     "data": {
      "text/plain": [
       "count    5.572530e+07\n",
       "mean     6.416820e+06\n",
       "std      1.097832e+06\n",
       "min      3.858241e+06\n",
       "25%      5.697462e+06\n",
       "50%      6.689231e+06\n",
       "75%      7.310815e+06\n",
       "max      7.861316e+06\n",
       "Name: patent, dtype: float64"
      ]
     },
     "execution_count": 84,
     "metadata": {},
     "output_type": "execute_result"
    }
   ],
   "source": [
    "new_data['patent'].describe()"
   ]
  },
  {
   "cell_type": "code",
   "execution_count": 85,
   "id": "abcaf574-477b-4bf5-aae5-13d08280640e",
   "metadata": {
    "tags": []
   },
   "outputs": [
    {
     "name": "stderr",
     "output_type": "stream",
     "text": [
      "C:\\Users\\raman\\AppData\\Local\\Temp\\ipykernel_15964\\4119110901.py:1: SettingWithCopyWarning: \n",
      "A value is trying to be set on a copy of a slice from a DataFrame.\n",
      "Try using .loc[row_indexer,col_indexer] = value instead\n",
      "\n",
      "See the caveats in the documentation: https://pandas.pydata.org/pandas-docs/stable/user_guide/indexing.html#returning-a-view-versus-a-copy\n",
      "  new_data['Patent'] = pd.qcut(new_data['patent'], q=4, labels=[\"p1\", \"p2\", \"p3\", \"p4\"])\n"
     ]
    }
   ],
   "source": [
    "new_data['Patent'] = pd.qcut(new_data['patent'], q=4, labels=[\"p1\", \"p2\", \"p3\", \"p4\"])"
   ]
  },
  {
   "cell_type": "code",
   "execution_count": 86,
   "id": "4f389d47-2d7f-4282-8c15-baf44937d71a",
   "metadata": {
    "tags": []
   },
   "outputs": [
    {
     "data": {
      "text/html": [
       "<div>\n",
       "<style scoped>\n",
       "    .dataframe tbody tr th:only-of-type {\n",
       "        vertical-align: middle;\n",
       "    }\n",
       "\n",
       "    .dataframe tbody tr th {\n",
       "        vertical-align: top;\n",
       "    }\n",
       "\n",
       "    .dataframe thead th {\n",
       "        text-align: right;\n",
       "    }\n",
       "</style>\n",
       "<table border=\"1\" class=\"dataframe\">\n",
       "  <thead>\n",
       "    <tr style=\"text-align: right;\">\n",
       "      <th></th>\n",
       "      <th>patent</th>\n",
       "      <th>appyear</th>\n",
       "      <th>gyear</th>\n",
       "      <th>citation</th>\n",
       "      <th>class</th>\n",
       "      <th>subclass</th>\n",
       "      <th>Patent</th>\n",
       "    </tr>\n",
       "  </thead>\n",
       "  <tbody>\n",
       "    <tr>\n",
       "      <th>0</th>\n",
       "      <td>3858241</td>\n",
       "      <td>0</td>\n",
       "      <td>0</td>\n",
       "      <td>0.0</td>\n",
       "      <td>0</td>\n",
       "      <td>0.0</td>\n",
       "      <td>p1</td>\n",
       "    </tr>\n",
       "    <tr>\n",
       "      <th>1</th>\n",
       "      <td>3858242</td>\n",
       "      <td>0</td>\n",
       "      <td>0</td>\n",
       "      <td>0.0</td>\n",
       "      <td>0</td>\n",
       "      <td>0.0</td>\n",
       "      <td>p1</td>\n",
       "    </tr>\n",
       "    <tr>\n",
       "      <th>2</th>\n",
       "      <td>3858243</td>\n",
       "      <td>0</td>\n",
       "      <td>0</td>\n",
       "      <td>0.0</td>\n",
       "      <td>0</td>\n",
       "      <td>0.0</td>\n",
       "      <td>p1</td>\n",
       "    </tr>\n",
       "    <tr>\n",
       "      <th>3</th>\n",
       "      <td>3858244</td>\n",
       "      <td>0</td>\n",
       "      <td>0</td>\n",
       "      <td>0.0</td>\n",
       "      <td>0</td>\n",
       "      <td>0.0</td>\n",
       "      <td>p1</td>\n",
       "    </tr>\n",
       "    <tr>\n",
       "      <th>4</th>\n",
       "      <td>3858245</td>\n",
       "      <td>0</td>\n",
       "      <td>0</td>\n",
       "      <td>0.0</td>\n",
       "      <td>0</td>\n",
       "      <td>0.0</td>\n",
       "      <td>p1</td>\n",
       "    </tr>\n",
       "    <tr>\n",
       "      <th>...</th>\n",
       "      <td>...</td>\n",
       "      <td>...</td>\n",
       "      <td>...</td>\n",
       "      <td>...</td>\n",
       "      <td>...</td>\n",
       "      <td>...</td>\n",
       "      <td>...</td>\n",
       "    </tr>\n",
       "    <tr>\n",
       "      <th>3984766</th>\n",
       "      <td>7788728</td>\n",
       "      <td>2005</td>\n",
       "      <td>2010</td>\n",
       "      <td>0.0</td>\n",
       "      <td>0</td>\n",
       "      <td>0.0</td>\n",
       "      <td>p4</td>\n",
       "    </tr>\n",
       "    <tr>\n",
       "      <th>3984767</th>\n",
       "      <td>7788729</td>\n",
       "      <td>2005</td>\n",
       "      <td>2010</td>\n",
       "      <td>0.0</td>\n",
       "      <td>0</td>\n",
       "      <td>0.0</td>\n",
       "      <td>p4</td>\n",
       "    </tr>\n",
       "    <tr>\n",
       "      <th>3984768</th>\n",
       "      <td>7788730</td>\n",
       "      <td>2006</td>\n",
       "      <td>2010</td>\n",
       "      <td>0.0</td>\n",
       "      <td>0</td>\n",
       "      <td>0.0</td>\n",
       "      <td>p4</td>\n",
       "    </tr>\n",
       "    <tr>\n",
       "      <th>3984769</th>\n",
       "      <td>7788731</td>\n",
       "      <td>2005</td>\n",
       "      <td>2010</td>\n",
       "      <td>0.0</td>\n",
       "      <td>0</td>\n",
       "      <td>0.0</td>\n",
       "      <td>p4</td>\n",
       "    </tr>\n",
       "    <tr>\n",
       "      <th>3984770</th>\n",
       "      <td>7788732</td>\n",
       "      <td>2007</td>\n",
       "      <td>2010</td>\n",
       "      <td>0.0</td>\n",
       "      <td>0</td>\n",
       "      <td>0.0</td>\n",
       "      <td>p4</td>\n",
       "    </tr>\n",
       "  </tbody>\n",
       "</table>\n",
       "<p>55725301 rows × 7 columns</p>\n",
       "</div>"
      ],
      "text/plain": [
       "          patent  appyear  gyear  citation  class  subclass Patent\n",
       "0        3858241        0      0       0.0      0       0.0     p1\n",
       "1        3858242        0      0       0.0      0       0.0     p1\n",
       "2        3858243        0      0       0.0      0       0.0     p1\n",
       "3        3858244        0      0       0.0      0       0.0     p1\n",
       "4        3858245        0      0       0.0      0       0.0     p1\n",
       "...          ...      ...    ...       ...    ...       ...    ...\n",
       "3984766  7788728     2005   2010       0.0      0       0.0     p4\n",
       "3984767  7788729     2005   2010       0.0      0       0.0     p4\n",
       "3984768  7788730     2006   2010       0.0      0       0.0     p4\n",
       "3984769  7788731     2005   2010       0.0      0       0.0     p4\n",
       "3984770  7788732     2007   2010       0.0      0       0.0     p4\n",
       "\n",
       "[55725301 rows x 7 columns]"
      ]
     },
     "execution_count": 86,
     "metadata": {},
     "output_type": "execute_result"
    }
   ],
   "source": [
    "new_data"
   ]
  },
  {
   "cell_type": "code",
   "execution_count": 87,
   "id": "a6dffd0a-90ef-4b21-a5b2-34794f720825",
   "metadata": {
    "tags": []
   },
   "outputs": [
    {
     "data": {
      "text/plain": [
       "['p1', 'p2', 'p3', 'p4']\n",
       "Categories (4, object): ['p1' < 'p2' < 'p3' < 'p4']"
      ]
     },
     "execution_count": 87,
     "metadata": {},
     "output_type": "execute_result"
    }
   ],
   "source": [
    "new_data['Patent'].unique()"
   ]
  },
  {
   "cell_type": "code",
   "execution_count": 88,
   "id": "e42cfbcb-5ecf-4891-87be-bf39356ff2fb",
   "metadata": {
    "tags": []
   },
   "outputs": [
    {
     "data": {
      "text/plain": [
       "<Axes: ylabel='Frequency'>"
      ]
     },
     "execution_count": 88,
     "metadata": {},
     "output_type": "execute_result"
    },
    {
     "data": {
      "image/png": "[encoded data removed]",
      "text/plain": [
       "<Figure size 640x480 with 1 Axes>"
      ]
     },
     "metadata": {},
     "output_type": "display_data"
    }
   ],
   "source": [
    "new_data['appyear'].plot(kind='hist', bins = 10)"
   ]
  },
  {
   "cell_type": "raw",
   "id": "71272899-3537-43c2-9546-1655966d1ef6",
   "metadata": {
    "tags": []
   },
   "source": [
    "cut_labels_4 = ['y1', 'y2', 'y3', 'y4']\n",
    "cut_bins = [250, 1000,1500, 2000]\n",
    "new_data['Appyear'] = pd.cut(new_data['appyear'], bins=cut_bins, labels=cut_labels_4)"
   ]
  },
  {
   "cell_type": "raw",
   "id": "7e397a67-9f32-4a43-950e-a21c156b7440",
   "metadata": {
    "tags": []
   },
   "source": [
    "interval_range = pd.interval_range(start=0, freq=500, end=2000)\n",
    "new_data['Appyear'] = pd.cut(new_data['appyear'], bins=interval_range, labels=[1,2,3, 4])"
   ]
  },
  {
   "cell_type": "code",
   "execution_count": 89,
   "id": "17d3e37e-67c4-496b-8d8e-dbf08f608f62",
   "metadata": {
    "tags": []
   },
   "outputs": [
    {
     "data": {
      "text/plain": [
       "appyear\n",
       "0       51740530\n",
       "2001      208908\n",
       "2002      206229\n",
       "2000      196639\n",
       "2003      191514\n",
       "          ...   \n",
       "1909           1\n",
       "1918           1\n",
       "1908           1\n",
       "1902           1\n",
       "1915           1\n",
       "Name: count, Length: 91, dtype: int64"
      ]
     },
     "execution_count": 89,
     "metadata": {},
     "output_type": "execute_result"
    }
   ],
   "source": [
    "new_data['appyear'].value_counts()"
   ]
  },
  {
   "cell_type": "code",
   "execution_count": 90,
   "id": "de738d2c-c96f-4c0e-887c-8f3f709cedcf",
   "metadata": {
    "tags": []
   },
   "outputs": [
    {
     "data": {
      "text/plain": [
       "array([   0, 1974, 1973, 1972, 1971, 1970, 1969, 1965, 1960, 1961, 1967,\n",
       "       1966, 1968, 1963, 1959, 1957, 1964, 1954, 1958, 1962, 1975, 1955,\n",
       "       1956, 1944, 1942, 1953, 1950, 1945, 1946, 1943, 1952, 1994, 1949,\n",
       "       1948, 1976, 1941, 1951, 1925, 1977, 1978, 1940, 1938, 1979, 1936,\n",
       "       1947, 1980, 1981, 1982, 1983, 1984, 1922, 1904, 1985, 1930, 1986,\n",
       "       1987, 1988, 1989, 1990, 1931, 1908, 1918, 1939, 1991, 1992, 1921,\n",
       "       1901, 1993, 1902, 1909, 1903, 1929, 1915, 1995, 1996, 1905, 1997,\n",
       "       1998, 1999, 2000, 1933, 2001, 2002, 2003, 2004, 2005, 2006, 2007,\n",
       "       2008, 2009, 2010], dtype=int64)"
      ]
     },
     "execution_count": 90,
     "metadata": {},
     "output_type": "execute_result"
    }
   ],
   "source": [
    "new_data['appyear'].unique()"
   ]
  },
  {
   "cell_type": "code",
   "execution_count": 91,
   "id": "dc3db88a-d7e4-4b99-8794-bdd0ba6e5a4d",
   "metadata": {
    "tags": []
   },
   "outputs": [],
   "source": [
    "z = new_data['appyear']"
   ]
  },
  {
   "cell_type": "code",
   "execution_count": 92,
   "id": "f4a77226-193b-48b6-b270-99065e05b481",
   "metadata": {
    "tags": []
   },
   "outputs": [
    {
     "data": {
      "text/plain": [
       "array([   0, 1974, 1973, 1972, 1971, 1970, 1969, 1965, 1960, 1961, 1967,\n",
       "       1966, 1968, 1963, 1959, 1957, 1964, 1954, 1958, 1962, 1975, 1955,\n",
       "       1956, 1944, 1942, 1953, 1950, 1945, 1946, 1943, 1952, 1994, 1949,\n",
       "       1948, 1976, 1941, 1951, 1925, 1977, 1978, 1940, 1938, 1979, 1936,\n",
       "       1947, 1980, 1981, 1982, 1983, 1984, 1922, 1904, 1985, 1930, 1986,\n",
       "       1987, 1988, 1989, 1990, 1931, 1908, 1918, 1939, 1991, 1992, 1921,\n",
       "       1901, 1993, 1902, 1909, 1903, 1929, 1915, 1995, 1996, 1905, 1997,\n",
       "       1998, 1999, 2000, 1933, 2001, 2002, 2003, 2004, 2005, 2006, 2007,\n",
       "       2008, 2009, 2010], dtype=int64)"
      ]
     },
     "execution_count": 92,
     "metadata": {},
     "output_type": "execute_result"
    }
   ],
   "source": [
    "z.unique()"
   ]
  },
  {
   "cell_type": "code",
   "execution_count": 93,
   "id": "2249bd89-06bf-42a4-a7f3-0d0e0ae1f803",
   "metadata": {
    "tags": []
   },
   "outputs": [
    {
     "name": "stderr",
     "output_type": "stream",
     "text": [
      "C:\\Users\\raman\\AppData\\Local\\Temp\\ipykernel_15964\\1965823106.py:1: SettingWithCopyWarning: \n",
      "A value is trying to be set on a copy of a slice from a DataFrame\n",
      "\n",
      "See the caveats in the documentation: https://pandas.pydata.org/pandas-docs/stable/user_guide/indexing.html#returning-a-view-versus-a-copy\n",
      "  z.drop_duplicates(inplace  = True)\n"
     ]
    }
   ],
   "source": [
    "z.drop_duplicates(inplace  = True)"
   ]
  },
  {
   "cell_type": "code",
   "execution_count": 94,
   "id": "10e22e63-a03c-41cd-8c66-b85e9b027372",
   "metadata": {
    "tags": []
   },
   "outputs": [
    {
     "data": {
      "text/plain": [
       "1941.6923076923076"
      ]
     },
     "execution_count": 94,
     "metadata": {},
     "output_type": "execute_result"
    }
   ],
   "source": [
    "z.mean()"
   ]
  },
  {
   "cell_type": "code",
   "execution_count": 95,
   "id": "55211c3a-a7e4-4e90-9f92-8fc32c88444c",
   "metadata": {
    "tags": []
   },
   "outputs": [
    {
     "name": "stderr",
     "output_type": "stream",
     "text": [
      "C:\\Users\\raman\\AppData\\Local\\Temp\\ipykernel_15964\\752923598.py:1: SettingWithCopyWarning: \n",
      "A value is trying to be set on a copy of a slice from a DataFrame.\n",
      "Try using .loc[row_indexer,col_indexer] = value instead\n",
      "\n",
      "See the caveats in the documentation: https://pandas.pydata.org/pandas-docs/stable/user_guide/indexing.html#returning-a-view-versus-a-copy\n",
      "  new_data['appyear'] = new_data['appyear'].replace({0: 1941})\n"
     ]
    }
   ],
   "source": [
    "new_data['appyear'] = new_data['appyear'].replace({0: 1941})"
   ]
  },
  {
   "cell_type": "code",
   "execution_count": 96,
   "id": "ce45e352-daf1-486d-8778-a4ed44ecc782",
   "metadata": {
    "tags": []
   },
   "outputs": [
    {
     "data": {
      "text/plain": [
       "0          1941\n",
       "1          1941\n",
       "2          1941\n",
       "3          1941\n",
       "4          1941\n",
       "           ... \n",
       "3984766    2005\n",
       "3984767    2005\n",
       "3984768    2006\n",
       "3984769    2005\n",
       "3984770    2007\n",
       "Name: appyear, Length: 55725301, dtype: int64"
      ]
     },
     "execution_count": 96,
     "metadata": {},
     "output_type": "execute_result"
    }
   ],
   "source": [
    "new_data['appyear']"
   ]
  },
  {
   "cell_type": "code",
   "execution_count": 97,
   "id": "b1c67782-da53-433b-9e02-df66919696a0",
   "metadata": {
    "tags": []
   },
   "outputs": [
    {
     "data": {
      "text/plain": [
       "<Axes: ylabel='Frequency'>"
      ]
     },
     "execution_count": 97,
     "metadata": {},
     "output_type": "execute_result"
    },
    {
     "data": {
      "image/png": "[encoded data removed]",
      "text/plain": [
       "<Figure size 640x480 with 1 Axes>"
      ]
     },
     "metadata": {},
     "output_type": "display_data"
    }
   ],
   "source": [
    "new_data['appyear'].plot(kind='hist', bins = 4)"
   ]
  },
  {
   "cell_type": "code",
   "execution_count": 98,
   "id": "a984d0e4-aaa6-444d-bd52-1c9605301537",
   "metadata": {
    "tags": []
   },
   "outputs": [],
   "source": [
    "x = new_data['appyear'].unique()"
   ]
  },
  {
   "cell_type": "code",
   "execution_count": 99,
   "id": "452bd0e9-be01-4d76-829a-b87d3a1615c7",
   "metadata": {
    "tags": []
   },
   "outputs": [
    {
     "name": "stdout",
     "output_type": "stream",
     "text": [
      "[1901, 1902, 1903, 1904, 1905, 1908, 1909, 1915, 1918, 1921, 1922, 1925, 1929, 1930, 1931, 1933, 1936, 1938, 1939, 1940, 1941, 1942, 1943, 1944, 1945, 1946, 1947, 1948, 1949, 1950, 1951, 1952, 1953, 1954, 1955, 1956, 1957, 1958, 1959, 1960, 1961, 1962, 1963, 1964, 1965, 1966, 1967, 1968, 1969, 1970, 1971, 1972, 1973, 1974, 1975, 1976, 1977, 1978, 1979, 1980, 1981, 1982, 1983, 1984, 1985, 1986, 1987, 1988, 1989, 1990, 1991, 1992, 1993, 1994, 1995, 1996, 1997, 1998, 1999, 2000, 2001, 2002, 2003, 2004, 2005, 2006, 2007, 2008, 2009, 2010]\n"
     ]
    }
   ],
   "source": [
    "print(sorted(x))"
   ]
  },
  {
   "cell_type": "raw",
   "id": "9f1d477b-bfa8-4650-aece-a8632817b159",
   "metadata": {
    "jupyter": {
     "outputs_hidden": true
    },
    "tags": []
   },
   "source": [
    "interval_range = pd.interval_range(start=1901, freq=, end=2010)\n",
    "new_data['Appyear'] = pd.qcut(new_data['appyear'], q=interval_range, labels=['y1', 'y2', 'y3', 'y4'])"
   ]
  },
  {
   "cell_type": "code",
   "execution_count": 100,
   "id": "0dc1bb68-14c1-415f-80fb-e923fdce3746",
   "metadata": {
    "tags": []
   },
   "outputs": [
    {
     "data": {
      "text/plain": [
       "<Axes: ylabel='Frequency'>"
      ]
     },
     "execution_count": 100,
     "metadata": {},
     "output_type": "execute_result"
    },
    {
     "data": {
      "image/png": "[encoded data removed]",
      "text/plain": [
       "<Figure size 640x480 with 1 Axes>"
      ]
     },
     "metadata": {},
     "output_type": "display_data"
    }
   ],
   "source": [
    "new_data['appyear'].plot(kind='hist', bins = 8)"
   ]
  },
  {
   "cell_type": "code",
   "execution_count": 101,
   "id": "4a1b9b76-aaf9-43b8-9849-40c9e1daf7f9",
   "metadata": {
    "tags": []
   },
   "outputs": [
    {
     "data": {
      "text/html": [
       "<div>\n",
       "<style scoped>\n",
       "    .dataframe tbody tr th:only-of-type {\n",
       "        vertical-align: middle;\n",
       "    }\n",
       "\n",
       "    .dataframe tbody tr th {\n",
       "        vertical-align: top;\n",
       "    }\n",
       "\n",
       "    .dataframe thead th {\n",
       "        text-align: right;\n",
       "    }\n",
       "</style>\n",
       "<table border=\"1\" class=\"dataframe\">\n",
       "  <thead>\n",
       "    <tr style=\"text-align: right;\">\n",
       "      <th></th>\n",
       "      <th>patent</th>\n",
       "      <th>appyear</th>\n",
       "      <th>gyear</th>\n",
       "      <th>citation</th>\n",
       "      <th>class</th>\n",
       "      <th>subclass</th>\n",
       "      <th>Patent</th>\n",
       "    </tr>\n",
       "  </thead>\n",
       "  <tbody>\n",
       "    <tr>\n",
       "      <th>0</th>\n",
       "      <td>3858241</td>\n",
       "      <td>1941</td>\n",
       "      <td>0</td>\n",
       "      <td>0.0</td>\n",
       "      <td>0</td>\n",
       "      <td>0.0</td>\n",
       "      <td>p1</td>\n",
       "    </tr>\n",
       "    <tr>\n",
       "      <th>1</th>\n",
       "      <td>3858242</td>\n",
       "      <td>1941</td>\n",
       "      <td>0</td>\n",
       "      <td>0.0</td>\n",
       "      <td>0</td>\n",
       "      <td>0.0</td>\n",
       "      <td>p1</td>\n",
       "    </tr>\n",
       "    <tr>\n",
       "      <th>2</th>\n",
       "      <td>3858243</td>\n",
       "      <td>1941</td>\n",
       "      <td>0</td>\n",
       "      <td>0.0</td>\n",
       "      <td>0</td>\n",
       "      <td>0.0</td>\n",
       "      <td>p1</td>\n",
       "    </tr>\n",
       "    <tr>\n",
       "      <th>3</th>\n",
       "      <td>3858244</td>\n",
       "      <td>1941</td>\n",
       "      <td>0</td>\n",
       "      <td>0.0</td>\n",
       "      <td>0</td>\n",
       "      <td>0.0</td>\n",
       "      <td>p1</td>\n",
       "    </tr>\n",
       "    <tr>\n",
       "      <th>4</th>\n",
       "      <td>3858245</td>\n",
       "      <td>1941</td>\n",
       "      <td>0</td>\n",
       "      <td>0.0</td>\n",
       "      <td>0</td>\n",
       "      <td>0.0</td>\n",
       "      <td>p1</td>\n",
       "    </tr>\n",
       "  </tbody>\n",
       "</table>\n",
       "</div>"
      ],
      "text/plain": [
       "    patent  appyear  gyear  citation  class  subclass Patent\n",
       "0  3858241     1941      0       0.0      0       0.0     p1\n",
       "1  3858242     1941      0       0.0      0       0.0     p1\n",
       "2  3858243     1941      0       0.0      0       0.0     p1\n",
       "3  3858244     1941      0       0.0      0       0.0     p1\n",
       "4  3858245     1941      0       0.0      0       0.0     p1"
      ]
     },
     "execution_count": 101,
     "metadata": {},
     "output_type": "execute_result"
    }
   ],
   "source": [
    "new_data.head()"
   ]
  },
  {
   "cell_type": "code",
   "execution_count": 102,
   "id": "a193f272-f3e9-4193-930d-17a4b45f7439",
   "metadata": {},
   "outputs": [
    {
     "name": "stderr",
     "output_type": "stream",
     "text": [
      "C:\\Users\\raman\\AppData\\Local\\Temp\\ipykernel_15964\\3300449988.py:1: SettingWithCopyWarning: \n",
      "A value is trying to be set on a copy of a slice from a DataFrame\n",
      "\n",
      "See the caveats in the documentation: https://pandas.pydata.org/pandas-docs/stable/user_guide/indexing.html#returning-a-view-versus-a-copy\n",
      "  new_data.drop(['patent'], axis=1, inplace = True)\n"
     ]
    }
   ],
   "source": [
    "new_data.drop(['patent'], axis=1, inplace = True)"
   ]
  },
  {
   "cell_type": "code",
   "execution_count": 103,
   "id": "1ec94265-03c5-45fd-8708-9fb4bcfe885d",
   "metadata": {
    "tags": []
   },
   "outputs": [
    {
     "data": {
      "text/html": [
       "<div>\n",
       "<style scoped>\n",
       "    .dataframe tbody tr th:only-of-type {\n",
       "        vertical-align: middle;\n",
       "    }\n",
       "\n",
       "    .dataframe tbody tr th {\n",
       "        vertical-align: top;\n",
       "    }\n",
       "\n",
       "    .dataframe thead th {\n",
       "        text-align: right;\n",
       "    }\n",
       "</style>\n",
       "<table border=\"1\" class=\"dataframe\">\n",
       "  <thead>\n",
       "    <tr style=\"text-align: right;\">\n",
       "      <th></th>\n",
       "      <th>appyear</th>\n",
       "      <th>gyear</th>\n",
       "      <th>citation</th>\n",
       "      <th>class</th>\n",
       "      <th>subclass</th>\n",
       "      <th>Patent</th>\n",
       "    </tr>\n",
       "  </thead>\n",
       "  <tbody>\n",
       "    <tr>\n",
       "      <th>0</th>\n",
       "      <td>1941</td>\n",
       "      <td>0</td>\n",
       "      <td>0.0</td>\n",
       "      <td>0</td>\n",
       "      <td>0.0</td>\n",
       "      <td>p1</td>\n",
       "    </tr>\n",
       "    <tr>\n",
       "      <th>1</th>\n",
       "      <td>1941</td>\n",
       "      <td>0</td>\n",
       "      <td>0.0</td>\n",
       "      <td>0</td>\n",
       "      <td>0.0</td>\n",
       "      <td>p1</td>\n",
       "    </tr>\n",
       "    <tr>\n",
       "      <th>2</th>\n",
       "      <td>1941</td>\n",
       "      <td>0</td>\n",
       "      <td>0.0</td>\n",
       "      <td>0</td>\n",
       "      <td>0.0</td>\n",
       "      <td>p1</td>\n",
       "    </tr>\n",
       "    <tr>\n",
       "      <th>3</th>\n",
       "      <td>1941</td>\n",
       "      <td>0</td>\n",
       "      <td>0.0</td>\n",
       "      <td>0</td>\n",
       "      <td>0.0</td>\n",
       "      <td>p1</td>\n",
       "    </tr>\n",
       "    <tr>\n",
       "      <th>4</th>\n",
       "      <td>1941</td>\n",
       "      <td>0</td>\n",
       "      <td>0.0</td>\n",
       "      <td>0</td>\n",
       "      <td>0.0</td>\n",
       "      <td>p1</td>\n",
       "    </tr>\n",
       "    <tr>\n",
       "      <th>...</th>\n",
       "      <td>...</td>\n",
       "      <td>...</td>\n",
       "      <td>...</td>\n",
       "      <td>...</td>\n",
       "      <td>...</td>\n",
       "      <td>...</td>\n",
       "    </tr>\n",
       "    <tr>\n",
       "      <th>3984766</th>\n",
       "      <td>2005</td>\n",
       "      <td>2010</td>\n",
       "      <td>0.0</td>\n",
       "      <td>0</td>\n",
       "      <td>0.0</td>\n",
       "      <td>p4</td>\n",
       "    </tr>\n",
       "    <tr>\n",
       "      <th>3984767</th>\n",
       "      <td>2005</td>\n",
       "      <td>2010</td>\n",
       "      <td>0.0</td>\n",
       "      <td>0</td>\n",
       "      <td>0.0</td>\n",
       "      <td>p4</td>\n",
       "    </tr>\n",
       "    <tr>\n",
       "      <th>3984768</th>\n",
       "      <td>2006</td>\n",
       "      <td>2010</td>\n",
       "      <td>0.0</td>\n",
       "      <td>0</td>\n",
       "      <td>0.0</td>\n",
       "      <td>p4</td>\n",
       "    </tr>\n",
       "    <tr>\n",
       "      <th>3984769</th>\n",
       "      <td>2005</td>\n",
       "      <td>2010</td>\n",
       "      <td>0.0</td>\n",
       "      <td>0</td>\n",
       "      <td>0.0</td>\n",
       "      <td>p4</td>\n",
       "    </tr>\n",
       "    <tr>\n",
       "      <th>3984770</th>\n",
       "      <td>2007</td>\n",
       "      <td>2010</td>\n",
       "      <td>0.0</td>\n",
       "      <td>0</td>\n",
       "      <td>0.0</td>\n",
       "      <td>p4</td>\n",
       "    </tr>\n",
       "  </tbody>\n",
       "</table>\n",
       "<p>55725301 rows × 6 columns</p>\n",
       "</div>"
      ],
      "text/plain": [
       "         appyear  gyear  citation  class  subclass Patent\n",
       "0           1941      0       0.0      0       0.0     p1\n",
       "1           1941      0       0.0      0       0.0     p1\n",
       "2           1941      0       0.0      0       0.0     p1\n",
       "3           1941      0       0.0      0       0.0     p1\n",
       "4           1941      0       0.0      0       0.0     p1\n",
       "...          ...    ...       ...    ...       ...    ...\n",
       "3984766     2005   2010       0.0      0       0.0     p4\n",
       "3984767     2005   2010       0.0      0       0.0     p4\n",
       "3984768     2006   2010       0.0      0       0.0     p4\n",
       "3984769     2005   2010       0.0      0       0.0     p4\n",
       "3984770     2007   2010       0.0      0       0.0     p4\n",
       "\n",
       "[55725301 rows x 6 columns]"
      ]
     },
     "execution_count": 103,
     "metadata": {},
     "output_type": "execute_result"
    }
   ],
   "source": [
    "new_data"
   ]
  },
  {
   "cell_type": "code",
   "execution_count": 104,
   "id": "8df9e9c9-575d-4c37-b19b-820af263f9e5",
   "metadata": {},
   "outputs": [
    {
     "name": "stderr",
     "output_type": "stream",
     "text": [
      "C:\\Users\\raman\\AppData\\Local\\Temp\\ipykernel_15964\\2218989749.py:1: SettingWithCopyWarning: \n",
      "A value is trying to be set on a copy of a slice from a DataFrame\n",
      "\n",
      "See the caveats in the documentation: https://pandas.pydata.org/pandas-docs/stable/user_guide/indexing.html#returning-a-view-versus-a-copy\n",
      "  new_data.drop(['gyear'], axis=1, inplace = True)\n"
     ]
    }
   ],
   "source": [
    "new_data.drop(['gyear'], axis=1, inplace = True)"
   ]
  },
  {
   "cell_type": "code",
   "execution_count": 105,
   "id": "d3dd5522-3bf7-488e-bd06-9ac88f45b0a1",
   "metadata": {
    "tags": []
   },
   "outputs": [],
   "source": [
    "df = new_data.groupby('Patent').quantile(1.0)"
   ]
  },
  {
   "cell_type": "code",
   "execution_count": 106,
   "id": "8e387926-9a66-49de-898e-5dfc0e7b139b",
   "metadata": {
    "tags": []
   },
   "outputs": [
    {
     "data": {
      "text/html": [
       "<div>\n",
       "<style scoped>\n",
       "    .dataframe tbody tr th:only-of-type {\n",
       "        vertical-align: middle;\n",
       "    }\n",
       "\n",
       "    .dataframe tbody tr th {\n",
       "        vertical-align: top;\n",
       "    }\n",
       "\n",
       "    .dataframe thead th {\n",
       "        text-align: right;\n",
       "    }\n",
       "</style>\n",
       "<table border=\"1\" class=\"dataframe\">\n",
       "  <thead>\n",
       "    <tr style=\"text-align: right;\">\n",
       "      <th></th>\n",
       "      <th>appyear</th>\n",
       "      <th>citation</th>\n",
       "      <th>class</th>\n",
       "      <th>subclass</th>\n",
       "    </tr>\n",
       "    <tr>\n",
       "      <th>Patent</th>\n",
       "      <th></th>\n",
       "      <th></th>\n",
       "      <th></th>\n",
       "      <th></th>\n",
       "    </tr>\n",
       "  </thead>\n",
       "  <tbody>\n",
       "    <tr>\n",
       "      <th>p1</th>\n",
       "      <td>1997.0</td>\n",
       "      <td>5.853099e+06</td>\n",
       "      <td>987.0</td>\n",
       "      <td>999.0</td>\n",
       "    </tr>\n",
       "    <tr>\n",
       "      <th>p2</th>\n",
       "      <td>2003.0</td>\n",
       "      <td>7.470290e+06</td>\n",
       "      <td>987.0</td>\n",
       "      <td>999.0</td>\n",
       "    </tr>\n",
       "    <tr>\n",
       "      <th>p3</th>\n",
       "      <td>2007.0</td>\n",
       "      <td>9.200000e+13</td>\n",
       "      <td>997.0</td>\n",
       "      <td>898069.0</td>\n",
       "    </tr>\n",
       "    <tr>\n",
       "      <th>p4</th>\n",
       "      <td>2010.0</td>\n",
       "      <td>1.020050e+15</td>\n",
       "      <td>999.0</td>\n",
       "      <td>999741.0</td>\n",
       "    </tr>\n",
       "  </tbody>\n",
       "</table>\n",
       "</div>"
      ],
      "text/plain": [
       "        appyear      citation  class  subclass\n",
       "Patent                                        \n",
       "p1       1997.0  5.853099e+06  987.0     999.0\n",
       "p2       2003.0  7.470290e+06  987.0     999.0\n",
       "p3       2007.0  9.200000e+13  997.0  898069.0\n",
       "p4       2010.0  1.020050e+15  999.0  999741.0"
      ]
     },
     "execution_count": 106,
     "metadata": {},
     "output_type": "execute_result"
    }
   ],
   "source": [
    "df"
   ]
  },
  {
   "cell_type": "code",
   "execution_count": 107,
   "id": "332f9267-5985-41a3-984e-0c5047091c75",
   "metadata": {
    "tags": []
   },
   "outputs": [
    {
     "name": "stdout",
     "output_type": "stream",
     "text": [
      "<class 'pandas.core.frame.DataFrame'>\n",
      "CategoricalIndex: 4 entries, p1 to p4\n",
      "Data columns (total 4 columns):\n",
      " #   Column    Non-Null Count  Dtype  \n",
      "---  ------    --------------  -----  \n",
      " 0   appyear   4 non-null      float64\n",
      " 1   citation  4 non-null      float64\n",
      " 2   class     4 non-null      float64\n",
      " 3   subclass  4 non-null      float64\n",
      "dtypes: float64(4)\n",
      "memory usage: 336.0 bytes\n"
     ]
    }
   ],
   "source": [
    "df.info()"
   ]
  },
  {
   "cell_type": "code",
   "execution_count": 108,
   "id": "839e0d2b-22d7-4dbd-b16e-b1572c62f3bc",
   "metadata": {
    "tags": []
   },
   "outputs": [
    {
     "data": {
      "text/html": [
       "<div>\n",
       "<style scoped>\n",
       "    .dataframe tbody tr th:only-of-type {\n",
       "        vertical-align: middle;\n",
       "    }\n",
       "\n",
       "    .dataframe tbody tr th {\n",
       "        vertical-align: top;\n",
       "    }\n",
       "\n",
       "    .dataframe thead th {\n",
       "        text-align: right;\n",
       "    }\n",
       "</style>\n",
       "<table border=\"1\" class=\"dataframe\">\n",
       "  <thead>\n",
       "    <tr style=\"text-align: right;\">\n",
       "      <th></th>\n",
       "      <th>appyear</th>\n",
       "      <th>citation</th>\n",
       "      <th>class</th>\n",
       "      <th>subclass</th>\n",
       "    </tr>\n",
       "    <tr>\n",
       "      <th>Patent</th>\n",
       "      <th></th>\n",
       "      <th></th>\n",
       "      <th></th>\n",
       "      <th></th>\n",
       "    </tr>\n",
       "  </thead>\n",
       "  <tbody>\n",
       "    <tr>\n",
       "      <th>p1</th>\n",
       "      <td>1997.0</td>\n",
       "      <td>5.853099e+06</td>\n",
       "      <td>987.0</td>\n",
       "      <td>999.0</td>\n",
       "    </tr>\n",
       "    <tr>\n",
       "      <th>p2</th>\n",
       "      <td>2003.0</td>\n",
       "      <td>7.470290e+06</td>\n",
       "      <td>987.0</td>\n",
       "      <td>999.0</td>\n",
       "    </tr>\n",
       "    <tr>\n",
       "      <th>p3</th>\n",
       "      <td>2007.0</td>\n",
       "      <td>9.200000e+13</td>\n",
       "      <td>997.0</td>\n",
       "      <td>898069.0</td>\n",
       "    </tr>\n",
       "    <tr>\n",
       "      <th>p4</th>\n",
       "      <td>2010.0</td>\n",
       "      <td>1.020050e+15</td>\n",
       "      <td>999.0</td>\n",
       "      <td>999741.0</td>\n",
       "    </tr>\n",
       "  </tbody>\n",
       "</table>\n",
       "</div>"
      ],
      "text/plain": [
       "        appyear      citation  class  subclass\n",
       "Patent                                        \n",
       "p1       1997.0  5.853099e+06  987.0     999.0\n",
       "p2       2003.0  7.470290e+06  987.0     999.0\n",
       "p3       2007.0  9.200000e+13  997.0  898069.0\n",
       "p4       2010.0  1.020050e+15  999.0  999741.0"
      ]
     },
     "execution_count": 108,
     "metadata": {},
     "output_type": "execute_result"
    }
   ],
   "source": [
    "df"
   ]
  },
  {
   "cell_type": "code",
   "execution_count": 109,
   "id": "8cb7a010-fc77-4a4e-812b-4d6a9f87dabe",
   "metadata": {},
   "outputs": [],
   "source": [
    "df['citation'] = df['citation'].replace([5.853099e+06,7.470290e+06], ['c1', 'c2'])"
   ]
  },
  {
   "cell_type": "code",
   "execution_count": 110,
   "id": "6b9838a8-6404-41a3-a220-b3454a624f4c",
   "metadata": {
    "tags": []
   },
   "outputs": [],
   "source": [
    "df['citation'] = df['citation'].replace([92000000195895.0,1020050050058722.0], ['c3', 'c4'])"
   ]
  },
  {
   "cell_type": "code",
   "execution_count": 111,
   "id": "7131aa6c-d965-47dc-a734-ed880bd35ea2",
   "metadata": {
    "tags": []
   },
   "outputs": [
    {
     "data": {
      "text/plain": [
       "Patent\n",
       "p1    c1\n",
       "p2    c2\n",
       "p3    c3\n",
       "p4    c4\n",
       "Name: citation, dtype: object"
      ]
     },
     "execution_count": 111,
     "metadata": {},
     "output_type": "execute_result"
    }
   ],
   "source": [
    "df['citation']"
   ]
  },
  {
   "cell_type": "code",
   "execution_count": 112,
   "id": "83ea79d9-f294-468c-83c2-4a7faf32227f",
   "metadata": {
    "tags": []
   },
   "outputs": [],
   "source": [
    "df['class'] = df['class'].replace([987.0,987.0,997.0, 999.0], ['k1','k2', 'k3', 'k4'])"
   ]
  },
  {
   "cell_type": "code",
   "execution_count": 113,
   "id": "29a9fb56-b679-46a1-ac5a-e045d4b8cafa",
   "metadata": {
    "tags": []
   },
   "outputs": [],
   "source": [
    "df['subclass'] = df['subclass'].replace([999.0,999.0,898069.0, 999741.0], ['s1','s2', 's3', 's4'])"
   ]
  },
  {
   "cell_type": "code",
   "execution_count": 114,
   "id": "4a2a5a82-75da-49a3-8f9b-967edeb7c1e1",
   "metadata": {
    "tags": []
   },
   "outputs": [],
   "source": [
    "df['appyear'] = df['appyear'].replace([1997.0,2003.0, 2007.0, 2010.0], ['y1', 'y2', 'y3', 'y4'])"
   ]
  },
  {
   "cell_type": "code",
   "execution_count": 115,
   "id": "d943988b-4b18-42d8-82de-13469ec21c36",
   "metadata": {
    "tags": []
   },
   "outputs": [
    {
     "data": {
      "text/html": [
       "<div>\n",
       "<style scoped>\n",
       "    .dataframe tbody tr th:only-of-type {\n",
       "        vertical-align: middle;\n",
       "    }\n",
       "\n",
       "    .dataframe tbody tr th {\n",
       "        vertical-align: top;\n",
       "    }\n",
       "\n",
       "    .dataframe thead th {\n",
       "        text-align: right;\n",
       "    }\n",
       "</style>\n",
       "<table border=\"1\" class=\"dataframe\">\n",
       "  <thead>\n",
       "    <tr style=\"text-align: right;\">\n",
       "      <th></th>\n",
       "      <th>appyear</th>\n",
       "      <th>citation</th>\n",
       "      <th>class</th>\n",
       "      <th>subclass</th>\n",
       "    </tr>\n",
       "    <tr>\n",
       "      <th>Patent</th>\n",
       "      <th></th>\n",
       "      <th></th>\n",
       "      <th></th>\n",
       "      <th></th>\n",
       "    </tr>\n",
       "  </thead>\n",
       "  <tbody>\n",
       "    <tr>\n",
       "      <th>p1</th>\n",
       "      <td>y1</td>\n",
       "      <td>c1</td>\n",
       "      <td>k2</td>\n",
       "      <td>s2</td>\n",
       "    </tr>\n",
       "    <tr>\n",
       "      <th>p2</th>\n",
       "      <td>y2</td>\n",
       "      <td>c2</td>\n",
       "      <td>k2</td>\n",
       "      <td>s2</td>\n",
       "    </tr>\n",
       "    <tr>\n",
       "      <th>p3</th>\n",
       "      <td>y3</td>\n",
       "      <td>c3</td>\n",
       "      <td>k3</td>\n",
       "      <td>s3</td>\n",
       "    </tr>\n",
       "    <tr>\n",
       "      <th>p4</th>\n",
       "      <td>y4</td>\n",
       "      <td>c4</td>\n",
       "      <td>k4</td>\n",
       "      <td>s4</td>\n",
       "    </tr>\n",
       "  </tbody>\n",
       "</table>\n",
       "</div>"
      ],
      "text/plain": [
       "       appyear citation class subclass\n",
       "Patent                                \n",
       "p1          y1       c1    k2       s2\n",
       "p2          y2       c2    k2       s2\n",
       "p3          y3       c3    k3       s3\n",
       "p4          y4       c4    k4       s4"
      ]
     },
     "execution_count": 115,
     "metadata": {},
     "output_type": "execute_result"
    }
   ],
   "source": [
    "df"
   ]
  },
  {
   "cell_type": "code",
   "execution_count": 120,
   "id": "a40fbe3a-4388-4781-9893-43819d872051",
   "metadata": {
    "tags": []
   },
   "outputs": [],
   "source": [
    "df.iloc[0,2] = 'k1'"
   ]
  },
  {
   "cell_type": "code",
   "execution_count": 121,
   "id": "d8000864-807d-46ae-b7f1-57cbacd0ff4f",
   "metadata": {
    "tags": []
   },
   "outputs": [],
   "source": [
    "df.iloc[0,3] = 's1'"
   ]
  },
  {
   "cell_type": "code",
   "execution_count": 123,
   "id": "b24cc147-9542-48ba-a7c6-795eda8314fe",
   "metadata": {
    "tags": []
   },
   "outputs": [
    {
     "data": {
      "text/html": [
       "<div>\n",
       "<style scoped>\n",
       "    .dataframe tbody tr th:only-of-type {\n",
       "        vertical-align: middle;\n",
       "    }\n",
       "\n",
       "    .dataframe tbody tr th {\n",
       "        vertical-align: top;\n",
       "    }\n",
       "\n",
       "    .dataframe thead th {\n",
       "        text-align: right;\n",
       "    }\n",
       "</style>\n",
       "<table border=\"1\" class=\"dataframe\">\n",
       "  <thead>\n",
       "    <tr style=\"text-align: right;\">\n",
       "      <th></th>\n",
       "      <th>appyear</th>\n",
       "      <th>citation</th>\n",
       "      <th>class</th>\n",
       "      <th>subclass</th>\n",
       "    </tr>\n",
       "    <tr>\n",
       "      <th>Patent</th>\n",
       "      <th></th>\n",
       "      <th></th>\n",
       "      <th></th>\n",
       "      <th></th>\n",
       "    </tr>\n",
       "  </thead>\n",
       "  <tbody>\n",
       "    <tr>\n",
       "      <th>p1</th>\n",
       "      <td>Jack</td>\n",
       "      <td>c1</td>\n",
       "      <td>k1</td>\n",
       "      <td>s1</td>\n",
       "    </tr>\n",
       "    <tr>\n",
       "      <th>p2</th>\n",
       "      <td>y2</td>\n",
       "      <td>c2</td>\n",
       "      <td>k2</td>\n",
       "      <td>s2</td>\n",
       "    </tr>\n",
       "    <tr>\n",
       "      <th>p3</th>\n",
       "      <td>y3</td>\n",
       "      <td>c3</td>\n",
       "      <td>k3</td>\n",
       "      <td>s3</td>\n",
       "    </tr>\n",
       "    <tr>\n",
       "      <th>p4</th>\n",
       "      <td>y4</td>\n",
       "      <td>c4</td>\n",
       "      <td>k4</td>\n",
       "      <td>s4</td>\n",
       "    </tr>\n",
       "  </tbody>\n",
       "</table>\n",
       "</div>"
      ],
      "text/plain": [
       "       appyear citation class subclass\n",
       "Patent                                \n",
       "p1        Jack       c1    k1       s1\n",
       "p2          y2       c2    k2       s2\n",
       "p3          y3       c3    k3       s3\n",
       "p4          y4       c4    k4       s4"
      ]
     },
     "execution_count": 123,
     "metadata": {},
     "output_type": "execute_result"
    }
   ],
   "source": [
    "df"
   ]
  },
  {
   "cell_type": "code",
   "execution_count": 127,
   "id": "cf4f7f0d-03e3-44e1-9e0f-775a2574acc5",
   "metadata": {
    "tags": []
   },
   "outputs": [],
   "source": [
    "df.iloc[0,1] = 'c1'"
   ]
  },
  {
   "cell_type": "code",
   "execution_count": 126,
   "id": "540dfa32-df1e-4e2f-a17d-691b14c4e429",
   "metadata": {
    "tags": []
   },
   "outputs": [],
   "source": [
    "df.iloc[0,0] = 'y1'"
   ]
  },
  {
   "cell_type": "code",
   "execution_count": 128,
   "id": "b0ac29e9-29b4-411c-a26b-fd4a51937404",
   "metadata": {
    "tags": []
   },
   "outputs": [
    {
     "data": {
      "text/html": [
       "<div>\n",
       "<style scoped>\n",
       "    .dataframe tbody tr th:only-of-type {\n",
       "        vertical-align: middle;\n",
       "    }\n",
       "\n",
       "    .dataframe tbody tr th {\n",
       "        vertical-align: top;\n",
       "    }\n",
       "\n",
       "    .dataframe thead th {\n",
       "        text-align: right;\n",
       "    }\n",
       "</style>\n",
       "<table border=\"1\" class=\"dataframe\">\n",
       "  <thead>\n",
       "    <tr style=\"text-align: right;\">\n",
       "      <th></th>\n",
       "      <th>appyear</th>\n",
       "      <th>citation</th>\n",
       "      <th>class</th>\n",
       "      <th>subclass</th>\n",
       "    </tr>\n",
       "    <tr>\n",
       "      <th>Patent</th>\n",
       "      <th></th>\n",
       "      <th></th>\n",
       "      <th></th>\n",
       "      <th></th>\n",
       "    </tr>\n",
       "  </thead>\n",
       "  <tbody>\n",
       "    <tr>\n",
       "      <th>p1</th>\n",
       "      <td>y1</td>\n",
       "      <td>c1</td>\n",
       "      <td>k1</td>\n",
       "      <td>s1</td>\n",
       "    </tr>\n",
       "    <tr>\n",
       "      <th>p2</th>\n",
       "      <td>y2</td>\n",
       "      <td>c2</td>\n",
       "      <td>k2</td>\n",
       "      <td>s2</td>\n",
       "    </tr>\n",
       "    <tr>\n",
       "      <th>p3</th>\n",
       "      <td>y3</td>\n",
       "      <td>c3</td>\n",
       "      <td>k3</td>\n",
       "      <td>s3</td>\n",
       "    </tr>\n",
       "    <tr>\n",
       "      <th>p4</th>\n",
       "      <td>y4</td>\n",
       "      <td>c4</td>\n",
       "      <td>k4</td>\n",
       "      <td>s4</td>\n",
       "    </tr>\n",
       "  </tbody>\n",
       "</table>\n",
       "</div>"
      ],
      "text/plain": [
       "       appyear citation class subclass\n",
       "Patent                                \n",
       "p1          y1       c1    k1       s1\n",
       "p2          y2       c2    k2       s2\n",
       "p3          y3       c3    k3       s3\n",
       "p4          y4       c4    k4       s4"
      ]
     },
     "execution_count": 128,
     "metadata": {},
     "output_type": "execute_result"
    }
   ],
   "source": [
    "df"
   ]
  },
  {
   "cell_type": "code",
   "execution_count": null,
   "id": "9482e404-bdff-4e35-a0ba-b28b073b12f0",
   "metadata": {},
   "outputs": [],
   "source": []
  }
 ],
 "metadata": {
  "kernelspec": {
   "display_name": "Python 3 (ipykernel)",
   "language": "python",
   "name": "python3"
  },
  "language_info": {
   "codemirror_mode": {
    "name": "ipython",
    "version": 3
   },
   "file_extension": ".py",
   "mimetype": "text/x-python",
   "name": "python",
   "nbconvert_exporter": "python",
   "pygments_lexer": "ipython3",
   "version": "3.9.8"
  }
 },
 "nbformat": 4,
 "nbformat_minor": 5
}
